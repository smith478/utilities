{
 "cells": [
  {
   "cell_type": "markdown",
   "id": "ccfcf460-149a-493a-869a-b94c5b3858a4",
   "metadata": {},
   "source": [
    "This follows the hugging face agents course - section 2.1. The only difference is that we'll use local models with Ollama rather than the API from hugging face"
   ]
  },
  {
   "cell_type": "markdown",
   "id": "ebee0041-e23a-4232-97c1-3aee9d00f80c",
   "metadata": {},
   "source": [
    "## Selecting a Playlist for the Party Using smolagents\n",
    "\n",
    "An important part of a successful party is the music. Alfred needs some help selecting the playlist. Luckily, `smolagents` has got us covered! We can build an agent capable of searching the web using `DuckDuckGo`. To give the agent access to this tool, we include it in the tool list when creating the agent.\n",
    "\n",
    "For the model, we'll rely on `LiteLLMModel` (with Ollama), which the `CodeAgent` class in `smolagents` is compatible with. The model we will use is \"qwen3:8b\", which is performant and available for fast inference.\n",
    "\n",
    "Running an agent is quite straightforward:"
   ]
  },
  {
   "cell_type": "code",
   "execution_count": null,
   "id": "89fb3cd0-2a21-4b9d-8e67-37ef4085797c",
   "metadata": {
    "scrolled": true
   },
   "outputs": [],
   "source": [
    "from smolagents import CodeAgent, DuckDuckGoSearchTool\n",
    "from smolagents.models import LiteLLMModel\n",
    "\n",
    "# Make sure your Ollama server is running\n",
    "# Initialize the model, pointing to your local Ollama instance\n",
    "# The model name should be prefixed with \"ollama_chat/\"\n",
    "local_model = LiteLLMModel(model_id=\"ollama_chat/qwen3:8b\")\n",
    "\n",
    "# Create the agent with the local model and search tool\n",
    "agent = CodeAgent(tools=[DuckDuckGoSearchTool()], model=local_model)\n",
    "\n",
    "# Run the agent with your prompt\n",
    "agent.run(\"Search for the best music recommendations for a party at the Wayne's mansion.\")"
   ]
  },
  {
   "cell_type": "markdown",
   "id": "b3c57501-a25d-46fe-af41-1e081893a9ff",
   "metadata": {},
   "source": [
    "## Using a Custom Tool to Prepare the Menu\n",
    "\n",
    "Now that we have selected a playlist, we need to organize the menu for the guests. Again, Alfred can take advantage of `smolagents` to do so. Here, we use the `@tool` decorator to define a custom function that acts as a tool. We'll cover tool creation in more detail later, so for now, we can simply run the code.\n",
    "\n",
    "As you can see in the example below, we will create a tool using `@tool` decorator and include it in the tools list."
   ]
  },
  {
   "cell_type": "code",
   "execution_count": null,
   "id": "c89a6443-d1df-4d5a-99ac-747f9c4cc6a0",
   "metadata": {},
   "outputs": [],
   "source": [
    "from smolagents import CodeAgent, tool\n",
    "\n",
    "@tool\n",
    "def suggest_menu(occasion: str) -> str:\n",
    "    \"\"\"\n",
    "    Suggests a menu based on the occasion.\n",
    "    Args:\n",
    "        occasion (str): The type of occasion for the party. Allowed values are:\n",
    "                        - \"casual\": Menu for casual party.\n",
    "                        - \"formal\": Menu for formal party.\n",
    "                        - \"superhero\": Menu for superhero party.\n",
    "                        - \"custom\": Custom menu.\n",
    "    \"\"\"\n",
    "    if occasion == \"casual\":\n",
    "        return \"Pizza, snacks, and drinks.\"\n",
    "    elif occasion == \"formal\":\n",
    "        return \"3-course dinner with wine and dessert.\"\n",
    "    elif occasion == \"superhero\":\n",
    "        return \"Buffet with high-energy and healthy food.\"\n",
    "    else:\n",
    "        return \"Custom menu for the butler.\"\n",
    "\n",
    "agent = CodeAgent(tools=[suggest_menu], model=local_model)\n",
    "\n",
    "agent.run(\"Prepare a formal menu for the party.\")"
   ]
  },
  {
   "cell_type": "markdown",
   "id": "f5d5317f-d7b7-4aca-8810-34dce214e0d9",
   "metadata": {},
   "source": [
    "## Using Python Imports Inside the Agent\n",
    "We have the playlist and menu ready, but we need to check one more crucial detail: preparation time!\n",
    "\n",
    "Alfred needs to calculate when everything would be ready if he started preparing now, in case they need assistance from other superheroes.\n",
    "\n",
    "`smolagents` specializes in agents that write and execute Python code snippets, offering sandboxed execution for security. It supports both open-source and proprietary language models, making it adaptable to various development environments.\n",
    "\n",
    "**Code execution has strict security measures** - imports outside a predefined safe list are blocked by default. However, you can authorize additional imports by passing them as strings in `additional_authorized_imports`. For more details on secure code execution, see the official guide.\n",
    "\n",
    "When creating the agent, we ill use `additional_authorized_imports` to allow for importing the `datetime` module."
   ]
  },
  {
   "cell_type": "code",
   "execution_count": null,
   "id": "c13d8234-cd6c-4490-8b71-99bc944f1eab",
   "metadata": {},
   "outputs": [],
   "source": [
    "from smolagents import CodeAgent\n",
    "import numpy as np\n",
    "import time\n",
    "import datetime\n",
    "\n",
    "agent = CodeAgent(tools=[], model=local_model, additional_authorized_imports=['datetime'])\n",
    "\n",
    "agent.run(\n",
    "    \"\"\"\n",
    "    Alfred needs to prepare for the party. Here are the tasks:\n",
    "    1. Prepare the drinks - 30 minutes\n",
    "    2. Decorate the mansion - 60 minutes\n",
    "    3. Set up the menu - 45 minutes\n",
    "    3. Prepare the music and playlist - 45 minutes\n",
    "\n",
    "    If we start right now (use the current time), at what time will the party be ready?\n",
    "    \"\"\"\n",
    ")"
   ]
  },
  {
   "cell_type": "markdown",
   "id": "d711dfe6-1718-4032-83f3-110d44ae4fb8",
   "metadata": {},
   "source": [
    "## Sharing Our Custom Party Preparator Agent to the Hub\n",
    "Wouldn't it be amazing to share our very own Alfred agent with the community? By doing so, anyone can easily download and use the agent directly from the Hub, bringing the ultimate party planner of Gotham to their fingertips! Let's make it happen! 🎉\n",
    "\n",
    "The `smolagents` library makes this possible by allowing you to share a complete agent with the community and download others for immediate use. It's as simple as the following:"
   ]
  },
  {
   "cell_type": "code",
   "execution_count": null,
   "id": "6eb0cb62-6383-444f-a0c1-f386de1836e1",
   "metadata": {
    "scrolled": true
   },
   "outputs": [],
   "source": [
    "from smolagents import CodeAgent, DuckDuckGoSearchTool, VisitWebpageTool, FinalAnswerTool, Tool, tool\n",
    "\n",
    "@tool\n",
    "def suggest_menu(occasion: str) -> str:\n",
    "    \"\"\"\n",
    "    Suggests a menu based on the occasion.\n",
    "    Args:\n",
    "        occasion: The type of occasion for the party.\n",
    "    \"\"\"\n",
    "    if occasion == \"casual\":\n",
    "        return \"Pizza, snacks, and drinks.\"\n",
    "    elif occasion == \"formal\":\n",
    "        return \"3-course dinner with wine and dessert.\"\n",
    "    elif occasion == \"superhero\":\n",
    "        return \"Buffet with high-energy and healthy food.\"\n",
    "    else:\n",
    "        return \"Custom menu for the butler.\"\n",
    "\n",
    "@tool\n",
    "def catering_service_tool(query: str) -> str:\n",
    "    \"\"\"\n",
    "    This tool returns the highest-rated catering service in Gotham City.\n",
    "\n",
    "    Args:\n",
    "        query: A search term for finding catering services.\n",
    "    \"\"\"\n",
    "    # Example list of catering services and their ratings\n",
    "    services = {\n",
    "        \"Gotham Catering Co.\": 4.9,\n",
    "        \"Wayne Manor Catering\": 4.8,\n",
    "        \"Gotham City Events\": 4.7,\n",
    "    }\n",
    "\n",
    "    # Find the highest rated catering service (simulating search query filtering)\n",
    "    best_service = max(services, key=services.get)\n",
    "\n",
    "    return best_service\n",
    "\n",
    "class SuperheroPartyThemeTool(Tool):\n",
    "    name = \"superhero_party_theme_generator\"\n",
    "    description = \"\"\"\n",
    "    This tool suggests creative superhero-themed party ideas based on a category.\n",
    "    It returns a unique party theme idea.\"\"\"\n",
    "\n",
    "    inputs = {\n",
    "        \"category\": {\n",
    "            \"type\": \"string\",\n",
    "            \"description\": \"The type of superhero party (e.g., 'classic heroes', 'villain masquerade', 'futuristic gotham').\",\n",
    "        }\n",
    "    }\n",
    "\n",
    "    output_type = \"string\"\n",
    "\n",
    "    def forward(self, category: str):\n",
    "        themes = {\n",
    "            \"classic heroes\": \"Justice League Gala: Guests come dressed as their favorite DC heroes with themed cocktails like 'The Kryptonite Punch'.\",\n",
    "            \"villain masquerade\": \"Gotham Rogues' Ball: A mysterious masquerade where guests dress as classic Batman villains.\",\n",
    "            \"futuristic gotham\": \"Neo-Gotham Night: A cyberpunk-style party inspired by Batman Beyond, with neon decorations and futuristic gadgets.\"\n",
    "        }\n",
    "\n",
    "        return themes.get(category.lower(), \"Themed party idea not found. Try 'classic heroes', 'villain masquerade', or 'futuristic gotham'.\")\n",
    "\n",
    "\n",
    "# Alfred, the butler, preparing the menu for the party\n",
    "agent = CodeAgent(\n",
    "    tools=[\n",
    "        DuckDuckGoSearchTool(),\n",
    "        VisitWebpageTool(),\n",
    "        suggest_menu,\n",
    "        catering_service_tool,\n",
    "        SuperheroPartyThemeTool()\n",
    "        ],\n",
    "    model=local_model,\n",
    "    max_steps=10,\n",
    "    verbosity_level=2\n",
    ")\n",
    "\n",
    "agent.run(\"Give me best playlist for a party at the Wayne's mansion. The party idea is a 'villain masquerade' theme\")"
   ]
  },
  {
   "cell_type": "code",
   "execution_count": null,
   "id": "784d060b-1da9-4d4a-9129-2618772bcd2b",
   "metadata": {},
   "outputs": [],
   "source": [
    "!uv pip install smolagents[telemetry]"
   ]
  },
  {
   "cell_type": "markdown",
   "id": "9344eb8a-b101-4678-8746-4bff7cc0a769",
   "metadata": {},
   "source": [
    "## Inspecting Our Party Preparator Agent with OpenTelemetry and Langfuse 📡\n",
    "\n",
    "As Alfred fine-tunes the Party Preparator Agent, he's growing weary of debugging its runs. Agents, by nature, are unpredictable and difficult to inspect. But since he aims to build the ultimate Party Preparator Agent and deploy it in production, he needs robust traceability for future monitoring and analysis.\n",
    "\n",
    "Once again, smolagents comes to the rescue! It embraces the OpenTelemetry standard for instrumenting agent runs, allowing seamless inspection and logging. With the help of Langfuse and the SmolagentsInstrumentor, Alfred can easily track and analyze his agent’s behavior.\n",
    "\n",
    "Setting it up is straightforward!"
   ]
  },
  {
   "cell_type": "code",
   "execution_count": null,
   "id": "b98d3adc-28a7-4494-8492-16b41dddf86b",
   "metadata": {},
   "outputs": [],
   "source": [
    "import os\n",
    "import base64\n",
    "from dotenv import load_dotenv\n",
    "\n",
    "# Load environment variables from .env file\n",
    "load_dotenv()\n",
    "\n",
    "LANGFUSE_PUBLIC_KEY = os.getenv(\"LANGFUSE_PUBLIC_KEY\")\n",
    "LANGFUSE_SECRET_KEY = os.getenv(\"LANGFUSE_SECRET_KEY\")\n",
    "LANGFUSE_AUTH = base64.b64encode(f\"{LANGFUSE_PUBLIC_KEY}:{LANGFUSE_SECRET_KEY}\".encode()).decode()\n",
    "\n",
    "# os.environ[\"OTEL_EXPORTER_OTLP_ENDPOINT\"] = \"https://cloud.langfuse.com/api/public/otel\" # EU data region\n",
    "os.environ[\"OTEL_EXPORTER_OTLP_ENDPOINT\"] = \"https://us.cloud.langfuse.com/api/public/otel\" # US data region\n",
    "os.environ[\"OTEL_EXPORTER_OTLP_HEADERS\"] = f\"Authorization=Basic {LANGFUSE_AUTH}\""
   ]
  },
  {
   "cell_type": "markdown",
   "id": "67ae9b79-3fb4-4569-859e-eff22534052c",
   "metadata": {},
   "source": [
    "We can now initialize the `SmolagentsInstrumentor` and start tracking the agent's performance."
   ]
  },
  {
   "cell_type": "code",
   "execution_count": null,
   "id": "1eb683b9-455b-4615-a87a-1b76292b82b9",
   "metadata": {},
   "outputs": [],
   "source": [
    "from opentelemetry.sdk.trace import TracerProvider\n",
    "\n",
    "from openinference.instrumentation.smolagents import SmolagentsInstrumentor\n",
    "from opentelemetry.exporter.otlp.proto.http.trace_exporter import OTLPSpanExporter\n",
    "from opentelemetry.sdk.trace.export import SimpleSpanProcessor\n",
    "\n",
    "trace_provider = TracerProvider()\n",
    "trace_provider.add_span_processor(SimpleSpanProcessor(OTLPSpanExporter()))\n",
    "\n",
    "SmolagentsInstrumentor().instrument(tracer_provider=trace_provider)"
   ]
  },
  {
   "cell_type": "code",
   "execution_count": null,
   "id": "07cfd185-f97d-4cd4-a5fd-078579c48db7",
   "metadata": {},
   "outputs": [],
   "source": [
    "from smolagents import CodeAgent, InferenceClientModel\n",
    "\n",
    "agent = CodeAgent(\n",
    "    tools=[\n",
    "        DuckDuckGoSearchTool(),\n",
    "        VisitWebpageTool(),\n",
    "        suggest_menu,\n",
    "        catering_service_tool,\n",
    "        SuperheroPartyThemeTool()\n",
    "        ],\n",
    "    model=local_model,\n",
    "    max_steps=10,\n",
    "    verbosity_level=2\n",
    ")\n",
    "\n",
    "agent.run(\"Give me best playlist for a party at the Wayne's mansion. The party idea is a 'villain masquerade' theme\")"
   ]
  },
  {
   "cell_type": "code",
   "execution_count": null,
   "id": "19406afe-46f7-4433-9db7-bc4c34257cf6",
   "metadata": {},
   "outputs": [],
   "source": []
  }
 ],
 "metadata": {
  "kernelspec": {
   "display_name": "Python 3 (ipykernel)",
   "language": "python",
   "name": "python3"
  },
  "language_info": {
   "codemirror_mode": {
    "name": "ipython",
    "version": 3
   },
   "file_extension": ".py",
   "mimetype": "text/x-python",
   "name": "python",
   "nbconvert_exporter": "python",
   "pygments_lexer": "ipython3",
   "version": "3.12.3"
  }
 },
 "nbformat": 4,
 "nbformat_minor": 5
}
