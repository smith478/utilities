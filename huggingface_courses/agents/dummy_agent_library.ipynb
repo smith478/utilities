{
 "cells": [
  {
   "cell_type": "markdown",
   "id": "06b5b8ca-608b-424d-9c16-e98ffab5a9d8",
   "metadata": {},
   "source": [
    "# Dummy Agent Library\n",
    "\n",
    "This notebook will follow the Hugging Face notebook [here](https://huggingface.co/agents-course/notebooks/blob/main/dummy_agent_library.ipynb) except that we will use local models rather than huggingface hub."
   ]
  },
  {
   "cell_type": "code",
   "execution_count": null,
   "id": "37788d22-9c5a-439a-989b-18508c17eaa1",
   "metadata": {},
   "outputs": [],
   "source": [
    "import os\n",
    "import json\n",
    "import requests"
   ]
  },
  {
   "cell_type": "code",
   "execution_count": null,
   "id": "ab41e37f-6f9d-45e4-8024-8bcebc7d1e73",
   "metadata": {},
   "outputs": [],
   "source": [
    "!ollama list"
   ]
  },
  {
   "cell_type": "markdown",
   "id": "a55a0504-9660-406d-a64d-de15d638bdd8",
   "metadata": {},
   "source": [
    "## LLM Chat"
   ]
  },
  {
   "cell_type": "code",
   "execution_count": null,
   "id": "25826fda-26c5-4fef-bf20-513bb61473fd",
   "metadata": {},
   "outputs": [],
   "source": [
    "OLLAMA_HOST = \"http://localhost:11434\"\n",
    "MODEL_NAME = \"llama3.2:latest\""
   ]
  },
  {
   "cell_type": "code",
   "execution_count": null,
   "id": "679b99c6-e267-4558-8174-b083627d37d4",
   "metadata": {},
   "outputs": [],
   "source": [
    "class OllamaClient:\n",
    "    def __init__(self, model_name, host=OLLAMA_HOST):\n",
    "        self.model_name = model_name\n",
    "        self.host = host\n",
    "        self.chat = ChatCompletions(self)\n",
    "    \n",
    "    def text_generation(self, prompt, max_new_tokens=100, stop=None):\n",
    "        \"\"\"Generate text using the Ollama API\"\"\"\n",
    "        url = f\"{self.host}/api/generate\"\n",
    "        \n",
    "        payload = {\n",
    "            \"model\": self.model_name,\n",
    "            \"prompt\": prompt,\n",
    "            \"stream\": False,\n",
    "            \"options\": {\n",
    "                \"num_predict\": max_new_tokens\n",
    "            }\n",
    "        }\n",
    "        \n",
    "        if stop:\n",
    "            payload[\"options\"][\"stop\"] = stop\n",
    "        \n",
    "        response = requests.post(url, json=payload)\n",
    "        response.raise_for_status()\n",
    "        data = response.json()\n",
    "        return data[\"response\"]\n",
    "\n",
    "class ChatCompletions:\n",
    "    def __init__(self, client):\n",
    "        self.client = client\n",
    "        self.completions = self\n",
    "    \n",
    "    def create(self, messages, stream=False, max_tokens=1024):\n",
    "        \"\"\"Generate chat completions using the Ollama API\"\"\"\n",
    "        url = f\"{self.client.host}/api/chat\"\n",
    "        \n",
    "        payload = {\n",
    "            \"model\": self.client.model_name,\n",
    "            \"messages\": messages,\n",
    "            \"stream\": stream,\n",
    "            \"options\": {\n",
    "                \"num_predict\": max_tokens\n",
    "            }\n",
    "        }\n",
    "        \n",
    "        response = requests.post(url, json=payload)\n",
    "        response.raise_for_status()\n",
    "        data = response.json()\n",
    "        \n",
    "        # Create a response object in a similar format to OpenAI/HF\n",
    "        return CompletionResponse(data)\n",
    "\n",
    "class CompletionResponse:\n",
    "    def __init__(self, data):\n",
    "        self.choices = [Choice(data)]\n",
    "\n",
    "class Choice:\n",
    "    def __init__(self, data):\n",
    "        self.message = Message(data[\"message\"][\"content\"])\n",
    "\n",
    "class Message:\n",
    "    def __init__(self, content):\n",
    "        self.content = content"
   ]
  },
  {
   "cell_type": "code",
   "execution_count": null,
   "id": "1156c74c-c4fd-4808-8a3a-65f9bcdac055",
   "metadata": {},
   "outputs": [],
   "source": [
    "# Create Ollama client\n",
    "client = OllamaClient(MODEL_NAME)"
   ]
  },
  {
   "cell_type": "code",
   "execution_count": null,
   "id": "6136c5a0-27e5-48ca-81ff-37e98a16c0d7",
   "metadata": {},
   "outputs": [],
   "source": [
    "# Basic text generation\n",
    "output = client.text_generation(\n",
    "    \"The capital of france is\",\n",
    "    max_new_tokens=100,\n",
    ")\n",
    "\n",
    "print(output)"
   ]
  },
  {
   "cell_type": "code",
   "execution_count": null,
   "id": "d370a093-9d92-45cd-8dbe-a9c394a6495a",
   "metadata": {},
   "outputs": [],
   "source": [
    "# Using the Llama 3 chat format\n",
    "prompt = \"\"\"<|begin_of_text|><|start_header_id|>user<|end_header_id|>\n",
    "\n",
    "The capital of france is<|eot_id|><|start_header_id|>assistant<|end_header_id|>\n",
    "\n",
    "\"\"\"\n",
    "output = client.text_generation(\n",
    "    prompt,\n",
    "    max_new_tokens=100,\n",
    ")\n",
    "\n",
    "print(output)"
   ]
  },
  {
   "cell_type": "code",
   "execution_count": null,
   "id": "d9098a83-b04e-468d-8577-c801953a726d",
   "metadata": {},
   "outputs": [],
   "source": [
    "# Using the chat completions API\n",
    "output = client.chat.completions.create(\n",
    "    messages=[\n",
    "        {\"role\": \"user\", \"content\": \"The capital of france is\"},\n",
    "    ],\n",
    "    stream=False,\n",
    "    max_tokens=1024,\n",
    ")\n",
    "\n",
    "print(output.choices[0].message.content)"
   ]
  },
  {
   "cell_type": "markdown",
   "id": "ce1570e9-201a-4536-a0e6-7f1336e3b92d",
   "metadata": {},
   "source": [
    "## Dummy Agent\n",
    "\n",
    "In the previous sections, we saw that the core of an agent library is to append information in the system prompt. (Note that some of this is baked in Ollama which explains the identical outputs)\n",
    "\n",
    "This system prompt is a bit more complex than the one we saw earlier, but it already contains:\n",
    "\n",
    "1. Information about the tools\n",
    "2. Cycle instructions (Thought → Action → Observation)"
   ]
  },
  {
   "cell_type": "code",
   "execution_count": null,
   "id": "dfca5fe0-a704-42f9-8a6a-23251dda29e9",
   "metadata": {},
   "outputs": [],
   "source": [
    "# System prompt with function calling example\n",
    "SYSTEM_PROMPT = \"\"\"Answer the following questions as best you can. You have access to the following tools:\n",
    "\n",
    "get_weather: Get the current weather in a given location\n",
    "\n",
    "The way you use the tools is by specifying a json blob.\n",
    "Specifically, this json should have a `action` key (with the name of the tool to use) and a `action_input` key (with the input to the tool going here).\n",
    "\n",
    "The only values that should be in the \"action\" field are:\n",
    "get_weather: Get the current weather in a given location, args: {\"location\": {\"type\": \"string\"}}\n",
    "example use :\n",
    "```\n",
    "{{\n",
    "  \"action\": \"get_weather\",\n",
    "  \"action_input\": {\"location\": \"New York\"}\n",
    "}}\n",
    "\n",
    "ALWAYS use the following format:\n",
    "\n",
    "Question: the input question you must answer\n",
    "Thought: you should always think about one action to take. Only one action at a time in this format:\n",
    "Action:\n",
    "```\n",
    "$JSON_BLOB\n",
    "```\n",
    "Observation: the result of the action. This Observation is unique, complete, and the source of truth.\n",
    "... (this Thought/Action/Observation can repeat N times, you should take several steps when needed. The $JSON_BLOB must be formatted as markdown and only use a SINGLE action at a time.)\n",
    "\n",
    "You must always end your output with the following format:\n",
    "\n",
    "Thought: I now know the final answer\n",
    "Final Answer: the final answer to the original input question\n",
    "\n",
    "Now begin! Reminder to ALWAYS use the exact characters `Final Answer:` when you provide a definitive answer. \"\"\""
   ]
  },
  {
   "cell_type": "code",
   "execution_count": null,
   "id": "7761d19d-c65b-4669-99ea-b32e77f838cf",
   "metadata": {},
   "outputs": [],
   "source": [
    "# Format with Llama 3.2 special tokens\n",
    "prompt = f\"\"\"<|begin_of_text|><|start_header_id|>system<|end_header_id|>\n",
    "{SYSTEM_PROMPT}\n",
    "<|eot_id|><|start_header_id|>user<|end_header_id|>\n",
    "What's the weather in London ?\n",
    "<|eot_id|><|start_header_id|>assistant<|end_header_id|>\n",
    "\"\"\""
   ]
  },
  {
   "cell_type": "markdown",
   "id": "029fb6f1-cdfb-42f6-bcc3-71ce4f4b322b",
   "metadata": {},
   "source": [
    "This is equivalent to the following code that happens inside the chat method :\n",
    "\n",
    "```python\n",
    "messages=[\n",
    "    {\"role\": \"system\", \"content\": SYSTEM_PROMPT},\n",
    "    {\"role\": \"user\", \"content\": \"What's the weather in London ?\"},\n",
    "]\n",
    "from transformers import AutoTokenizer\n",
    "tokenizer = AutoTokenizer.from_pretrained(\"meta-llama/Llama-3.2-3B-Instruct\")\n",
    "\n",
    "tokenizer.apply_chat_template(messages, tokenize=False,add_generation_prompt=True)\n",
    "```\n",
    "\n",
    "The prompt is now:"
   ]
  },
  {
   "cell_type": "code",
   "execution_count": null,
   "id": "fdc89aec-576b-4267-a630-673d3dd24a31",
   "metadata": {},
   "outputs": [],
   "source": [
    "print(prompt)"
   ]
  },
  {
   "cell_type": "code",
   "execution_count": null,
   "id": "be4a407a-f67e-49eb-892c-9ea4e5549117",
   "metadata": {},
   "outputs": [],
   "source": [
    "# Generate text but stop before the function would be called\n",
    "output = client.text_generation(\n",
    "    prompt,\n",
    "    max_new_tokens=200,\n",
    "    stop=[\"Observation:\"]\n",
    ")\n",
    "\n",
    "print(output)"
   ]
  },
  {
   "cell_type": "markdown",
   "id": "d574c255-cb3e-41fd-b556-e895b6bffe63",
   "metadata": {},
   "source": [
    "Let's now create a dummy get weather function. In real situation you could call an API."
   ]
  },
  {
   "cell_type": "code",
   "execution_count": null,
   "id": "234d9f66-078c-48e8-a459-61b240c3d01b",
   "metadata": {},
   "outputs": [],
   "source": [
    "# Dummy function\n",
    "def get_weather(location):\n",
    "    return f\"the weather in {location} is sunny with low temperatures. \\n\"\n",
    "\n",
    "get_weather('London')"
   ]
  },
  {
   "cell_type": "code",
   "execution_count": null,
   "id": "c50106c7-ee3b-4be6-88ee-fcd1a7d1b196",
   "metadata": {},
   "outputs": [],
   "source": [
    "# Execute function and continue generation\n",
    "location_request = output.strip()\n",
    "# Extract location from the model output if needed\n",
    "# This depends on the exact output format from your model\n",
    "# You might need to adjust this parsing logic\n",
    "\n",
    "# Combine the original prompt, model output and function result\n",
    "new_prompt = prompt + output + \"Observation: \" + get_weather('London')\n",
    "print(new_prompt)"
   ]
  },
  {
   "cell_type": "code",
   "execution_count": null,
   "id": "6259dbe4-6c01-41a8-8ff3-c1be01e63b68",
   "metadata": {},
   "outputs": [],
   "source": [
    "# Continue generation with the observation\n",
    "final_output = client.text_generation(\n",
    "    new_prompt,\n",
    "    max_new_tokens=200,\n",
    ")\n",
    "\n",
    "print(final_output)"
   ]
  },
  {
   "cell_type": "code",
   "execution_count": null,
   "id": "0a1f7ddf-460a-44b9-8a37-bf47a2863c9e",
   "metadata": {},
   "outputs": [],
   "source": []
  }
 ],
 "metadata": {
  "kernelspec": {
   "display_name": "Python 3 (ipykernel)",
   "language": "python",
   "name": "python3"
  },
  "language_info": {
   "codemirror_mode": {
    "name": "ipython",
    "version": 3
   },
   "file_extension": ".py",
   "mimetype": "text/x-python",
   "name": "python",
   "nbconvert_exporter": "python",
   "pygments_lexer": "ipython3",
   "version": "3.12.3"
  }
 },
 "nbformat": 4,
 "nbformat_minor": 5
}
