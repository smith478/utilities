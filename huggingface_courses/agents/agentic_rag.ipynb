{
 "cells": [
  {
   "cell_type": "markdown",
   "id": "3888fc6f-592a-4454-9ccf-1c643c3827ec",
   "metadata": {},
   "source": [
    "# Agentic RAG\n",
    "\n",
    "- Step 1: Use a base LLM to generate content in the style of an author\n",
    "- Step 2: Do this using RAG\n",
    "- Step 3: Do this using agentic RAG"
   ]
  },
  {
   "cell_type": "code",
   "execution_count": null,
   "id": "f2f41750-2786-4f50-b611-a7bcb0d3c65f",
   "metadata": {},
   "outputs": [],
   "source": []
  }
 ],
 "metadata": {
  "kernelspec": {
   "display_name": "Python 3 (ipykernel)",
   "language": "python",
   "name": "python3"
  },
  "language_info": {
   "codemirror_mode": {
    "name": "ipython",
    "version": 3
   },
   "file_extension": ".py",
   "mimetype": "text/x-python",
   "name": "python",
   "nbconvert_exporter": "python",
   "pygments_lexer": "ipython3",
   "version": "3.12.3"
  }
 },
 "nbformat": 4,
 "nbformat_minor": 5
}
