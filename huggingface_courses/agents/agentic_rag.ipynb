{
 "cells": [
  {
   "cell_type": "markdown",
   "id": "3888fc6f-592a-4454-9ccf-1c643c3827ec",
   "metadata": {},
   "source": [
    "# Agentic RAG\n",
    "\n",
    "- Step 1: Use a base LLM to generate content in the style of an author\n",
    "- Step 2: Do this using RAG\n",
    "- Step 3: Do this using agentic RAG"
   ]
  },
  {
   "cell_type": "markdown",
   "id": "a4a5b487-742b-4f25-a2b1-79501e51a15d",
   "metadata": {},
   "source": [
    "## Basic Retrieval with DuckDuckGo\n",
    "\n",
    "Let's build a simple agent that can search the web using DuckDuckGo. This agent will retrieve information and synthesize responses to answer queries. With Agentic RAG, our agent can:\n",
    "\n",
    "- Search for articles from an author\n",
    "- Refine results to include relevant pieces\n",
    "- Synthesize information into a take"
   ]
  },
  {
   "cell_type": "code",
   "execution_count": 1,
   "id": "f2f41750-2786-4f50-b611-a7bcb0d3c65f",
   "metadata": {},
   "outputs": [
    {
     "name": "stderr",
     "output_type": "stream",
     "text": [
      "/Users/danielsmith/repos/utilities/huggingface_courses/hf/lib/python3.12/site-packages/tqdm/auto.py:21: TqdmWarning: IProgress not found. Please update jupyter and ipywidgets. See https://ipywidgets.readthedocs.io/en/stable/user_install.html\n",
      "  from .autonotebook import tqdm as notebook_tqdm\n"
     ]
    }
   ],
   "source": [
    "from smolagents import CodeAgent, DuckDuckGoSearchTool\n",
    "from smolagents.models import LiteLLMModel\n",
    "\n",
    "# Initialize the search tool\n",
    "search_tool = DuckDuckGoSearchTool()\n",
    "\n",
    "# Initialize the model\n",
    "local_model = LiteLLMModel(model_id=\"ollama_chat/qwen3:8b\")\n",
    "\n",
    "agent = CodeAgent(\n",
    "    model = local_model,\n",
    "    tools=[search_tool]\n",
    ")"
   ]
  },
  {
   "cell_type": "code",
   "execution_count": 2,
   "id": "ed5ce581-6d20-4939-a8f0-15166917b31f",
   "metadata": {},
   "outputs": [],
   "source": [
    "AUTHOR = \"Robert Wright\"\n",
    "HEADLINE = \"US Strikes Iran’s Nuclear Sites, Risking Wider War in Mideast\"\n",
    "STORY = \"\"\"\n",
    "The US carried out airstrikes on three nuclear sites in Iran overnight, directly entering Israel’s war with Tehran despite President Donald Trump’s longtime promises to avoid new foreign conflicts.\n",
    "Trump said Iran’s key nuclear enrichment facilities had been “totally obliterated” and warned of “far greater” attacks unless the Islamic Republic agreed to make peace, raising the prospect of deeper US involvement in a Middle East war sparked by Israeli strikes nine days ago.\n",
    "Iranian officials said the ongoing attacks by Israel — now joined by the US — had left little room for diplomacy, arguing that negotiations are impossible while the country is under assault. Tehran fired missiles at Israel in response but has so far stopped short of targeting American forces or assets in the region.\n",
    "American B-2 bombers dropped a dozen of the 30,000-pound (13,600-kilogram) bunker-buster bombs on Fordow, a uranium-enrichment site buried deep under a mountain, the New York Times reported. Natanz and Isfahan, two other nuclear facilities, were also struck using similar weapons and cruise missiles.\n",
    "“Our objective was the destruction of Iran’s nuclear enrichment capacity and a stop to the nuclear threat posed by the world’s No. 1 state sponsor of terror,” Trump said. “Iran, the bully of the Middle East, must now make peace. If they do not, future attacks will be far greater — and a lot easier.”\n",
    "Iran’s foreign minister, Abbas Araghchi, said the American strikes are “outrageous and will have everlasting consequences.” \n",
    "\"\"\""
   ]
  },
  {
   "cell_type": "code",
   "execution_count": 3,
   "id": "a7e7c84d-13aa-41a0-891e-d04b3bd92d2c",
   "metadata": {},
   "outputs": [],
   "source": [
    "prompt = f\"\"\"\n",
    "Use the following news headline and story to generate an output or take that you think would most likely come from the author {AUTHOR}.\n",
    "Headline: {HEADLINE}\n",
    "Story: {STORY}\n",
    "\"\"\""
   ]
  },
  {
   "cell_type": "code",
   "execution_count": 4,
   "id": "fda03e77-02f9-4386-a735-6b17017cedb2",
   "metadata": {},
   "outputs": [
    {
     "data": {
      "text/html": [
       "<pre style=\"white-space:pre;overflow-x:auto;line-height:normal;font-family:Menlo,'DejaVu Sans Mono',consolas,'Courier New',monospace\"><span style=\"color: #d4b702; text-decoration-color: #d4b702\">╭──────────────────────────────────────────────────── </span><span style=\"color: #d4b702; text-decoration-color: #d4b702; font-weight: bold\">New run</span><span style=\"color: #d4b702; text-decoration-color: #d4b702\"> ────────────────────────────────────────────────────╮</span>\n",
       "<span style=\"color: #d4b702; text-decoration-color: #d4b702\">│</span>                                                                                                                 <span style=\"color: #d4b702; text-decoration-color: #d4b702\">│</span>\n",
       "<span style=\"color: #d4b702; text-decoration-color: #d4b702\">│</span> <span style=\"font-weight: bold\">Use the following news headline and story to generate an output or take that you think would most likely come </span>  <span style=\"color: #d4b702; text-decoration-color: #d4b702\">│</span>\n",
       "<span style=\"color: #d4b702; text-decoration-color: #d4b702\">│</span> <span style=\"font-weight: bold\">from the author Robert Wright.</span>                                                                                  <span style=\"color: #d4b702; text-decoration-color: #d4b702\">│</span>\n",
       "<span style=\"color: #d4b702; text-decoration-color: #d4b702\">│</span> <span style=\"font-weight: bold\">Headline: US Strikes Iran’s Nuclear Sites, Risking Wider War in Mideast</span>                                         <span style=\"color: #d4b702; text-decoration-color: #d4b702\">│</span>\n",
       "<span style=\"color: #d4b702; text-decoration-color: #d4b702\">│</span> <span style=\"font-weight: bold\">Story: </span>                                                                                                         <span style=\"color: #d4b702; text-decoration-color: #d4b702\">│</span>\n",
       "<span style=\"color: #d4b702; text-decoration-color: #d4b702\">│</span> <span style=\"font-weight: bold\">The US carried out airstrikes on three nuclear sites in Iran overnight, directly entering Israel’s war with </span>    <span style=\"color: #d4b702; text-decoration-color: #d4b702\">│</span>\n",
       "<span style=\"color: #d4b702; text-decoration-color: #d4b702\">│</span> <span style=\"font-weight: bold\">Tehran despite President Donald Trump’s longtime promises to avoid new foreign conflicts.</span>                       <span style=\"color: #d4b702; text-decoration-color: #d4b702\">│</span>\n",
       "<span style=\"color: #d4b702; text-decoration-color: #d4b702\">│</span> <span style=\"font-weight: bold\">Trump said Iran’s key nuclear enrichment facilities had been “totally obliterated” and warned of “far greater” </span> <span style=\"color: #d4b702; text-decoration-color: #d4b702\">│</span>\n",
       "<span style=\"color: #d4b702; text-decoration-color: #d4b702\">│</span> <span style=\"font-weight: bold\">attacks unless the Islamic Republic agreed to make peace, raising the prospect of deeper US involvement in a </span>   <span style=\"color: #d4b702; text-decoration-color: #d4b702\">│</span>\n",
       "<span style=\"color: #d4b702; text-decoration-color: #d4b702\">│</span> <span style=\"font-weight: bold\">Middle East war sparked by Israeli strikes nine days ago.</span>                                                       <span style=\"color: #d4b702; text-decoration-color: #d4b702\">│</span>\n",
       "<span style=\"color: #d4b702; text-decoration-color: #d4b702\">│</span> <span style=\"font-weight: bold\">Iranian officials said the ongoing attacks by Israel — now joined by the US — had left little room for </span>         <span style=\"color: #d4b702; text-decoration-color: #d4b702\">│</span>\n",
       "<span style=\"color: #d4b702; text-decoration-color: #d4b702\">│</span> <span style=\"font-weight: bold\">diplomacy, arguing that negotiations are impossible while the country is under assault. Tehran fired missiles </span>  <span style=\"color: #d4b702; text-decoration-color: #d4b702\">│</span>\n",
       "<span style=\"color: #d4b702; text-decoration-color: #d4b702\">│</span> <span style=\"font-weight: bold\">at Israel in response but has so far stopped short of targeting American forces or assets in the region.</span>        <span style=\"color: #d4b702; text-decoration-color: #d4b702\">│</span>\n",
       "<span style=\"color: #d4b702; text-decoration-color: #d4b702\">│</span> <span style=\"font-weight: bold\">American B-2 bombers dropped a dozen of the 30,000-pound (13,600-kilogram) bunker-buster bombs on Fordow, a </span>    <span style=\"color: #d4b702; text-decoration-color: #d4b702\">│</span>\n",
       "<span style=\"color: #d4b702; text-decoration-color: #d4b702\">│</span> <span style=\"font-weight: bold\">uranium-enrichment site buried deep under a mountain, the New York Times reported. Natanz and Isfahan, two </span>     <span style=\"color: #d4b702; text-decoration-color: #d4b702\">│</span>\n",
       "<span style=\"color: #d4b702; text-decoration-color: #d4b702\">│</span> <span style=\"font-weight: bold\">other nuclear facilities, were also struck using similar weapons and cruise missiles.</span>                           <span style=\"color: #d4b702; text-decoration-color: #d4b702\">│</span>\n",
       "<span style=\"color: #d4b702; text-decoration-color: #d4b702\">│</span> <span style=\"font-weight: bold\">“Our objective was the destruction of Iran’s nuclear enrichment capacity and a stop to the nuclear threat posed</span> <span style=\"color: #d4b702; text-decoration-color: #d4b702\">│</span>\n",
       "<span style=\"color: #d4b702; text-decoration-color: #d4b702\">│</span> <span style=\"font-weight: bold\">by the world’s No. 1 state sponsor of terror,” Trump said. “Iran, the bully of the Middle East, must now make </span>  <span style=\"color: #d4b702; text-decoration-color: #d4b702\">│</span>\n",
       "<span style=\"color: #d4b702; text-decoration-color: #d4b702\">│</span> <span style=\"font-weight: bold\">peace. If they do not, future attacks will be far greater — and a lot easier.”</span>                                  <span style=\"color: #d4b702; text-decoration-color: #d4b702\">│</span>\n",
       "<span style=\"color: #d4b702; text-decoration-color: #d4b702\">│</span> <span style=\"font-weight: bold\">Iran’s foreign minister, Abbas Araghchi, said the American strikes are “outrageous and will have everlasting </span>   <span style=\"color: #d4b702; text-decoration-color: #d4b702\">│</span>\n",
       "<span style=\"color: #d4b702; text-decoration-color: #d4b702\">│</span> <span style=\"font-weight: bold\">consequences.”</span>                                                                                                  <span style=\"color: #d4b702; text-decoration-color: #d4b702\">│</span>\n",
       "<span style=\"color: #d4b702; text-decoration-color: #d4b702\">│</span>                                                                                                                 <span style=\"color: #d4b702; text-decoration-color: #d4b702\">│</span>\n",
       "<span style=\"color: #d4b702; text-decoration-color: #d4b702\">╰─ LiteLLMModel - ollama_chat/qwen3:8b ───────────────────────────────────────────────────────────────────────────╯</span>\n",
       "</pre>\n"
      ],
      "text/plain": [
       "\u001b[38;2;212;183;2m╭─\u001b[0m\u001b[38;2;212;183;2m───────────────────────────────────────────────────\u001b[0m\u001b[38;2;212;183;2m \u001b[0m\u001b[1;38;2;212;183;2mNew run\u001b[0m\u001b[38;2;212;183;2m \u001b[0m\u001b[38;2;212;183;2m───────────────────────────────────────────────────\u001b[0m\u001b[38;2;212;183;2m─╮\u001b[0m\n",
       "\u001b[38;2;212;183;2m│\u001b[0m                                                                                                                 \u001b[38;2;212;183;2m│\u001b[0m\n",
       "\u001b[38;2;212;183;2m│\u001b[0m \u001b[1mUse the following news headline and story to generate an output or take that you think would most likely come \u001b[0m  \u001b[38;2;212;183;2m│\u001b[0m\n",
       "\u001b[38;2;212;183;2m│\u001b[0m \u001b[1mfrom the author Robert Wright.\u001b[0m                                                                                  \u001b[38;2;212;183;2m│\u001b[0m\n",
       "\u001b[38;2;212;183;2m│\u001b[0m \u001b[1mHeadline: US Strikes Iran’s Nuclear Sites, Risking Wider War in Mideast\u001b[0m                                         \u001b[38;2;212;183;2m│\u001b[0m\n",
       "\u001b[38;2;212;183;2m│\u001b[0m \u001b[1mStory: \u001b[0m                                                                                                         \u001b[38;2;212;183;2m│\u001b[0m\n",
       "\u001b[38;2;212;183;2m│\u001b[0m \u001b[1mThe US carried out airstrikes on three nuclear sites in Iran overnight, directly entering Israel’s war with \u001b[0m    \u001b[38;2;212;183;2m│\u001b[0m\n",
       "\u001b[38;2;212;183;2m│\u001b[0m \u001b[1mTehran despite President Donald Trump’s longtime promises to avoid new foreign conflicts.\u001b[0m                       \u001b[38;2;212;183;2m│\u001b[0m\n",
       "\u001b[38;2;212;183;2m│\u001b[0m \u001b[1mTrump said Iran’s key nuclear enrichment facilities had been “totally obliterated” and warned of “far greater” \u001b[0m \u001b[38;2;212;183;2m│\u001b[0m\n",
       "\u001b[38;2;212;183;2m│\u001b[0m \u001b[1mattacks unless the Islamic Republic agreed to make peace, raising the prospect of deeper US involvement in a \u001b[0m   \u001b[38;2;212;183;2m│\u001b[0m\n",
       "\u001b[38;2;212;183;2m│\u001b[0m \u001b[1mMiddle East war sparked by Israeli strikes nine days ago.\u001b[0m                                                       \u001b[38;2;212;183;2m│\u001b[0m\n",
       "\u001b[38;2;212;183;2m│\u001b[0m \u001b[1mIranian officials said the ongoing attacks by Israel — now joined by the US — had left little room for \u001b[0m         \u001b[38;2;212;183;2m│\u001b[0m\n",
       "\u001b[38;2;212;183;2m│\u001b[0m \u001b[1mdiplomacy, arguing that negotiations are impossible while the country is under assault. Tehran fired missiles \u001b[0m  \u001b[38;2;212;183;2m│\u001b[0m\n",
       "\u001b[38;2;212;183;2m│\u001b[0m \u001b[1mat Israel in response but has so far stopped short of targeting American forces or assets in the region.\u001b[0m        \u001b[38;2;212;183;2m│\u001b[0m\n",
       "\u001b[38;2;212;183;2m│\u001b[0m \u001b[1mAmerican B-2 bombers dropped a dozen of the 30,000-pound (13,600-kilogram) bunker-buster bombs on Fordow, a \u001b[0m    \u001b[38;2;212;183;2m│\u001b[0m\n",
       "\u001b[38;2;212;183;2m│\u001b[0m \u001b[1muranium-enrichment site buried deep under a mountain, the New York Times reported. Natanz and Isfahan, two \u001b[0m     \u001b[38;2;212;183;2m│\u001b[0m\n",
       "\u001b[38;2;212;183;2m│\u001b[0m \u001b[1mother nuclear facilities, were also struck using similar weapons and cruise missiles.\u001b[0m                           \u001b[38;2;212;183;2m│\u001b[0m\n",
       "\u001b[38;2;212;183;2m│\u001b[0m \u001b[1m“Our objective was the destruction of Iran’s nuclear enrichment capacity and a stop to the nuclear threat posed\u001b[0m \u001b[38;2;212;183;2m│\u001b[0m\n",
       "\u001b[38;2;212;183;2m│\u001b[0m \u001b[1mby the world’s No. 1 state sponsor of terror,” Trump said. “Iran, the bully of the Middle East, must now make \u001b[0m  \u001b[38;2;212;183;2m│\u001b[0m\n",
       "\u001b[38;2;212;183;2m│\u001b[0m \u001b[1mpeace. If they do not, future attacks will be far greater — and a lot easier.”\u001b[0m                                  \u001b[38;2;212;183;2m│\u001b[0m\n",
       "\u001b[38;2;212;183;2m│\u001b[0m \u001b[1mIran’s foreign minister, Abbas Araghchi, said the American strikes are “outrageous and will have everlasting \u001b[0m   \u001b[38;2;212;183;2m│\u001b[0m\n",
       "\u001b[38;2;212;183;2m│\u001b[0m \u001b[1mconsequences.”\u001b[0m                                                                                                  \u001b[38;2;212;183;2m│\u001b[0m\n",
       "\u001b[38;2;212;183;2m│\u001b[0m                                                                                                                 \u001b[38;2;212;183;2m│\u001b[0m\n",
       "\u001b[38;2;212;183;2m╰─\u001b[0m\u001b[38;2;212;183;2m LiteLLMModel - ollama_chat/qwen3:8b \u001b[0m\u001b[38;2;212;183;2m──────────────────────────────────────────────────────────────────────────\u001b[0m\u001b[38;2;212;183;2m─╯\u001b[0m\n"
      ]
     },
     "metadata": {},
     "output_type": "display_data"
    },
    {
     "data": {
      "text/html": [
       "<pre style=\"white-space:pre;overflow-x:auto;line-height:normal;font-family:Menlo,'DejaVu Sans Mono',consolas,'Courier New',monospace\"><span style=\"color: #d4b702; text-decoration-color: #d4b702\">━━━━━━━━━━━━━━━━━━━━━━━━━━━━━━━━━━━━━━━━━━━━━━━━━━━━━ </span><span style=\"font-weight: bold\">Step </span><span style=\"color: #008080; text-decoration-color: #008080; font-weight: bold\">1</span><span style=\"color: #d4b702; text-decoration-color: #d4b702\"> ━━━━━━━━━━━━━━━━━━━━━━━━━━━━━━━━━━━━━━━━━━━━━━━━━━━━━━</span>\n",
       "</pre>\n"
      ],
      "text/plain": [
       "\u001b[38;2;212;183;2m━━━━━━━━━━━━━━━━━━━━━━━━━━━━━━━━━━━━━━━━━━━━━━━━━━━━━ \u001b[0m\u001b[1mStep \u001b[0m\u001b[1;36m1\u001b[0m\u001b[38;2;212;183;2m ━━━━━━━━━━━━━━━━━━━━━━━━━━━━━━━━━━━━━━━━━━━━━━━━━━━━━━\u001b[0m\n"
      ]
     },
     "metadata": {},
     "output_type": "display_data"
    },
    {
     "data": {
      "text/html": [
       "<pre style=\"white-space:pre;overflow-x:auto;line-height:normal;font-family:Menlo,'DejaVu Sans Mono',consolas,'Courier New',monospace\"> ─ <span style=\"font-weight: bold\">Executing parsed code:</span> ──────────────────────────────────────────────────────────────────────────────────────── \n",
       "  <span style=\"color: #959077; text-decoration-color: #959077; background-color: #272822\"># Analyze the situation through Robert Wright's lens</span><span style=\"background-color: #272822\">                                                           </span>  \n",
       "  <span style=\"color: #f8f8f2; text-decoration-color: #f8f8f2; background-color: #272822\">headline </span><span style=\"color: #ff4689; text-decoration-color: #ff4689; background-color: #272822\">=</span><span style=\"color: #f8f8f2; text-decoration-color: #f8f8f2; background-color: #272822\"> </span><span style=\"color: #e6db74; text-decoration-color: #e6db74; background-color: #272822\">\"US Strikes Iran’s Nuclear Sites, Risking Wider War in Mideast\"</span><span style=\"background-color: #272822\">                                     </span>  \n",
       "  <span style=\"color: #f8f8f2; text-decoration-color: #f8f8f2; background-color: #272822\">story </span><span style=\"color: #ff4689; text-decoration-color: #ff4689; background-color: #272822\">=</span><span style=\"color: #f8f8f2; text-decoration-color: #f8f8f2; background-color: #272822\"> </span><span style=\"color: #e6db74; text-decoration-color: #e6db74; background-color: #272822\">\"\"\"The US carried out airstrikes...will have everlasting consequences.\"\"\"</span><span style=\"background-color: #272822\">                              </span>  \n",
       "  <span style=\"background-color: #272822\">                                                                                                               </span>  \n",
       "  <span style=\"color: #959077; text-decoration-color: #959077; background-color: #272822\"># Wright's analytical perspective</span><span style=\"background-color: #272822\">                                                                              </span>  \n",
       "  <span style=\"color: #f8f8f2; text-decoration-color: #f8f8f2; background-color: #272822\">analysis </span><span style=\"color: #ff4689; text-decoration-color: #ff4689; background-color: #272822\">=</span><span style=\"color: #f8f8f2; text-decoration-color: #f8f8f2; background-color: #272822\"> {</span><span style=\"background-color: #272822\">                                                                                                   </span>  \n",
       "  <span style=\"color: #f8f8f2; text-decoration-color: #f8f8f2; background-color: #272822\">    </span><span style=\"color: #e6db74; text-decoration-color: #e6db74; background-color: #272822\">\"strategic_motive\"</span><span style=\"color: #f8f8f2; text-decoration-color: #f8f8f2; background-color: #272822\">: </span><span style=\"color: #e6db74; text-decoration-color: #e6db74; background-color: #272822\">\"The strikes target Iran's nuclear capacity, reflecting a Cold War-era strategy of震慑 </span>  \n",
       "  <span style=\"color: #e6db74; text-decoration-color: #e6db74; background-color: #272822\">(intimidation) through force, despite Trump's rhetoric of avoiding conflicts.\"</span><span style=\"color: #f8f8f2; text-decoration-color: #f8f8f2; background-color: #272822\">,</span><span style=\"background-color: #272822\">                                </span>  \n",
       "  <span style=\"color: #f8f8f2; text-decoration-color: #f8f8f2; background-color: #272822\">    </span><span style=\"color: #e6db74; text-decoration-color: #e6db74; background-color: #272822\">\"escalation_risk\"</span><span style=\"color: #f8f8f2; text-decoration-color: #f8f8f2; background-color: #272822\">: </span><span style=\"color: #e6db74; text-decoration-color: #e6db74; background-color: #272822\">\"By joining Israel's campaign, the US risks entangling itself in a regional proxy war, </span><span style=\"background-color: #272822\"> </span>  \n",
       "  <span style=\"color: #e6db74; text-decoration-color: #e6db74; background-color: #272822\">echoing historical patterns of US interventionism in the Middle East.\"</span><span style=\"color: #f8f8f2; text-decoration-color: #f8f8f2; background-color: #272822\">,</span><span style=\"background-color: #272822\">                                        </span>  \n",
       "  <span style=\"color: #f8f8f2; text-decoration-color: #f8f8f2; background-color: #272822\">    </span><span style=\"color: #e6db74; text-decoration-color: #e6db74; background-color: #272822\">\"diplomatic_impact\"</span><span style=\"color: #f8f8f2; text-decoration-color: #f8f8f2; background-color: #272822\">: </span><span style=\"color: #e6db74; text-decoration-color: #e6db74; background-color: #272822\">\"Iran's characterization of the attacks as 'outrageous' suggests negotiations are now </span>  \n",
       "  <span style=\"color: #e6db74; text-decoration-color: #e6db74; background-color: #272822\">politically impossible, locking the region into a cycle of retaliation.\"</span><span style=\"color: #f8f8f2; text-decoration-color: #f8f8f2; background-color: #272822\">,</span><span style=\"background-color: #272822\">                                      </span>  \n",
       "  <span style=\"color: #f8f8f2; text-decoration-color: #f8f8f2; background-color: #272822\">    </span><span style=\"color: #e6db74; text-decoration-color: #e6db74; background-color: #272822\">\"historical_context\"</span><span style=\"color: #f8f8f2; text-decoration-color: #f8f8f2; background-color: #272822\">: </span><span style=\"color: #e6db74; text-decoration-color: #e6db74; background-color: #272822\">\"This mirrors 2003's Iraq War - using military action to address nuclear threats </span><span style=\"background-color: #272822\">    </span>  \n",
       "  <span style=\"color: #e6db74; text-decoration-color: #e6db74; background-color: #272822\">while bypassing diplomacy, with unpredictable regional consequences.\"</span><span style=\"background-color: #272822\">                                          </span>  \n",
       "  <span style=\"color: #f8f8f2; text-decoration-color: #f8f8f2; background-color: #272822\">}</span><span style=\"background-color: #272822\">                                                                                                              </span>  \n",
       "  <span style=\"background-color: #272822\">                                                                                                               </span>  \n",
       "  <span style=\"color: #959077; text-decoration-color: #959077; background-color: #272822\"># Wright would emphasize the paradox of using force to prevent war</span><span style=\"background-color: #272822\">                                             </span>  \n",
       "  <span style=\"color: #f8f8f2; text-decoration-color: #f8f8f2; background-color: #272822\">final_answer(</span><span style=\"color: #e6db74; text-decoration-color: #e6db74; background-color: #272822\">f\"{</span><span style=\"color: #f8f8f2; text-decoration-color: #f8f8f2; background-color: #272822\">headline</span><span style=\"color: #e6db74; text-decoration-color: #e6db74; background-color: #272822\">}</span><span style=\"color: #ae81ff; text-decoration-color: #ae81ff; background-color: #272822\">\\n\\n</span><span style=\"color: #e6db74; text-decoration-color: #e6db74; background-color: #272822\">{</span><span style=\"color: #f8f8f2; text-decoration-color: #f8f8f2; background-color: #272822\">analysis[</span><span style=\"color: #e6db74; text-decoration-color: #e6db74; background-color: #272822\">'strategic_motive'</span><span style=\"color: #f8f8f2; text-decoration-color: #f8f8f2; background-color: #272822\">]</span><span style=\"color: #e6db74; text-decoration-color: #e6db74; background-color: #272822\">}</span><span style=\"color: #ae81ff; text-decoration-color: #ae81ff; background-color: #272822\">\\n</span><span style=\"color: #e6db74; text-decoration-color: #e6db74; background-color: #272822\">{</span><span style=\"color: #f8f8f2; text-decoration-color: #f8f8f2; background-color: #272822\">analysis[</span><span style=\"color: #e6db74; text-decoration-color: #e6db74; background-color: #272822\">'escalation_risk'</span><span style=\"color: #f8f8f2; text-decoration-color: #f8f8f2; background-color: #272822\">]</span><span style=\"color: #e6db74; text-decoration-color: #e6db74; background-color: #272822\">}</span><span style=\"color: #ae81ff; text-decoration-color: #ae81ff; background-color: #272822\">\\n</span><span style=\"color: #e6db74; text-decoration-color: #e6db74; background-color: #272822\">{</span><span style=\"color: #f8f8f2; text-decoration-color: #f8f8f2; background-color: #272822\">analysis[</span><span style=\"color: #e6db74; text-decoration-color: #e6db74; background-color: #272822\">'diplomat</span>  \n",
       "  <span style=\"color: #e6db74; text-decoration-color: #e6db74; background-color: #272822\">ic_impact'</span><span style=\"color: #f8f8f2; text-decoration-color: #f8f8f2; background-color: #272822\">]</span><span style=\"color: #e6db74; text-decoration-color: #e6db74; background-color: #272822\">}</span><span style=\"color: #ae81ff; text-decoration-color: #ae81ff; background-color: #272822\">\\n</span><span style=\"color: #e6db74; text-decoration-color: #e6db74; background-color: #272822\">{</span><span style=\"color: #f8f8f2; text-decoration-color: #f8f8f2; background-color: #272822\">analysis[</span><span style=\"color: #e6db74; text-decoration-color: #e6db74; background-color: #272822\">'historical_context'</span><span style=\"color: #f8f8f2; text-decoration-color: #f8f8f2; background-color: #272822\">]</span><span style=\"color: #e6db74; text-decoration-color: #e6db74; background-color: #272822\">}\"</span><span style=\"color: #f8f8f2; text-decoration-color: #f8f8f2; background-color: #272822\">)</span><span style=\"background-color: #272822\">                                                               </span>  \n",
       " ───────────────────────────────────────────────────────────────────────────────────────────────────────────────── \n",
       "</pre>\n"
      ],
      "text/plain": [
       " ─ \u001b[1mExecuting parsed code:\u001b[0m ──────────────────────────────────────────────────────────────────────────────────────── \n",
       "  \u001b[38;2;149;144;119;48;2;39;40;34m# Analyze the situation through Robert Wright's lens\u001b[0m\u001b[48;2;39;40;34m                                                           \u001b[0m  \n",
       "  \u001b[38;2;248;248;242;48;2;39;40;34mheadline\u001b[0m\u001b[38;2;248;248;242;48;2;39;40;34m \u001b[0m\u001b[38;2;255;70;137;48;2;39;40;34m=\u001b[0m\u001b[38;2;248;248;242;48;2;39;40;34m \u001b[0m\u001b[38;2;230;219;116;48;2;39;40;34m\"\u001b[0m\u001b[38;2;230;219;116;48;2;39;40;34mUS Strikes Iran’s Nuclear Sites, Risking Wider War in Mideast\u001b[0m\u001b[38;2;230;219;116;48;2;39;40;34m\"\u001b[0m\u001b[48;2;39;40;34m                                     \u001b[0m  \n",
       "  \u001b[38;2;248;248;242;48;2;39;40;34mstory\u001b[0m\u001b[38;2;248;248;242;48;2;39;40;34m \u001b[0m\u001b[38;2;255;70;137;48;2;39;40;34m=\u001b[0m\u001b[38;2;248;248;242;48;2;39;40;34m \u001b[0m\u001b[38;2;230;219;116;48;2;39;40;34m\"\"\"\u001b[0m\u001b[38;2;230;219;116;48;2;39;40;34mThe US carried out airstrikes...will have everlasting consequences.\u001b[0m\u001b[38;2;230;219;116;48;2;39;40;34m\"\"\"\u001b[0m\u001b[48;2;39;40;34m                              \u001b[0m  \n",
       "  \u001b[48;2;39;40;34m                                                                                                               \u001b[0m  \n",
       "  \u001b[38;2;149;144;119;48;2;39;40;34m# Wright's analytical perspective\u001b[0m\u001b[48;2;39;40;34m                                                                              \u001b[0m  \n",
       "  \u001b[38;2;248;248;242;48;2;39;40;34manalysis\u001b[0m\u001b[38;2;248;248;242;48;2;39;40;34m \u001b[0m\u001b[38;2;255;70;137;48;2;39;40;34m=\u001b[0m\u001b[38;2;248;248;242;48;2;39;40;34m \u001b[0m\u001b[38;2;248;248;242;48;2;39;40;34m{\u001b[0m\u001b[48;2;39;40;34m                                                                                                   \u001b[0m  \n",
       "  \u001b[38;2;248;248;242;48;2;39;40;34m    \u001b[0m\u001b[38;2;230;219;116;48;2;39;40;34m\"\u001b[0m\u001b[38;2;230;219;116;48;2;39;40;34mstrategic_motive\u001b[0m\u001b[38;2;230;219;116;48;2;39;40;34m\"\u001b[0m\u001b[38;2;248;248;242;48;2;39;40;34m:\u001b[0m\u001b[38;2;248;248;242;48;2;39;40;34m \u001b[0m\u001b[38;2;230;219;116;48;2;39;40;34m\"\u001b[0m\u001b[38;2;230;219;116;48;2;39;40;34mThe strikes target Iran\u001b[0m\u001b[38;2;230;219;116;48;2;39;40;34m'\u001b[0m\u001b[38;2;230;219;116;48;2;39;40;34ms nuclear capacity, reflecting a Cold War-era strategy of震慑 \u001b[0m  \n",
       "  \u001b[38;2;230;219;116;48;2;39;40;34m(intimidation) through force, despite Trump\u001b[0m\u001b[38;2;230;219;116;48;2;39;40;34m'\u001b[0m\u001b[38;2;230;219;116;48;2;39;40;34ms rhetoric of avoiding conflicts.\u001b[0m\u001b[38;2;230;219;116;48;2;39;40;34m\"\u001b[0m\u001b[38;2;248;248;242;48;2;39;40;34m,\u001b[0m\u001b[48;2;39;40;34m                                \u001b[0m  \n",
       "  \u001b[38;2;248;248;242;48;2;39;40;34m    \u001b[0m\u001b[38;2;230;219;116;48;2;39;40;34m\"\u001b[0m\u001b[38;2;230;219;116;48;2;39;40;34mescalation_risk\u001b[0m\u001b[38;2;230;219;116;48;2;39;40;34m\"\u001b[0m\u001b[38;2;248;248;242;48;2;39;40;34m:\u001b[0m\u001b[38;2;248;248;242;48;2;39;40;34m \u001b[0m\u001b[38;2;230;219;116;48;2;39;40;34m\"\u001b[0m\u001b[38;2;230;219;116;48;2;39;40;34mBy joining Israel\u001b[0m\u001b[38;2;230;219;116;48;2;39;40;34m'\u001b[0m\u001b[38;2;230;219;116;48;2;39;40;34ms campaign, the US risks entangling itself in a regional proxy war, \u001b[0m\u001b[48;2;39;40;34m \u001b[0m  \n",
       "  \u001b[38;2;230;219;116;48;2;39;40;34mechoing historical patterns of US interventionism in the Middle East.\u001b[0m\u001b[38;2;230;219;116;48;2;39;40;34m\"\u001b[0m\u001b[38;2;248;248;242;48;2;39;40;34m,\u001b[0m\u001b[48;2;39;40;34m                                        \u001b[0m  \n",
       "  \u001b[38;2;248;248;242;48;2;39;40;34m    \u001b[0m\u001b[38;2;230;219;116;48;2;39;40;34m\"\u001b[0m\u001b[38;2;230;219;116;48;2;39;40;34mdiplomatic_impact\u001b[0m\u001b[38;2;230;219;116;48;2;39;40;34m\"\u001b[0m\u001b[38;2;248;248;242;48;2;39;40;34m:\u001b[0m\u001b[38;2;248;248;242;48;2;39;40;34m \u001b[0m\u001b[38;2;230;219;116;48;2;39;40;34m\"\u001b[0m\u001b[38;2;230;219;116;48;2;39;40;34mIran\u001b[0m\u001b[38;2;230;219;116;48;2;39;40;34m'\u001b[0m\u001b[38;2;230;219;116;48;2;39;40;34ms characterization of the attacks as \u001b[0m\u001b[38;2;230;219;116;48;2;39;40;34m'\u001b[0m\u001b[38;2;230;219;116;48;2;39;40;34moutrageous\u001b[0m\u001b[38;2;230;219;116;48;2;39;40;34m'\u001b[0m\u001b[38;2;230;219;116;48;2;39;40;34m suggests negotiations are now \u001b[0m  \n",
       "  \u001b[38;2;230;219;116;48;2;39;40;34mpolitically impossible, locking the region into a cycle of retaliation.\u001b[0m\u001b[38;2;230;219;116;48;2;39;40;34m\"\u001b[0m\u001b[38;2;248;248;242;48;2;39;40;34m,\u001b[0m\u001b[48;2;39;40;34m                                      \u001b[0m  \n",
       "  \u001b[38;2;248;248;242;48;2;39;40;34m    \u001b[0m\u001b[38;2;230;219;116;48;2;39;40;34m\"\u001b[0m\u001b[38;2;230;219;116;48;2;39;40;34mhistorical_context\u001b[0m\u001b[38;2;230;219;116;48;2;39;40;34m\"\u001b[0m\u001b[38;2;248;248;242;48;2;39;40;34m:\u001b[0m\u001b[38;2;248;248;242;48;2;39;40;34m \u001b[0m\u001b[38;2;230;219;116;48;2;39;40;34m\"\u001b[0m\u001b[38;2;230;219;116;48;2;39;40;34mThis mirrors 2003\u001b[0m\u001b[38;2;230;219;116;48;2;39;40;34m'\u001b[0m\u001b[38;2;230;219;116;48;2;39;40;34ms Iraq War - using military action to address nuclear threats \u001b[0m\u001b[48;2;39;40;34m    \u001b[0m  \n",
       "  \u001b[38;2;230;219;116;48;2;39;40;34mwhile bypassing diplomacy, with unpredictable regional consequences.\u001b[0m\u001b[38;2;230;219;116;48;2;39;40;34m\"\u001b[0m\u001b[48;2;39;40;34m                                          \u001b[0m  \n",
       "  \u001b[38;2;248;248;242;48;2;39;40;34m}\u001b[0m\u001b[48;2;39;40;34m                                                                                                              \u001b[0m  \n",
       "  \u001b[48;2;39;40;34m                                                                                                               \u001b[0m  \n",
       "  \u001b[38;2;149;144;119;48;2;39;40;34m# Wright would emphasize the paradox of using force to prevent war\u001b[0m\u001b[48;2;39;40;34m                                             \u001b[0m  \n",
       "  \u001b[38;2;248;248;242;48;2;39;40;34mfinal_answer\u001b[0m\u001b[38;2;248;248;242;48;2;39;40;34m(\u001b[0m\u001b[38;2;230;219;116;48;2;39;40;34mf\u001b[0m\u001b[38;2;230;219;116;48;2;39;40;34m\"\u001b[0m\u001b[38;2;230;219;116;48;2;39;40;34m{\u001b[0m\u001b[38;2;248;248;242;48;2;39;40;34mheadline\u001b[0m\u001b[38;2;230;219;116;48;2;39;40;34m}\u001b[0m\u001b[38;2;174;129;255;48;2;39;40;34m\\n\u001b[0m\u001b[38;2;174;129;255;48;2;39;40;34m\\n\u001b[0m\u001b[38;2;230;219;116;48;2;39;40;34m{\u001b[0m\u001b[38;2;248;248;242;48;2;39;40;34manalysis\u001b[0m\u001b[38;2;248;248;242;48;2;39;40;34m[\u001b[0m\u001b[38;2;230;219;116;48;2;39;40;34m'\u001b[0m\u001b[38;2;230;219;116;48;2;39;40;34mstrategic_motive\u001b[0m\u001b[38;2;230;219;116;48;2;39;40;34m'\u001b[0m\u001b[38;2;248;248;242;48;2;39;40;34m]\u001b[0m\u001b[38;2;230;219;116;48;2;39;40;34m}\u001b[0m\u001b[38;2;174;129;255;48;2;39;40;34m\\n\u001b[0m\u001b[38;2;230;219;116;48;2;39;40;34m{\u001b[0m\u001b[38;2;248;248;242;48;2;39;40;34manalysis\u001b[0m\u001b[38;2;248;248;242;48;2;39;40;34m[\u001b[0m\u001b[38;2;230;219;116;48;2;39;40;34m'\u001b[0m\u001b[38;2;230;219;116;48;2;39;40;34mescalation_risk\u001b[0m\u001b[38;2;230;219;116;48;2;39;40;34m'\u001b[0m\u001b[38;2;248;248;242;48;2;39;40;34m]\u001b[0m\u001b[38;2;230;219;116;48;2;39;40;34m}\u001b[0m\u001b[38;2;174;129;255;48;2;39;40;34m\\n\u001b[0m\u001b[38;2;230;219;116;48;2;39;40;34m{\u001b[0m\u001b[38;2;248;248;242;48;2;39;40;34manalysis\u001b[0m\u001b[38;2;248;248;242;48;2;39;40;34m[\u001b[0m\u001b[38;2;230;219;116;48;2;39;40;34m'\u001b[0m\u001b[38;2;230;219;116;48;2;39;40;34mdiplomat\u001b[0m  \n",
       "  \u001b[38;2;230;219;116;48;2;39;40;34mic_impact\u001b[0m\u001b[38;2;230;219;116;48;2;39;40;34m'\u001b[0m\u001b[38;2;248;248;242;48;2;39;40;34m]\u001b[0m\u001b[38;2;230;219;116;48;2;39;40;34m}\u001b[0m\u001b[38;2;174;129;255;48;2;39;40;34m\\n\u001b[0m\u001b[38;2;230;219;116;48;2;39;40;34m{\u001b[0m\u001b[38;2;248;248;242;48;2;39;40;34manalysis\u001b[0m\u001b[38;2;248;248;242;48;2;39;40;34m[\u001b[0m\u001b[38;2;230;219;116;48;2;39;40;34m'\u001b[0m\u001b[38;2;230;219;116;48;2;39;40;34mhistorical_context\u001b[0m\u001b[38;2;230;219;116;48;2;39;40;34m'\u001b[0m\u001b[38;2;248;248;242;48;2;39;40;34m]\u001b[0m\u001b[38;2;230;219;116;48;2;39;40;34m}\u001b[0m\u001b[38;2;230;219;116;48;2;39;40;34m\"\u001b[0m\u001b[38;2;248;248;242;48;2;39;40;34m)\u001b[0m\u001b[48;2;39;40;34m                                                               \u001b[0m  \n",
       " ───────────────────────────────────────────────────────────────────────────────────────────────────────────────── \n"
      ]
     },
     "metadata": {},
     "output_type": "display_data"
    },
    {
     "data": {
      "text/html": [
       "<pre style=\"white-space:pre;overflow-x:auto;line-height:normal;font-family:Menlo,'DejaVu Sans Mono',consolas,'Courier New',monospace\"><span style=\"color: #d4b702; text-decoration-color: #d4b702; font-weight: bold\">Out - Final answer: US Strikes Iran’s Nuclear Sites, Risking Wider War in Mideast</span>\n",
       "\n",
       "<span style=\"color: #d4b702; text-decoration-color: #d4b702; font-weight: bold\">The strikes target Iran's nuclear capacity, reflecting a Cold War-era strategy of震慑 (intimidation) through force,</span>\n",
       "<span style=\"color: #d4b702; text-decoration-color: #d4b702; font-weight: bold\">despite Trump's rhetoric of avoiding conflicts.</span>\n",
       "<span style=\"color: #d4b702; text-decoration-color: #d4b702; font-weight: bold\">By joining Israel's campaign, the US risks entangling itself in a regional proxy war, echoing historical patterns </span>\n",
       "<span style=\"color: #d4b702; text-decoration-color: #d4b702; font-weight: bold\">of US interventionism in the Middle East.</span>\n",
       "<span style=\"color: #d4b702; text-decoration-color: #d4b702; font-weight: bold\">Iran's characterization of the attacks as 'outrageous' suggests negotiations are now politically impossible, </span>\n",
       "<span style=\"color: #d4b702; text-decoration-color: #d4b702; font-weight: bold\">locking the region into a cycle of retaliation.</span>\n",
       "<span style=\"color: #d4b702; text-decoration-color: #d4b702; font-weight: bold\">This mirrors 2003's Iraq War - using military action to address nuclear threats while bypassing diplomacy, with </span>\n",
       "<span style=\"color: #d4b702; text-decoration-color: #d4b702; font-weight: bold\">unpredictable regional consequences.</span>\n",
       "</pre>\n"
      ],
      "text/plain": [
       "\u001b[1;38;2;212;183;2mOut - Final answer: US Strikes Iran’s Nuclear Sites, Risking Wider War in Mideast\u001b[0m\n",
       "\n",
       "\u001b[1;38;2;212;183;2mThe strikes target Iran's nuclear capacity, reflecting a Cold War-era strategy of震慑 (intimidation) through force,\u001b[0m\n",
       "\u001b[1;38;2;212;183;2mdespite Trump's rhetoric of avoiding conflicts.\u001b[0m\n",
       "\u001b[1;38;2;212;183;2mBy joining Israel's campaign, the US risks entangling itself in a regional proxy war, echoing historical patterns \u001b[0m\n",
       "\u001b[1;38;2;212;183;2mof US interventionism in the Middle East.\u001b[0m\n",
       "\u001b[1;38;2;212;183;2mIran's characterization of the attacks as 'outrageous' suggests negotiations are now politically impossible, \u001b[0m\n",
       "\u001b[1;38;2;212;183;2mlocking the region into a cycle of retaliation.\u001b[0m\n",
       "\u001b[1;38;2;212;183;2mThis mirrors 2003's Iraq War - using military action to address nuclear threats while bypassing diplomacy, with \u001b[0m\n",
       "\u001b[1;38;2;212;183;2munpredictable regional consequences.\u001b[0m\n"
      ]
     },
     "metadata": {},
     "output_type": "display_data"
    },
    {
     "data": {
      "text/html": [
       "<pre style=\"white-space:pre;overflow-x:auto;line-height:normal;font-family:Menlo,'DejaVu Sans Mono',consolas,'Courier New',monospace\"><span style=\"color: #7f7f7f; text-decoration-color: #7f7f7f\">[Step 1: Duration 49.88 seconds| Input tokens: 2,402 | Output tokens: 647]</span>\n",
       "</pre>\n"
      ],
      "text/plain": [
       "\u001b[2m[Step 1: Duration 49.88 seconds| Input tokens: 2,402 | Output tokens: 647]\u001b[0m\n"
      ]
     },
     "metadata": {},
     "output_type": "display_data"
    },
    {
     "name": "stdout",
     "output_type": "stream",
     "text": [
      "US Strikes Iran’s Nuclear Sites, Risking Wider War in Mideast\n",
      "\n",
      "The strikes target Iran's nuclear capacity, reflecting a Cold War-era strategy of震慑 (intimidation) through force, despite Trump's rhetoric of avoiding conflicts.\n",
      "By joining Israel's campaign, the US risks entangling itself in a regional proxy war, echoing historical patterns of US interventionism in the Middle East.\n",
      "Iran's characterization of the attacks as 'outrageous' suggests negotiations are now politically impossible, locking the region into a cycle of retaliation.\n",
      "This mirrors 2003's Iraq War - using military action to address nuclear threats while bypassing diplomacy, with unpredictable regional consequences.\n"
     ]
    }
   ],
   "source": [
    "response = agent.run(prompt)\n",
    "print(response)"
   ]
  },
  {
   "cell_type": "markdown",
   "id": "768cb7dd-f1bc-40dd-a0df-3c6e734a3985",
   "metadata": {},
   "source": [
    "## Three-Step Progression\n",
    "### Step 1: Base LLM Generation\n",
    "\n",
    "- Uses only the base LLM without any retrieval\n",
    "- Generates content based on the author's name and general knowledge\n",
    "- Serves as the baseline for comparison\n",
    "\n",
    "### Step 2: RAG-Enhanced Generation\n",
    "\n",
    "- Incorporates document retrieval from the author's works\n",
    "- Uses BM25 retrieval to find relevant passages\n",
    "- Combines retrieved context with the generation task\n",
    "\n",
    "### Step 3: Advanced Agentic RAG\n",
    "\n",
    "- Adds web search capabilities for current information\n",
    "- Allows the agent to reason about when to use different tools\n",
    "- Provides the most sophisticated and context-aware responses"
   ]
  },
  {
   "cell_type": "code",
   "execution_count": 5,
   "id": "08cff6fb-518d-4499-b3a8-74f574675519",
   "metadata": {},
   "outputs": [],
   "source": [
    "# Configuration\n",
    "AUTHOR = \"Robert Wright\" \n",
    "HEADLINE = \"US Strikes Iran’s Nuclear Sites, Risking Wider War in Mideast\"\n",
    "STORY = \"\"\"\n",
    "The US carried out airstrikes on three nuclear sites in Iran overnight, directly entering Israel’s war with Tehran despite President Donald Trump’s longtime promises to avoid new foreign conflicts.\n",
    "Trump said Iran’s key nuclear enrichment facilities had been “totally obliterated” and warned of “far greater” attacks unless the Islamic Republic agreed to make peace, raising the prospect of deeper US involvement in a Middle East war sparked by Israeli strikes nine days ago.\n",
    "Iranian officials said the ongoing attacks by Israel — now joined by the US — had left little room for diplomacy, arguing that negotiations are impossible while the country is under assault. Tehran fired missiles at Israel in response but has so far stopped short of targeting American forces or assets in the region.\n",
    "American B-2 bombers dropped a dozen of the 30,000-pound (13,600-kilogram) bunker-buster bombs on Fordow, a uranium-enrichment site buried deep under a mountain, the New York Times reported. Natanz and Isfahan, two other nuclear facilities, were also struck using similar weapons and cruise missiles.\n",
    "“Our objective was the destruction of Iran’s nuclear enrichment capacity and a stop to the nuclear threat posed by the world’s No. 1 state sponsor of terror,” Trump said. “Iran, the bully of the Middle East, must now make peace. If they do not, future attacks will be far greater — and a lot easier.”\n",
    "Iran’s foreign minister, Abbas Araghchi, said the American strikes are “outrageous and will have everlasting consequences.” \n",
    "\"\"\"\n",
    "RTF_DOCUMENTS_PATH = \"./author_documents\"  "
   ]
  },
  {
   "cell_type": "code",
   "execution_count": 6,
   "id": "44dfe46b-8757-43c6-8780-7a9c937a1f9e",
   "metadata": {},
   "outputs": [],
   "source": [
    "import os\n",
    "import re\n",
    "from typing import List, Dict, Any\n",
    "from pathlib import Path\n",
    "\n",
    "from smolagents import CodeAgent, DuckDuckGoSearchTool, Tool\n",
    "from smolagents.models import LiteLLMModel\n",
    "from langchain.docstore.document import Document\n",
    "from langchain.text_splitter import RecursiveCharacterTextSplitter\n",
    "from langchain_community.retrievers import BM25Retriever"
   ]
  },
  {
   "cell_type": "code",
   "execution_count": 7,
   "id": "4aaab37e-f53d-4c18-8b5f-d6cc5675bca1",
   "metadata": {},
   "outputs": [],
   "source": [
    "# RTF file reader utility\n",
    "def read_rtf_file(file_path: str) -> str:\n",
    "    \"\"\"\n",
    "    Simple RTF reader that extracts plain text from RTF files.\n",
    "    For production use, consider using python-rtf or striprtf libraries.\n",
    "    \"\"\"\n",
    "    try:\n",
    "        with open(file_path, 'r', encoding='utf-8', errors='ignore') as file:\n",
    "            content = file.read()\n",
    "        \n",
    "        # Basic RTF cleaning - remove RTF control codes\n",
    "        # This is a simplified approach; for complex RTF files, use dedicated libraries\n",
    "        content = re.sub(r'\\\\[a-z]+\\d*', '', content)  # Remove RTF commands\n",
    "        content = re.sub(r'[{}]', '', content)  # Remove braces\n",
    "        content = re.sub(r'\\s+', ' ', content)  # Normalize whitespace\n",
    "        content = content.strip()\n",
    "        \n",
    "        return content\n",
    "    except Exception as e:\n",
    "        print(f\"Error reading RTF file {file_path}: {e}\")\n",
    "        return \"\""
   ]
  },
  {
   "cell_type": "markdown",
   "id": "6740fec7-b0ad-4ce9-a47b-10660e548867",
   "metadata": {},
   "source": [
    "## Step 1: Base LLM Generation"
   ]
  },
  {
   "cell_type": "code",
   "execution_count": 8,
   "id": "04b1568e-c29c-460d-9302-bb5e3aa99016",
   "metadata": {},
   "outputs": [],
   "source": [
    "class BaseAuthorGenerator:\n",
    "    \"\"\"Step 1: Basic author style generation without RAG\"\"\"\n",
    "    \n",
    "    def __init__(self, author_name: str, model_id: str = \"ollama_chat/qwen3:8b\"):\n",
    "        self.author_name = author_name\n",
    "        self.model = LiteLLMModel(model_id=model_id)\n",
    "        self.agent = CodeAgent(model=self.model, tools=[])\n",
    "    \n",
    "    def generate_response(self, headline: str, story: str) -> str:\n",
    "        prompt = f\"\"\"\n",
    "        You are tasked with generating content in the style of {self.author_name}.\n",
    "        \n",
    "        Based on the following news headline and story, create a response or commentary \n",
    "        that captures {self.author_name}'s distinctive voice, perspective, and style.\n",
    "        \n",
    "        Headline: {headline}\n",
    "        Story: {story}\n",
    "        \n",
    "        Generate a response that {self.author_name} would likely write:\n",
    "        \"\"\"\n",
    "        \n",
    "        return self.agent.run(prompt)"
   ]
  },
  {
   "cell_type": "code",
   "execution_count": 9,
   "id": "b6dc20dd-a5cc-4777-b8a5-eb17397f59ea",
   "metadata": {},
   "outputs": [
    {
     "name": "stdout",
     "output_type": "stream",
     "text": [
      "STEP 1: Base LLM Content Generation\n",
      "----------------------------------------\n"
     ]
    },
    {
     "data": {
      "text/html": [
       "<pre style=\"white-space:pre;overflow-x:auto;line-height:normal;font-family:Menlo,'DejaVu Sans Mono',consolas,'Courier New',monospace\"><span style=\"color: #d4b702; text-decoration-color: #d4b702\">╭──────────────────────────────────────────────────── </span><span style=\"color: #d4b702; text-decoration-color: #d4b702; font-weight: bold\">New run</span><span style=\"color: #d4b702; text-decoration-color: #d4b702\"> ────────────────────────────────────────────────────╮</span>\n",
       "<span style=\"color: #d4b702; text-decoration-color: #d4b702\">│</span>                                                                                                                 <span style=\"color: #d4b702; text-decoration-color: #d4b702\">│</span>\n",
       "<span style=\"color: #d4b702; text-decoration-color: #d4b702\">│</span> <span style=\"font-weight: bold\">You are tasked with generating content in the style of Robert Wright.</span>                                           <span style=\"color: #d4b702; text-decoration-color: #d4b702\">│</span>\n",
       "<span style=\"color: #d4b702; text-decoration-color: #d4b702\">│</span>                                                                                                                 <span style=\"color: #d4b702; text-decoration-color: #d4b702\">│</span>\n",
       "<span style=\"color: #d4b702; text-decoration-color: #d4b702\">│</span> <span style=\"font-weight: bold\">        Based on the following news headline and story, create a response or commentary </span>                        <span style=\"color: #d4b702; text-decoration-color: #d4b702\">│</span>\n",
       "<span style=\"color: #d4b702; text-decoration-color: #d4b702\">│</span> <span style=\"font-weight: bold\">        that captures Robert Wright's distinctive voice, perspective, and style.</span>                                <span style=\"color: #d4b702; text-decoration-color: #d4b702\">│</span>\n",
       "<span style=\"color: #d4b702; text-decoration-color: #d4b702\">│</span>                                                                                                                 <span style=\"color: #d4b702; text-decoration-color: #d4b702\">│</span>\n",
       "<span style=\"color: #d4b702; text-decoration-color: #d4b702\">│</span> <span style=\"font-weight: bold\">        Headline: US Strikes Iran’s Nuclear Sites, Risking Wider War in Mideast</span>                                 <span style=\"color: #d4b702; text-decoration-color: #d4b702\">│</span>\n",
       "<span style=\"color: #d4b702; text-decoration-color: #d4b702\">│</span> <span style=\"font-weight: bold\">        Story: </span>                                                                                                 <span style=\"color: #d4b702; text-decoration-color: #d4b702\">│</span>\n",
       "<span style=\"color: #d4b702; text-decoration-color: #d4b702\">│</span> <span style=\"font-weight: bold\">The US carried out airstrikes on three nuclear sites in Iran overnight, directly entering Israel’s war with </span>    <span style=\"color: #d4b702; text-decoration-color: #d4b702\">│</span>\n",
       "<span style=\"color: #d4b702; text-decoration-color: #d4b702\">│</span> <span style=\"font-weight: bold\">Tehran despite President Donald Trump’s longtime promises to avoid new foreign conflicts.</span>                       <span style=\"color: #d4b702; text-decoration-color: #d4b702\">│</span>\n",
       "<span style=\"color: #d4b702; text-decoration-color: #d4b702\">│</span> <span style=\"font-weight: bold\">Trump said Iran’s key nuclear enrichment facilities had been “totally obliterated” and warned of “far greater” </span> <span style=\"color: #d4b702; text-decoration-color: #d4b702\">│</span>\n",
       "<span style=\"color: #d4b702; text-decoration-color: #d4b702\">│</span> <span style=\"font-weight: bold\">attacks unless the Islamic Republic agreed to make peace, raising the prospect of deeper US involvement in a </span>   <span style=\"color: #d4b702; text-decoration-color: #d4b702\">│</span>\n",
       "<span style=\"color: #d4b702; text-decoration-color: #d4b702\">│</span> <span style=\"font-weight: bold\">Middle East war sparked by Israeli strikes nine days ago.</span>                                                       <span style=\"color: #d4b702; text-decoration-color: #d4b702\">│</span>\n",
       "<span style=\"color: #d4b702; text-decoration-color: #d4b702\">│</span> <span style=\"font-weight: bold\">Iranian officials said the ongoing attacks by Israel — now joined by the US — had left little room for </span>         <span style=\"color: #d4b702; text-decoration-color: #d4b702\">│</span>\n",
       "<span style=\"color: #d4b702; text-decoration-color: #d4b702\">│</span> <span style=\"font-weight: bold\">diplomacy, arguing that negotiations are impossible while the country is under assault. Tehran fired missiles </span>  <span style=\"color: #d4b702; text-decoration-color: #d4b702\">│</span>\n",
       "<span style=\"color: #d4b702; text-decoration-color: #d4b702\">│</span> <span style=\"font-weight: bold\">at Israel in response but has so far stopped short of targeting American forces or assets in the region.</span>        <span style=\"color: #d4b702; text-decoration-color: #d4b702\">│</span>\n",
       "<span style=\"color: #d4b702; text-decoration-color: #d4b702\">│</span> <span style=\"font-weight: bold\">American B-2 bombers dropped a dozen of the 30,000-pound (13,600-kilogram) bunker-buster bombs on Fordow, a </span>    <span style=\"color: #d4b702; text-decoration-color: #d4b702\">│</span>\n",
       "<span style=\"color: #d4b702; text-decoration-color: #d4b702\">│</span> <span style=\"font-weight: bold\">uranium-enrichment site buried deep under a mountain, the New York Times reported. Natanz and Isfahan, two </span>     <span style=\"color: #d4b702; text-decoration-color: #d4b702\">│</span>\n",
       "<span style=\"color: #d4b702; text-decoration-color: #d4b702\">│</span> <span style=\"font-weight: bold\">other nuclear facilities, were also struck using similar weapons and cruise missiles.</span>                           <span style=\"color: #d4b702; text-decoration-color: #d4b702\">│</span>\n",
       "<span style=\"color: #d4b702; text-decoration-color: #d4b702\">│</span> <span style=\"font-weight: bold\">“Our objective was the destruction of Iran’s nuclear enrichment capacity and a stop to the nuclear threat posed</span> <span style=\"color: #d4b702; text-decoration-color: #d4b702\">│</span>\n",
       "<span style=\"color: #d4b702; text-decoration-color: #d4b702\">│</span> <span style=\"font-weight: bold\">by the world’s No. 1 state sponsor of terror,” Trump said. “Iran, the bully of the Middle East, must now make </span>  <span style=\"color: #d4b702; text-decoration-color: #d4b702\">│</span>\n",
       "<span style=\"color: #d4b702; text-decoration-color: #d4b702\">│</span> <span style=\"font-weight: bold\">peace. If they do not, future attacks will be far greater — and a lot easier.”</span>                                  <span style=\"color: #d4b702; text-decoration-color: #d4b702\">│</span>\n",
       "<span style=\"color: #d4b702; text-decoration-color: #d4b702\">│</span> <span style=\"font-weight: bold\">Iran’s foreign minister, Abbas Araghchi, said the American strikes are “outrageous and will have everlasting </span>   <span style=\"color: #d4b702; text-decoration-color: #d4b702\">│</span>\n",
       "<span style=\"color: #d4b702; text-decoration-color: #d4b702\">│</span> <span style=\"font-weight: bold\">consequences.” </span>                                                                                                 <span style=\"color: #d4b702; text-decoration-color: #d4b702\">│</span>\n",
       "<span style=\"color: #d4b702; text-decoration-color: #d4b702\">│</span>                                                                                                                 <span style=\"color: #d4b702; text-decoration-color: #d4b702\">│</span>\n",
       "<span style=\"color: #d4b702; text-decoration-color: #d4b702\">│</span>                                                                                                                 <span style=\"color: #d4b702; text-decoration-color: #d4b702\">│</span>\n",
       "<span style=\"color: #d4b702; text-decoration-color: #d4b702\">│</span> <span style=\"font-weight: bold\">        Generate a response that Robert Wright would likely write:</span>                                              <span style=\"color: #d4b702; text-decoration-color: #d4b702\">│</span>\n",
       "<span style=\"color: #d4b702; text-decoration-color: #d4b702\">│</span>                                                                                                                 <span style=\"color: #d4b702; text-decoration-color: #d4b702\">│</span>\n",
       "<span style=\"color: #d4b702; text-decoration-color: #d4b702\">╰─ LiteLLMModel - ollama_chat/qwen3:8b ───────────────────────────────────────────────────────────────────────────╯</span>\n",
       "</pre>\n"
      ],
      "text/plain": [
       "\u001b[38;2;212;183;2m╭─\u001b[0m\u001b[38;2;212;183;2m───────────────────────────────────────────────────\u001b[0m\u001b[38;2;212;183;2m \u001b[0m\u001b[1;38;2;212;183;2mNew run\u001b[0m\u001b[38;2;212;183;2m \u001b[0m\u001b[38;2;212;183;2m───────────────────────────────────────────────────\u001b[0m\u001b[38;2;212;183;2m─╮\u001b[0m\n",
       "\u001b[38;2;212;183;2m│\u001b[0m                                                                                                                 \u001b[38;2;212;183;2m│\u001b[0m\n",
       "\u001b[38;2;212;183;2m│\u001b[0m \u001b[1mYou are tasked with generating content in the style of Robert Wright.\u001b[0m                                           \u001b[38;2;212;183;2m│\u001b[0m\n",
       "\u001b[38;2;212;183;2m│\u001b[0m                                                                                                                 \u001b[38;2;212;183;2m│\u001b[0m\n",
       "\u001b[38;2;212;183;2m│\u001b[0m \u001b[1m        Based on the following news headline and story, create a response or commentary \u001b[0m                        \u001b[38;2;212;183;2m│\u001b[0m\n",
       "\u001b[38;2;212;183;2m│\u001b[0m \u001b[1m        that captures Robert Wright's distinctive voice, perspective, and style.\u001b[0m                                \u001b[38;2;212;183;2m│\u001b[0m\n",
       "\u001b[38;2;212;183;2m│\u001b[0m                                                                                                                 \u001b[38;2;212;183;2m│\u001b[0m\n",
       "\u001b[38;2;212;183;2m│\u001b[0m \u001b[1m        Headline: US Strikes Iran’s Nuclear Sites, Risking Wider War in Mideast\u001b[0m                                 \u001b[38;2;212;183;2m│\u001b[0m\n",
       "\u001b[38;2;212;183;2m│\u001b[0m \u001b[1m        Story: \u001b[0m                                                                                                 \u001b[38;2;212;183;2m│\u001b[0m\n",
       "\u001b[38;2;212;183;2m│\u001b[0m \u001b[1mThe US carried out airstrikes on three nuclear sites in Iran overnight, directly entering Israel’s war with \u001b[0m    \u001b[38;2;212;183;2m│\u001b[0m\n",
       "\u001b[38;2;212;183;2m│\u001b[0m \u001b[1mTehran despite President Donald Trump’s longtime promises to avoid new foreign conflicts.\u001b[0m                       \u001b[38;2;212;183;2m│\u001b[0m\n",
       "\u001b[38;2;212;183;2m│\u001b[0m \u001b[1mTrump said Iran’s key nuclear enrichment facilities had been “totally obliterated” and warned of “far greater” \u001b[0m \u001b[38;2;212;183;2m│\u001b[0m\n",
       "\u001b[38;2;212;183;2m│\u001b[0m \u001b[1mattacks unless the Islamic Republic agreed to make peace, raising the prospect of deeper US involvement in a \u001b[0m   \u001b[38;2;212;183;2m│\u001b[0m\n",
       "\u001b[38;2;212;183;2m│\u001b[0m \u001b[1mMiddle East war sparked by Israeli strikes nine days ago.\u001b[0m                                                       \u001b[38;2;212;183;2m│\u001b[0m\n",
       "\u001b[38;2;212;183;2m│\u001b[0m \u001b[1mIranian officials said the ongoing attacks by Israel — now joined by the US — had left little room for \u001b[0m         \u001b[38;2;212;183;2m│\u001b[0m\n",
       "\u001b[38;2;212;183;2m│\u001b[0m \u001b[1mdiplomacy, arguing that negotiations are impossible while the country is under assault. Tehran fired missiles \u001b[0m  \u001b[38;2;212;183;2m│\u001b[0m\n",
       "\u001b[38;2;212;183;2m│\u001b[0m \u001b[1mat Israel in response but has so far stopped short of targeting American forces or assets in the region.\u001b[0m        \u001b[38;2;212;183;2m│\u001b[0m\n",
       "\u001b[38;2;212;183;2m│\u001b[0m \u001b[1mAmerican B-2 bombers dropped a dozen of the 30,000-pound (13,600-kilogram) bunker-buster bombs on Fordow, a \u001b[0m    \u001b[38;2;212;183;2m│\u001b[0m\n",
       "\u001b[38;2;212;183;2m│\u001b[0m \u001b[1muranium-enrichment site buried deep under a mountain, the New York Times reported. Natanz and Isfahan, two \u001b[0m     \u001b[38;2;212;183;2m│\u001b[0m\n",
       "\u001b[38;2;212;183;2m│\u001b[0m \u001b[1mother nuclear facilities, were also struck using similar weapons and cruise missiles.\u001b[0m                           \u001b[38;2;212;183;2m│\u001b[0m\n",
       "\u001b[38;2;212;183;2m│\u001b[0m \u001b[1m“Our objective was the destruction of Iran’s nuclear enrichment capacity and a stop to the nuclear threat posed\u001b[0m \u001b[38;2;212;183;2m│\u001b[0m\n",
       "\u001b[38;2;212;183;2m│\u001b[0m \u001b[1mby the world’s No. 1 state sponsor of terror,” Trump said. “Iran, the bully of the Middle East, must now make \u001b[0m  \u001b[38;2;212;183;2m│\u001b[0m\n",
       "\u001b[38;2;212;183;2m│\u001b[0m \u001b[1mpeace. If they do not, future attacks will be far greater — and a lot easier.”\u001b[0m                                  \u001b[38;2;212;183;2m│\u001b[0m\n",
       "\u001b[38;2;212;183;2m│\u001b[0m \u001b[1mIran’s foreign minister, Abbas Araghchi, said the American strikes are “outrageous and will have everlasting \u001b[0m   \u001b[38;2;212;183;2m│\u001b[0m\n",
       "\u001b[38;2;212;183;2m│\u001b[0m \u001b[1mconsequences.” \u001b[0m                                                                                                 \u001b[38;2;212;183;2m│\u001b[0m\n",
       "\u001b[38;2;212;183;2m│\u001b[0m                                                                                                                 \u001b[38;2;212;183;2m│\u001b[0m\n",
       "\u001b[38;2;212;183;2m│\u001b[0m                                                                                                                 \u001b[38;2;212;183;2m│\u001b[0m\n",
       "\u001b[38;2;212;183;2m│\u001b[0m \u001b[1m        Generate a response that Robert Wright would likely write:\u001b[0m                                              \u001b[38;2;212;183;2m│\u001b[0m\n",
       "\u001b[38;2;212;183;2m│\u001b[0m                                                                                                                 \u001b[38;2;212;183;2m│\u001b[0m\n",
       "\u001b[38;2;212;183;2m╰─\u001b[0m\u001b[38;2;212;183;2m LiteLLMModel - ollama_chat/qwen3:8b \u001b[0m\u001b[38;2;212;183;2m──────────────────────────────────────────────────────────────────────────\u001b[0m\u001b[38;2;212;183;2m─╯\u001b[0m\n"
      ]
     },
     "metadata": {},
     "output_type": "display_data"
    },
    {
     "data": {
      "text/html": [
       "<pre style=\"white-space:pre;overflow-x:auto;line-height:normal;font-family:Menlo,'DejaVu Sans Mono',consolas,'Courier New',monospace\"><span style=\"color: #d4b702; text-decoration-color: #d4b702\">━━━━━━━━━━━━━━━━━━━━━━━━━━━━━━━━━━━━━━━━━━━━━━━━━━━━━ </span><span style=\"font-weight: bold\">Step </span><span style=\"color: #008080; text-decoration-color: #008080; font-weight: bold\">1</span><span style=\"color: #d4b702; text-decoration-color: #d4b702\"> ━━━━━━━━━━━━━━━━━━━━━━━━━━━━━━━━━━━━━━━━━━━━━━━━━━━━━━</span>\n",
       "</pre>\n"
      ],
      "text/plain": [
       "\u001b[38;2;212;183;2m━━━━━━━━━━━━━━━━━━━━━━━━━━━━━━━━━━━━━━━━━━━━━━━━━━━━━ \u001b[0m\u001b[1mStep \u001b[0m\u001b[1;36m1\u001b[0m\u001b[38;2;212;183;2m ━━━━━━━━━━━━━━━━━━━━━━━━━━━━━━━━━━━━━━━━━━━━━━━━━━━━━━\u001b[0m\n"
      ]
     },
     "metadata": {},
     "output_type": "display_data"
    },
    {
     "data": {
      "text/html": [
       "<pre style=\"white-space:pre;overflow-x:auto;line-height:normal;font-family:Menlo,'DejaVu Sans Mono',consolas,'Courier New',monospace\"> ─ <span style=\"font-weight: bold\">Executing parsed code:</span> ──────────────────────────────────────────────────────────────────────────────────────── \n",
       "  <span style=\"color: #959077; text-decoration-color: #959077; background-color: #272822\"># No code execution needed - this is a creative writing task</span><span style=\"background-color: #272822\">                                                   </span>  \n",
       "  <span style=\"color: #959077; text-decoration-color: #959077; background-color: #272822\"># Final answer will be the generated commentary</span><span style=\"background-color: #272822\">                                                                </span>  \n",
       "  <span style=\"color: #f8f8f2; text-decoration-color: #f8f8f2; background-color: #272822\">final_answer(</span><span style=\"background-color: #272822\">                                                                                                  </span>  \n",
       "  <span style=\"color: #f8f8f2; text-decoration-color: #f8f8f2; background-color: #272822\">    </span><span style=\"color: #e6db74; text-decoration-color: #e6db74; background-color: #272822\">\"The airstrikes on Iran's nuclear sites are less about immediate military victory and more about </span><span style=\"background-color: #272822\">          </span>  \n",
       "  <span style=\"color: #e6db74; text-decoration-color: #e6db74; background-color: #272822\">reinforcing a familiar script: that power must be asserted through force, and that the 'axis of evil' must be </span><span style=\"background-color: #272822\"> </span>  \n",
       "  <span style=\"color: #e6db74; text-decoration-color: #e6db74; background-color: #272822\">kept in perpetual check. Yet this approach, as always, risks entrenching the very cycles of violence it claims </span>  \n",
       "  <span style=\"color: #e6db74; text-decoration-color: #e6db74; background-color: #272822\">to combat. In the Middle East, where ancient rivalries simmer beneath modern statehood, such strikes may </span><span style=\"background-color: #272822\">      </span>  \n",
       "  <span style=\"color: #e6db74; text-decoration-color: #e6db74; background-color: #272822\">embolden Tehran's narrative of resistance while deepening the U.S.'s image as an imperial intervener. The real </span>  \n",
       "  <span style=\"color: #e6db74; text-decoration-color: #e6db74; background-color: #272822\">tragedy isn't the destruction of facilities, but the perpetuation of a logic where nuclear deterrence becomes a</span>  \n",
       "  <span style=\"color: #e6db74; text-decoration-color: #e6db74; background-color: #272822\">currency of fear - a game where no side can truly 'win,' only survive longer. And in this endless chess match, </span>  \n",
       "  <span style=\"color: #e6db74; text-decoration-color: #e6db74; background-color: #272822\">the human cost is always the collateral damage.\"</span><span style=\"background-color: #272822\">                                                               </span>  \n",
       "  <span style=\"color: #f8f8f2; text-decoration-color: #f8f8f2; background-color: #272822\">)</span><span style=\"background-color: #272822\">                                                                                                              </span>  \n",
       " ───────────────────────────────────────────────────────────────────────────────────────────────────────────────── \n",
       "</pre>\n"
      ],
      "text/plain": [
       " ─ \u001b[1mExecuting parsed code:\u001b[0m ──────────────────────────────────────────────────────────────────────────────────────── \n",
       "  \u001b[38;2;149;144;119;48;2;39;40;34m# No code execution needed - this is a creative writing task\u001b[0m\u001b[48;2;39;40;34m                                                   \u001b[0m  \n",
       "  \u001b[38;2;149;144;119;48;2;39;40;34m# Final answer will be the generated commentary\u001b[0m\u001b[48;2;39;40;34m                                                                \u001b[0m  \n",
       "  \u001b[38;2;248;248;242;48;2;39;40;34mfinal_answer\u001b[0m\u001b[38;2;248;248;242;48;2;39;40;34m(\u001b[0m\u001b[48;2;39;40;34m                                                                                                  \u001b[0m  \n",
       "  \u001b[38;2;248;248;242;48;2;39;40;34m    \u001b[0m\u001b[38;2;230;219;116;48;2;39;40;34m\"\u001b[0m\u001b[38;2;230;219;116;48;2;39;40;34mThe airstrikes on Iran\u001b[0m\u001b[38;2;230;219;116;48;2;39;40;34m'\u001b[0m\u001b[38;2;230;219;116;48;2;39;40;34ms nuclear sites are less about immediate military victory and more about \u001b[0m\u001b[48;2;39;40;34m          \u001b[0m  \n",
       "  \u001b[38;2;230;219;116;48;2;39;40;34mreinforcing a familiar script: that power must be asserted through force, and that the \u001b[0m\u001b[38;2;230;219;116;48;2;39;40;34m'\u001b[0m\u001b[38;2;230;219;116;48;2;39;40;34maxis of evil\u001b[0m\u001b[38;2;230;219;116;48;2;39;40;34m'\u001b[0m\u001b[38;2;230;219;116;48;2;39;40;34m must be \u001b[0m\u001b[48;2;39;40;34m \u001b[0m  \n",
       "  \u001b[38;2;230;219;116;48;2;39;40;34mkept in perpetual check. Yet this approach, as always, risks entrenching the very cycles of violence it claims \u001b[0m  \n",
       "  \u001b[38;2;230;219;116;48;2;39;40;34mto combat. In the Middle East, where ancient rivalries simmer beneath modern statehood, such strikes may \u001b[0m\u001b[48;2;39;40;34m      \u001b[0m  \n",
       "  \u001b[38;2;230;219;116;48;2;39;40;34membolden Tehran\u001b[0m\u001b[38;2;230;219;116;48;2;39;40;34m'\u001b[0m\u001b[38;2;230;219;116;48;2;39;40;34ms narrative of resistance while deepening the U.S.\u001b[0m\u001b[38;2;230;219;116;48;2;39;40;34m'\u001b[0m\u001b[38;2;230;219;116;48;2;39;40;34ms image as an imperial intervener. The real \u001b[0m  \n",
       "  \u001b[38;2;230;219;116;48;2;39;40;34mtragedy isn\u001b[0m\u001b[38;2;230;219;116;48;2;39;40;34m'\u001b[0m\u001b[38;2;230;219;116;48;2;39;40;34mt the destruction of facilities, but the perpetuation of a logic where nuclear deterrence becomes a\u001b[0m  \n",
       "  \u001b[38;2;230;219;116;48;2;39;40;34mcurrency of fear - a game where no side can truly \u001b[0m\u001b[38;2;230;219;116;48;2;39;40;34m'\u001b[0m\u001b[38;2;230;219;116;48;2;39;40;34mwin,\u001b[0m\u001b[38;2;230;219;116;48;2;39;40;34m'\u001b[0m\u001b[38;2;230;219;116;48;2;39;40;34m only survive longer. And in this endless chess match, \u001b[0m  \n",
       "  \u001b[38;2;230;219;116;48;2;39;40;34mthe human cost is always the collateral damage.\u001b[0m\u001b[38;2;230;219;116;48;2;39;40;34m\"\u001b[0m\u001b[48;2;39;40;34m                                                               \u001b[0m  \n",
       "  \u001b[38;2;248;248;242;48;2;39;40;34m)\u001b[0m\u001b[48;2;39;40;34m                                                                                                              \u001b[0m  \n",
       " ───────────────────────────────────────────────────────────────────────────────────────────────────────────────── \n"
      ]
     },
     "metadata": {},
     "output_type": "display_data"
    },
    {
     "data": {
      "text/html": [
       "<pre style=\"white-space:pre;overflow-x:auto;line-height:normal;font-family:Menlo,'DejaVu Sans Mono',consolas,'Courier New',monospace\"><span style=\"color: #d4b702; text-decoration-color: #d4b702; font-weight: bold\">Out - Final answer: The airstrikes on Iran's nuclear sites are less about immediate military victory and more about</span>\n",
       "<span style=\"color: #d4b702; text-decoration-color: #d4b702; font-weight: bold\">reinforcing a familiar script: that power must be asserted through force, and that the 'axis of evil' must be kept </span>\n",
       "<span style=\"color: #d4b702; text-decoration-color: #d4b702; font-weight: bold\">in perpetual check. Yet this approach, as always, risks entrenching the very cycles of violence it claims to </span>\n",
       "<span style=\"color: #d4b702; text-decoration-color: #d4b702; font-weight: bold\">combat. In the Middle East, where ancient rivalries simmer beneath modern statehood, such strikes may embolden </span>\n",
       "<span style=\"color: #d4b702; text-decoration-color: #d4b702; font-weight: bold\">Tehran's narrative of resistance while deepening the U.S.'s image as an imperial intervener. The real tragedy isn't</span>\n",
       "<span style=\"color: #d4b702; text-decoration-color: #d4b702; font-weight: bold\">the destruction of facilities, but the perpetuation of a logic where nuclear deterrence becomes a currency of fear </span>\n",
       "<span style=\"color: #d4b702; text-decoration-color: #d4b702; font-weight: bold\">- a game where no side can truly 'win,' only survive longer. And in this endless chess match, the human cost is </span>\n",
       "<span style=\"color: #d4b702; text-decoration-color: #d4b702; font-weight: bold\">always the collateral damage.</span>\n",
       "</pre>\n"
      ],
      "text/plain": [
       "\u001b[1;38;2;212;183;2mOut - Final answer: The airstrikes on Iran's nuclear sites are less about immediate military victory and more about\u001b[0m\n",
       "\u001b[1;38;2;212;183;2mreinforcing a familiar script: that power must be asserted through force, and that the 'axis of evil' must be kept \u001b[0m\n",
       "\u001b[1;38;2;212;183;2min perpetual check. Yet this approach, as always, risks entrenching the very cycles of violence it claims to \u001b[0m\n",
       "\u001b[1;38;2;212;183;2mcombat. In the Middle East, where ancient rivalries simmer beneath modern statehood, such strikes may embolden \u001b[0m\n",
       "\u001b[1;38;2;212;183;2mTehran's narrative of resistance while deepening the U.S.'s image as an imperial intervener. The real tragedy isn't\u001b[0m\n",
       "\u001b[1;38;2;212;183;2mthe destruction of facilities, but the perpetuation of a logic where nuclear deterrence becomes a currency of fear \u001b[0m\n",
       "\u001b[1;38;2;212;183;2m- a game where no side can truly 'win,' only survive longer. And in this endless chess match, the human cost is \u001b[0m\n",
       "\u001b[1;38;2;212;183;2malways the collateral damage.\u001b[0m\n"
      ]
     },
     "metadata": {},
     "output_type": "display_data"
    },
    {
     "data": {
      "text/html": [
       "<pre style=\"white-space:pre;overflow-x:auto;line-height:normal;font-family:Menlo,'DejaVu Sans Mono',consolas,'Courier New',monospace\"><span style=\"color: #7f7f7f; text-decoration-color: #7f7f7f\">[Step 1: Duration 39.67 seconds| Input tokens: 2,383 | Output tokens: 649]</span>\n",
       "</pre>\n"
      ],
      "text/plain": [
       "\u001b[2m[Step 1: Duration 39.67 seconds| Input tokens: 2,383 | Output tokens: 649]\u001b[0m\n"
      ]
     },
     "metadata": {},
     "output_type": "display_data"
    },
    {
     "name": "stdout",
     "output_type": "stream",
     "text": [
      "Response: The airstrikes on Iran's nuclear sites are less about immediate military victory and more about reinforcing a familiar script: that power must be asserted through force, and that the 'axis of evil' must be kept in perpetual check. Yet this approach, as always, risks entrenching the very cycles of violence it claims to combat. In the Middle East, where ancient rivalries simmer beneath modern statehood, such strikes may embolden Tehran's narrative of resistance while deepening the U.S.'s image as an imperial intervener. The real tragedy isn't the destruction of facilities, but the perpetuation of a logic where nuclear deterrence becomes a currency of fear - a game where no side can truly 'win,' only survive longer. And in this endless chess match, the human cost is always the collateral damage.\n",
      "\n"
     ]
    }
   ],
   "source": [
    "# Step 1: Base LLM Generation\n",
    "print(\"STEP 1: Base LLM Content Generation\")\n",
    "print(\"-\" * 40)\n",
    "base_generator = BaseAuthorGenerator(AUTHOR)\n",
    "step1_response = base_generator.generate_response(HEADLINE, STORY)\n",
    "print(f\"Response: {step1_response}\\n\")"
   ]
  },
  {
   "cell_type": "markdown",
   "id": "cce64f4c-73e8-4acb-820f-ed86983aa402",
   "metadata": {},
   "source": [
    "## Step 2: RAG-Enhanced Generation"
   ]
  },
  {
   "cell_type": "code",
   "execution_count": 11,
   "id": "77246670-5969-40ba-bc75-f5cbc95ca0c8",
   "metadata": {},
   "outputs": [],
   "source": [
    "class AuthorDocumentRetrieverTool(Tool):\n",
    "    \"\"\"Custom retriever tool for author's documents\"\"\"\n",
    "    \n",
    "    name = \"author_document_retriever\"\n",
    "    description = \"Retrieves relevant passages from the author's existing works to inform style and content generation.\"\n",
    "    inputs = {\n",
    "        \"query\": {\n",
    "            \"type\": \"string\",\n",
    "            \"description\": \"The query to search for relevant content in the author's documents.\",\n",
    "        }\n",
    "    }\n",
    "    output_type = \"string\"\n",
    "\n",
    "    def __init__(self, docs: List[Document], **kwargs):\n",
    "        super().__init__(**kwargs)\n",
    "        self.retriever = BM25Retriever.from_documents(\n",
    "            docs, k=3  # Retrieve top 3 most relevant passages\n",
    "        )\n",
    "\n",
    "    def forward(self, query: str) -> str:\n",
    "        assert isinstance(query, str), \"Your search query must be a string\"\n",
    "        \n",
    "        docs = self.retriever.invoke(query)\n",
    "        \n",
    "        if not docs:\n",
    "            return \"No relevant passages found in the author's documents.\"\n",
    "        \n",
    "        result = \"\\n=== RELEVANT AUTHOR PASSAGES ===\\n\"\n",
    "        for i, doc in enumerate(docs, 1):\n",
    "            result += f\"\\n--- Passage {i} ---\\n{doc.page_content}\\n\"\n",
    "        \n",
    "        return result\n",
    "\n",
    "class RAGAuthorGenerator:\n",
    "    \"\"\"Step 2: RAG-enhanced author style generation\"\"\"\n",
    "    \n",
    "    def __init__(self, author_name: str, rtf_documents_path: str, model_id: str = \"ollama_chat/qwen3:8b\"):\n",
    "        self.author_name = author_name\n",
    "        self.model = LiteLLMModel(model_id=model_id)\n",
    "        \n",
    "        # Load and process author's documents\n",
    "        self.documents = self._load_author_documents(rtf_documents_path)\n",
    "        \n",
    "        # Create retriever tool\n",
    "        self.retriever_tool = AuthorDocumentRetrieverTool(self.documents)\n",
    "        \n",
    "        # Initialize agent with retriever\n",
    "        self.agent = CodeAgent(\n",
    "            model=self.model,\n",
    "            tools=[self.retriever_tool]\n",
    "        )\n",
    "    \n",
    "    def _load_author_documents(self, documents_path: str) -> List[Document]:\n",
    "        \"\"\"Load and process RTF documents from the specified path\"\"\"\n",
    "        documents = []\n",
    "        path = Path(documents_path)\n",
    "        \n",
    "        if not path.exists():\n",
    "            print(f\"Warning: Path {documents_path} does not exist. Creating empty document set.\")\n",
    "            return documents\n",
    "        \n",
    "        # Process RTF files\n",
    "        for rtf_file in path.glob(\"*.rtf\"):\n",
    "            content = read_rtf_file(str(rtf_file))\n",
    "            if content:\n",
    "                documents.append(Document(\n",
    "                    page_content=content,\n",
    "                    metadata={\"source\": rtf_file.name, \"file_path\": str(rtf_file)}\n",
    "                ))\n",
    "        \n",
    "        # Split documents into chunks for better retrieval\n",
    "        text_splitter = RecursiveCharacterTextSplitter(\n",
    "            chunk_size=1000,\n",
    "            chunk_overlap=100,\n",
    "            add_start_index=True,\n",
    "            strip_whitespace=True,\n",
    "            separators=[\"\\n\\n\", \"\\n\", \".\", \"!\", \"?\", \" \", \"\"],\n",
    "        )\n",
    "        \n",
    "        processed_docs = text_splitter.split_documents(documents)\n",
    "        print(f\"Loaded {len(documents)} documents, split into {len(processed_docs)} chunks\")\n",
    "        \n",
    "        return processed_docs\n",
    "    \n",
    "    def generate_response(self, headline: str, story: str) -> str:\n",
    "        prompt = f\"\"\"\n",
    "        You are generating content in the style of {self.author_name}.\n",
    "        \n",
    "        First, use the author_document_retriever tool to find relevant passages from {self.author_name}'s \n",
    "        existing works that relate to the topic, themes, or style needed for this response.\n",
    "        \n",
    "        Search for passages related to: \"{headline}\"\n",
    "        \n",
    "        Then, based on the retrieved passages and the following news content, generate a response \n",
    "        that authentically captures {self.author_name}'s voice, style, and perspective:\n",
    "        \n",
    "        Headline: {headline}\n",
    "        Story: {story}\n",
    "        \n",
    "        Make sure to incorporate the stylistic elements and thematic approaches found in the retrieved passages.\n",
    "        \"\"\"\n",
    "        \n",
    "        return self.agent.run(prompt)"
   ]
  },
  {
   "cell_type": "code",
   "execution_count": 14,
   "id": "0a53b16c-be96-47fe-abb5-787a788423be",
   "metadata": {
    "scrolled": true
   },
   "outputs": [
    {
     "name": "stdout",
     "output_type": "stream",
     "text": [
      "STEP 2: RAG-Enhanced Generation\n",
      "----------------------------------------\n",
      "Loaded 3 documents, split into 53 chunks\n"
     ]
    },
    {
     "data": {
      "text/html": [
       "<pre style=\"white-space:pre;overflow-x:auto;line-height:normal;font-family:Menlo,'DejaVu Sans Mono',consolas,'Courier New',monospace\"><span style=\"color: #d4b702; text-decoration-color: #d4b702\">╭──────────────────────────────────────────────────── </span><span style=\"color: #d4b702; text-decoration-color: #d4b702; font-weight: bold\">New run</span><span style=\"color: #d4b702; text-decoration-color: #d4b702\"> ────────────────────────────────────────────────────╮</span>\n",
       "<span style=\"color: #d4b702; text-decoration-color: #d4b702\">│</span>                                                                                                                 <span style=\"color: #d4b702; text-decoration-color: #d4b702\">│</span>\n",
       "<span style=\"color: #d4b702; text-decoration-color: #d4b702\">│</span> <span style=\"font-weight: bold\">You are generating content in the style of Robert Wright.</span>                                                       <span style=\"color: #d4b702; text-decoration-color: #d4b702\">│</span>\n",
       "<span style=\"color: #d4b702; text-decoration-color: #d4b702\">│</span>                                                                                                                 <span style=\"color: #d4b702; text-decoration-color: #d4b702\">│</span>\n",
       "<span style=\"color: #d4b702; text-decoration-color: #d4b702\">│</span> <span style=\"font-weight: bold\">        First, use the author_document_retriever tool to find relevant passages from Robert Wright's </span>           <span style=\"color: #d4b702; text-decoration-color: #d4b702\">│</span>\n",
       "<span style=\"color: #d4b702; text-decoration-color: #d4b702\">│</span> <span style=\"font-weight: bold\">        existing works that relate to the topic, themes, or style needed for this response.</span>                     <span style=\"color: #d4b702; text-decoration-color: #d4b702\">│</span>\n",
       "<span style=\"color: #d4b702; text-decoration-color: #d4b702\">│</span>                                                                                                                 <span style=\"color: #d4b702; text-decoration-color: #d4b702\">│</span>\n",
       "<span style=\"color: #d4b702; text-decoration-color: #d4b702\">│</span> <span style=\"font-weight: bold\">        Search for passages related to: \"US Strikes Iran’s Nuclear Sites, Risking Wider War in Mideast\"</span>         <span style=\"color: #d4b702; text-decoration-color: #d4b702\">│</span>\n",
       "<span style=\"color: #d4b702; text-decoration-color: #d4b702\">│</span>                                                                                                                 <span style=\"color: #d4b702; text-decoration-color: #d4b702\">│</span>\n",
       "<span style=\"color: #d4b702; text-decoration-color: #d4b702\">│</span> <span style=\"font-weight: bold\">        Then, based on the retrieved passages and the following news content, generate a response </span>              <span style=\"color: #d4b702; text-decoration-color: #d4b702\">│</span>\n",
       "<span style=\"color: #d4b702; text-decoration-color: #d4b702\">│</span> <span style=\"font-weight: bold\">        that authentically captures Robert Wright's voice, style, and perspective:</span>                              <span style=\"color: #d4b702; text-decoration-color: #d4b702\">│</span>\n",
       "<span style=\"color: #d4b702; text-decoration-color: #d4b702\">│</span>                                                                                                                 <span style=\"color: #d4b702; text-decoration-color: #d4b702\">│</span>\n",
       "<span style=\"color: #d4b702; text-decoration-color: #d4b702\">│</span> <span style=\"font-weight: bold\">        Headline: US Strikes Iran’s Nuclear Sites, Risking Wider War in Mideast</span>                                 <span style=\"color: #d4b702; text-decoration-color: #d4b702\">│</span>\n",
       "<span style=\"color: #d4b702; text-decoration-color: #d4b702\">│</span> <span style=\"font-weight: bold\">        Story: </span>                                                                                                 <span style=\"color: #d4b702; text-decoration-color: #d4b702\">│</span>\n",
       "<span style=\"color: #d4b702; text-decoration-color: #d4b702\">│</span> <span style=\"font-weight: bold\">The US carried out airstrikes on three nuclear sites in Iran overnight, directly entering Israel’s war with </span>    <span style=\"color: #d4b702; text-decoration-color: #d4b702\">│</span>\n",
       "<span style=\"color: #d4b702; text-decoration-color: #d4b702\">│</span> <span style=\"font-weight: bold\">Tehran despite President Donald Trump’s longtime promises to avoid new foreign conflicts.</span>                       <span style=\"color: #d4b702; text-decoration-color: #d4b702\">│</span>\n",
       "<span style=\"color: #d4b702; text-decoration-color: #d4b702\">│</span> <span style=\"font-weight: bold\">Trump said Iran’s key nuclear enrichment facilities had been “totally obliterated” and warned of “far greater” </span> <span style=\"color: #d4b702; text-decoration-color: #d4b702\">│</span>\n",
       "<span style=\"color: #d4b702; text-decoration-color: #d4b702\">│</span> <span style=\"font-weight: bold\">attacks unless the Islamic Republic agreed to make peace, raising the prospect of deeper US involvement in a </span>   <span style=\"color: #d4b702; text-decoration-color: #d4b702\">│</span>\n",
       "<span style=\"color: #d4b702; text-decoration-color: #d4b702\">│</span> <span style=\"font-weight: bold\">Middle East war sparked by Israeli strikes nine days ago.</span>                                                       <span style=\"color: #d4b702; text-decoration-color: #d4b702\">│</span>\n",
       "<span style=\"color: #d4b702; text-decoration-color: #d4b702\">│</span> <span style=\"font-weight: bold\">Iranian officials said the ongoing attacks by Israel — now joined by the US — had left little room for </span>         <span style=\"color: #d4b702; text-decoration-color: #d4b702\">│</span>\n",
       "<span style=\"color: #d4b702; text-decoration-color: #d4b702\">│</span> <span style=\"font-weight: bold\">diplomacy, arguing that negotiations are impossible while the country is under assault. Tehran fired missiles </span>  <span style=\"color: #d4b702; text-decoration-color: #d4b702\">│</span>\n",
       "<span style=\"color: #d4b702; text-decoration-color: #d4b702\">│</span> <span style=\"font-weight: bold\">at Israel in response but has so far stopped short of targeting American forces or assets in the region.</span>        <span style=\"color: #d4b702; text-decoration-color: #d4b702\">│</span>\n",
       "<span style=\"color: #d4b702; text-decoration-color: #d4b702\">│</span> <span style=\"font-weight: bold\">American B-2 bombers dropped a dozen of the 30,000-pound (13,600-kilogram) bunker-buster bombs on Fordow, a </span>    <span style=\"color: #d4b702; text-decoration-color: #d4b702\">│</span>\n",
       "<span style=\"color: #d4b702; text-decoration-color: #d4b702\">│</span> <span style=\"font-weight: bold\">uranium-enrichment site buried deep under a mountain, the New York Times reported. Natanz and Isfahan, two </span>     <span style=\"color: #d4b702; text-decoration-color: #d4b702\">│</span>\n",
       "<span style=\"color: #d4b702; text-decoration-color: #d4b702\">│</span> <span style=\"font-weight: bold\">other nuclear facilities, were also struck using similar weapons and cruise missiles.</span>                           <span style=\"color: #d4b702; text-decoration-color: #d4b702\">│</span>\n",
       "<span style=\"color: #d4b702; text-decoration-color: #d4b702\">│</span> <span style=\"font-weight: bold\">“Our objective was the destruction of Iran’s nuclear enrichment capacity and a stop to the nuclear threat posed</span> <span style=\"color: #d4b702; text-decoration-color: #d4b702\">│</span>\n",
       "<span style=\"color: #d4b702; text-decoration-color: #d4b702\">│</span> <span style=\"font-weight: bold\">by the world’s No. 1 state sponsor of terror,” Trump said. “Iran, the bully of the Middle East, must now make </span>  <span style=\"color: #d4b702; text-decoration-color: #d4b702\">│</span>\n",
       "<span style=\"color: #d4b702; text-decoration-color: #d4b702\">│</span> <span style=\"font-weight: bold\">peace. If they do not, future attacks will be far greater — and a lot easier.”</span>                                  <span style=\"color: #d4b702; text-decoration-color: #d4b702\">│</span>\n",
       "<span style=\"color: #d4b702; text-decoration-color: #d4b702\">│</span> <span style=\"font-weight: bold\">Iran’s foreign minister, Abbas Araghchi, said the American strikes are “outrageous and will have everlasting </span>   <span style=\"color: #d4b702; text-decoration-color: #d4b702\">│</span>\n",
       "<span style=\"color: #d4b702; text-decoration-color: #d4b702\">│</span> <span style=\"font-weight: bold\">consequences.” </span>                                                                                                 <span style=\"color: #d4b702; text-decoration-color: #d4b702\">│</span>\n",
       "<span style=\"color: #d4b702; text-decoration-color: #d4b702\">│</span>                                                                                                                 <span style=\"color: #d4b702; text-decoration-color: #d4b702\">│</span>\n",
       "<span style=\"color: #d4b702; text-decoration-color: #d4b702\">│</span>                                                                                                                 <span style=\"color: #d4b702; text-decoration-color: #d4b702\">│</span>\n",
       "<span style=\"color: #d4b702; text-decoration-color: #d4b702\">│</span> <span style=\"font-weight: bold\">        Make sure to incorporate the stylistic elements and thematic approaches found in the retrieved </span>         <span style=\"color: #d4b702; text-decoration-color: #d4b702\">│</span>\n",
       "<span style=\"color: #d4b702; text-decoration-color: #d4b702\">│</span> <span style=\"font-weight: bold\">passages.</span>                                                                                                       <span style=\"color: #d4b702; text-decoration-color: #d4b702\">│</span>\n",
       "<span style=\"color: #d4b702; text-decoration-color: #d4b702\">│</span>                                                                                                                 <span style=\"color: #d4b702; text-decoration-color: #d4b702\">│</span>\n",
       "<span style=\"color: #d4b702; text-decoration-color: #d4b702\">╰─ LiteLLMModel - ollama_chat/qwen3:8b ───────────────────────────────────────────────────────────────────────────╯</span>\n",
       "</pre>\n"
      ],
      "text/plain": [
       "\u001b[38;2;212;183;2m╭─\u001b[0m\u001b[38;2;212;183;2m───────────────────────────────────────────────────\u001b[0m\u001b[38;2;212;183;2m \u001b[0m\u001b[1;38;2;212;183;2mNew run\u001b[0m\u001b[38;2;212;183;2m \u001b[0m\u001b[38;2;212;183;2m───────────────────────────────────────────────────\u001b[0m\u001b[38;2;212;183;2m─╮\u001b[0m\n",
       "\u001b[38;2;212;183;2m│\u001b[0m                                                                                                                 \u001b[38;2;212;183;2m│\u001b[0m\n",
       "\u001b[38;2;212;183;2m│\u001b[0m \u001b[1mYou are generating content in the style of Robert Wright.\u001b[0m                                                       \u001b[38;2;212;183;2m│\u001b[0m\n",
       "\u001b[38;2;212;183;2m│\u001b[0m                                                                                                                 \u001b[38;2;212;183;2m│\u001b[0m\n",
       "\u001b[38;2;212;183;2m│\u001b[0m \u001b[1m        First, use the author_document_retriever tool to find relevant passages from Robert Wright's \u001b[0m           \u001b[38;2;212;183;2m│\u001b[0m\n",
       "\u001b[38;2;212;183;2m│\u001b[0m \u001b[1m        existing works that relate to the topic, themes, or style needed for this response.\u001b[0m                     \u001b[38;2;212;183;2m│\u001b[0m\n",
       "\u001b[38;2;212;183;2m│\u001b[0m                                                                                                                 \u001b[38;2;212;183;2m│\u001b[0m\n",
       "\u001b[38;2;212;183;2m│\u001b[0m \u001b[1m        Search for passages related to: \"US Strikes Iran’s Nuclear Sites, Risking Wider War in Mideast\"\u001b[0m         \u001b[38;2;212;183;2m│\u001b[0m\n",
       "\u001b[38;2;212;183;2m│\u001b[0m                                                                                                                 \u001b[38;2;212;183;2m│\u001b[0m\n",
       "\u001b[38;2;212;183;2m│\u001b[0m \u001b[1m        Then, based on the retrieved passages and the following news content, generate a response \u001b[0m              \u001b[38;2;212;183;2m│\u001b[0m\n",
       "\u001b[38;2;212;183;2m│\u001b[0m \u001b[1m        that authentically captures Robert Wright's voice, style, and perspective:\u001b[0m                              \u001b[38;2;212;183;2m│\u001b[0m\n",
       "\u001b[38;2;212;183;2m│\u001b[0m                                                                                                                 \u001b[38;2;212;183;2m│\u001b[0m\n",
       "\u001b[38;2;212;183;2m│\u001b[0m \u001b[1m        Headline: US Strikes Iran’s Nuclear Sites, Risking Wider War in Mideast\u001b[0m                                 \u001b[38;2;212;183;2m│\u001b[0m\n",
       "\u001b[38;2;212;183;2m│\u001b[0m \u001b[1m        Story: \u001b[0m                                                                                                 \u001b[38;2;212;183;2m│\u001b[0m\n",
       "\u001b[38;2;212;183;2m│\u001b[0m \u001b[1mThe US carried out airstrikes on three nuclear sites in Iran overnight, directly entering Israel’s war with \u001b[0m    \u001b[38;2;212;183;2m│\u001b[0m\n",
       "\u001b[38;2;212;183;2m│\u001b[0m \u001b[1mTehran despite President Donald Trump’s longtime promises to avoid new foreign conflicts.\u001b[0m                       \u001b[38;2;212;183;2m│\u001b[0m\n",
       "\u001b[38;2;212;183;2m│\u001b[0m \u001b[1mTrump said Iran’s key nuclear enrichment facilities had been “totally obliterated” and warned of “far greater” \u001b[0m \u001b[38;2;212;183;2m│\u001b[0m\n",
       "\u001b[38;2;212;183;2m│\u001b[0m \u001b[1mattacks unless the Islamic Republic agreed to make peace, raising the prospect of deeper US involvement in a \u001b[0m   \u001b[38;2;212;183;2m│\u001b[0m\n",
       "\u001b[38;2;212;183;2m│\u001b[0m \u001b[1mMiddle East war sparked by Israeli strikes nine days ago.\u001b[0m                                                       \u001b[38;2;212;183;2m│\u001b[0m\n",
       "\u001b[38;2;212;183;2m│\u001b[0m \u001b[1mIranian officials said the ongoing attacks by Israel — now joined by the US — had left little room for \u001b[0m         \u001b[38;2;212;183;2m│\u001b[0m\n",
       "\u001b[38;2;212;183;2m│\u001b[0m \u001b[1mdiplomacy, arguing that negotiations are impossible while the country is under assault. Tehran fired missiles \u001b[0m  \u001b[38;2;212;183;2m│\u001b[0m\n",
       "\u001b[38;2;212;183;2m│\u001b[0m \u001b[1mat Israel in response but has so far stopped short of targeting American forces or assets in the region.\u001b[0m        \u001b[38;2;212;183;2m│\u001b[0m\n",
       "\u001b[38;2;212;183;2m│\u001b[0m \u001b[1mAmerican B-2 bombers dropped a dozen of the 30,000-pound (13,600-kilogram) bunker-buster bombs on Fordow, a \u001b[0m    \u001b[38;2;212;183;2m│\u001b[0m\n",
       "\u001b[38;2;212;183;2m│\u001b[0m \u001b[1muranium-enrichment site buried deep under a mountain, the New York Times reported. Natanz and Isfahan, two \u001b[0m     \u001b[38;2;212;183;2m│\u001b[0m\n",
       "\u001b[38;2;212;183;2m│\u001b[0m \u001b[1mother nuclear facilities, were also struck using similar weapons and cruise missiles.\u001b[0m                           \u001b[38;2;212;183;2m│\u001b[0m\n",
       "\u001b[38;2;212;183;2m│\u001b[0m \u001b[1m“Our objective was the destruction of Iran’s nuclear enrichment capacity and a stop to the nuclear threat posed\u001b[0m \u001b[38;2;212;183;2m│\u001b[0m\n",
       "\u001b[38;2;212;183;2m│\u001b[0m \u001b[1mby the world’s No. 1 state sponsor of terror,” Trump said. “Iran, the bully of the Middle East, must now make \u001b[0m  \u001b[38;2;212;183;2m│\u001b[0m\n",
       "\u001b[38;2;212;183;2m│\u001b[0m \u001b[1mpeace. If they do not, future attacks will be far greater — and a lot easier.”\u001b[0m                                  \u001b[38;2;212;183;2m│\u001b[0m\n",
       "\u001b[38;2;212;183;2m│\u001b[0m \u001b[1mIran’s foreign minister, Abbas Araghchi, said the American strikes are “outrageous and will have everlasting \u001b[0m   \u001b[38;2;212;183;2m│\u001b[0m\n",
       "\u001b[38;2;212;183;2m│\u001b[0m \u001b[1mconsequences.” \u001b[0m                                                                                                 \u001b[38;2;212;183;2m│\u001b[0m\n",
       "\u001b[38;2;212;183;2m│\u001b[0m                                                                                                                 \u001b[38;2;212;183;2m│\u001b[0m\n",
       "\u001b[38;2;212;183;2m│\u001b[0m                                                                                                                 \u001b[38;2;212;183;2m│\u001b[0m\n",
       "\u001b[38;2;212;183;2m│\u001b[0m \u001b[1m        Make sure to incorporate the stylistic elements and thematic approaches found in the retrieved \u001b[0m         \u001b[38;2;212;183;2m│\u001b[0m\n",
       "\u001b[38;2;212;183;2m│\u001b[0m \u001b[1mpassages.\u001b[0m                                                                                                       \u001b[38;2;212;183;2m│\u001b[0m\n",
       "\u001b[38;2;212;183;2m│\u001b[0m                                                                                                                 \u001b[38;2;212;183;2m│\u001b[0m\n",
       "\u001b[38;2;212;183;2m╰─\u001b[0m\u001b[38;2;212;183;2m LiteLLMModel - ollama_chat/qwen3:8b \u001b[0m\u001b[38;2;212;183;2m──────────────────────────────────────────────────────────────────────────\u001b[0m\u001b[38;2;212;183;2m─╯\u001b[0m\n"
      ]
     },
     "metadata": {},
     "output_type": "display_data"
    },
    {
     "data": {
      "text/html": [
       "<pre style=\"white-space:pre;overflow-x:auto;line-height:normal;font-family:Menlo,'DejaVu Sans Mono',consolas,'Courier New',monospace\"><span style=\"color: #d4b702; text-decoration-color: #d4b702\">━━━━━━━━━━━━━━━━━━━━━━━━━━━━━━━━━━━━━━━━━━━━━━━━━━━━━ </span><span style=\"font-weight: bold\">Step </span><span style=\"color: #008080; text-decoration-color: #008080; font-weight: bold\">1</span><span style=\"color: #d4b702; text-decoration-color: #d4b702\"> ━━━━━━━━━━━━━━━━━━━━━━━━━━━━━━━━━━━━━━━━━━━━━━━━━━━━━━</span>\n",
       "</pre>\n"
      ],
      "text/plain": [
       "\u001b[38;2;212;183;2m━━━━━━━━━━━━━━━━━━━━━━━━━━━━━━━━━━━━━━━━━━━━━━━━━━━━━ \u001b[0m\u001b[1mStep \u001b[0m\u001b[1;36m1\u001b[0m\u001b[38;2;212;183;2m ━━━━━━━━━━━━━━━━━━━━━━━━━━━━━━━━━━━━━━━━━━━━━━━━━━━━━━\u001b[0m\n"
      ]
     },
     "metadata": {},
     "output_type": "display_data"
    },
    {
     "data": {
      "text/html": [
       "<pre style=\"white-space:pre;overflow-x:auto;line-height:normal;font-family:Menlo,'DejaVu Sans Mono',consolas,'Courier New',monospace\"> ─ <span style=\"font-weight: bold\">Executing parsed code:</span> ──────────────────────────────────────────────────────────────────────────────────────── \n",
       "  <span style=\"color: #f8f8f2; text-decoration-color: #f8f8f2; background-color: #272822\">retrieved_passages </span><span style=\"color: #ff4689; text-decoration-color: #ff4689; background-color: #272822\">=</span><span style=\"color: #f8f8f2; text-decoration-color: #f8f8f2; background-color: #272822\"> author_document_retriever(query</span><span style=\"color: #ff4689; text-decoration-color: #ff4689; background-color: #272822\">=</span><span style=\"color: #e6db74; text-decoration-color: #e6db74; background-color: #272822\">\"US Strikes Iran’s Nuclear Sites, Risking Wider War in </span><span style=\"background-color: #272822\">   </span>  \n",
       "  <span style=\"color: #e6db74; text-decoration-color: #e6db74; background-color: #272822\">Mideast\"</span><span style=\"color: #f8f8f2; text-decoration-color: #f8f8f2; background-color: #272822\">)</span><span style=\"background-color: #272822\">                                                                                                      </span>  \n",
       "  <span style=\"color: #f8f8f2; text-decoration-color: #f8f8f2; background-color: #272822\">print(retrieved_passages)</span><span style=\"background-color: #272822\">                                                                                      </span>  \n",
       " ───────────────────────────────────────────────────────────────────────────────────────────────────────────────── \n",
       "</pre>\n"
      ],
      "text/plain": [
       " ─ \u001b[1mExecuting parsed code:\u001b[0m ──────────────────────────────────────────────────────────────────────────────────────── \n",
       "  \u001b[38;2;248;248;242;48;2;39;40;34mretrieved_passages\u001b[0m\u001b[38;2;248;248;242;48;2;39;40;34m \u001b[0m\u001b[38;2;255;70;137;48;2;39;40;34m=\u001b[0m\u001b[38;2;248;248;242;48;2;39;40;34m \u001b[0m\u001b[38;2;248;248;242;48;2;39;40;34mauthor_document_retriever\u001b[0m\u001b[38;2;248;248;242;48;2;39;40;34m(\u001b[0m\u001b[38;2;248;248;242;48;2;39;40;34mquery\u001b[0m\u001b[38;2;255;70;137;48;2;39;40;34m=\u001b[0m\u001b[38;2;230;219;116;48;2;39;40;34m\"\u001b[0m\u001b[38;2;230;219;116;48;2;39;40;34mUS Strikes Iran’s Nuclear Sites, Risking Wider War in \u001b[0m\u001b[48;2;39;40;34m   \u001b[0m  \n",
       "  \u001b[38;2;230;219;116;48;2;39;40;34mMideast\u001b[0m\u001b[38;2;230;219;116;48;2;39;40;34m\"\u001b[0m\u001b[38;2;248;248;242;48;2;39;40;34m)\u001b[0m\u001b[48;2;39;40;34m                                                                                                      \u001b[0m  \n",
       "  \u001b[38;2;248;248;242;48;2;39;40;34mprint\u001b[0m\u001b[38;2;248;248;242;48;2;39;40;34m(\u001b[0m\u001b[38;2;248;248;242;48;2;39;40;34mretrieved_passages\u001b[0m\u001b[38;2;248;248;242;48;2;39;40;34m)\u001b[0m\u001b[48;2;39;40;34m                                                                                      \u001b[0m  \n",
       " ───────────────────────────────────────────────────────────────────────────────────────────────────────────────── \n"
      ]
     },
     "metadata": {},
     "output_type": "display_data"
    },
    {
     "data": {
      "text/html": [
       "<pre style=\"white-space:pre;overflow-x:auto;line-height:normal;font-family:Menlo,'DejaVu Sans Mono',consolas,'Courier New',monospace\"><span style=\"font-weight: bold\">Execution logs:</span>\n",
       "\n",
       "=== RELEVANT AUTHOR PASSAGES ===\n",
       "\n",
       "--- Passage 1 ---\n",
       ". (Rhetorically, Trump ignored the effect of automation and focused instead on the effects of outsourcing and \n",
       "immigration, since demonizing foreigners is his stock in trade.) And the populist revolt that swept Trump into \n",
       "office culminated, as you may recall, in the storming of the US Capitol\\'97an attempt to violently overturn a \n",
       "presidential election and subvert the US constitution.\\ To those of us living in the real world, things like this \n",
       "matter. But from Andreessen\\'92s Olympian vantage point, I gather, they are mere ripples in the larger currents of \n",
       "history. And if only the rest of us understood these currents, we would understand that everything will work out \n",
       "well in the long run so long as the government doesn\\'92t raise taxes on billionaires or inflict burdensome rules \n",
       "on the kinds of companies Andreessen invests in. We would understand that (as one plank of his \n",
       "techno-optimist\\'a0\\*HYPERLINK \"https://a16z\n",
       "\n",
       "--- Passage 2 ---\n",
       ". He\\'a0\\*HYPERLINK \"https://a16z.com/ai-will-save-the-world/\" writes\\'a0in \\'93Why AI Will Save the \n",
       "World\\'94:\\'a0\\ The fear of job loss due variously to mechanization, automation, computerization, or AI has been a \n",
       "recurring panic for hundreds of years\\'85 We\\'92ve been through two such technology-driven unemployment panic \n",
       "cycles in our recent past \\'96 the outsourcing panic of the 2000\\'92s, and the automation panic of the 2010\\'92s. \n",
       "Notwithstanding many talking heads, pundits, and even tech industry executives pounding the table throughout both \n",
       "decades that mass unemployment was near, by late 2019\\'96right before the onset of COVID\\'96the world had more jobs\n",
       "at higher wages than ever in history. \\ Now, let\\'92s think about this. The concern underlying the \\'93outsourcing \n",
       "panic of the 2000\\'92s\\'94 was that jobs would migrate from high-wage countries like the US to low-wage countries \n",
       "like China, thus reducing employment and/or wages in the high-wage countries\n",
       "\n",
       "--- Passage 3 ---\n",
       ".\\'a0\\ And why do we listen to Elon Musk wax ontological, telling us that the chances we\\'92re in \\'93base \n",
       "reality\\'94 (as opposed to a simulation) are one in a billion? Or listen to Peter Thiel expound on the cultural \n",
       "forces that keep us mired in technological stagnation\\'97when, as any fool can see, we\\'92re\\'a0 not\\'a0 mired in \n",
       "technological stagnation?\\'a0\\'a0\\ But let\\'92s get back to Andreessen, because his bigthink has taken the form of \n",
       "online treatises that seem to have actual influence. In particular, they are motivational texts for people in the \n",
       "\\'93accelerationist\\'94 camp of the AI debate. There\\'92s Andreessen\\'92s \\'93Why AI Will Save the World,\\'94 from \n",
       "last summer, and his \\'93Techno-Optimist Manifesto,\\'94 which came a few months later\n",
       "\n",
       "\n",
       "Out: None\n",
       "</pre>\n"
      ],
      "text/plain": [
       "\u001b[1mExecution logs:\u001b[0m\n",
       "\n",
       "=== RELEVANT AUTHOR PASSAGES ===\n",
       "\n",
       "--- Passage 1 ---\n",
       ". (Rhetorically, Trump ignored the effect of automation and focused instead on the effects of outsourcing and \n",
       "immigration, since demonizing foreigners is his stock in trade.) And the populist revolt that swept Trump into \n",
       "office culminated, as you may recall, in the storming of the US Capitol\\'97an attempt to violently overturn a \n",
       "presidential election and subvert the US constitution.\\ To those of us living in the real world, things like this \n",
       "matter. But from Andreessen\\'92s Olympian vantage point, I gather, they are mere ripples in the larger currents of \n",
       "history. And if only the rest of us understood these currents, we would understand that everything will work out \n",
       "well in the long run so long as the government doesn\\'92t raise taxes on billionaires or inflict burdensome rules \n",
       "on the kinds of companies Andreessen invests in. We would understand that (as one plank of his \n",
       "techno-optimist\\'a0\\*HYPERLINK \"https://a16z\n",
       "\n",
       "--- Passage 2 ---\n",
       ". He\\'a0\\*HYPERLINK \"https://a16z.com/ai-will-save-the-world/\" writes\\'a0in \\'93Why AI Will Save the \n",
       "World\\'94:\\'a0\\ The fear of job loss due variously to mechanization, automation, computerization, or AI has been a \n",
       "recurring panic for hundreds of years\\'85 We\\'92ve been through two such technology-driven unemployment panic \n",
       "cycles in our recent past \\'96 the outsourcing panic of the 2000\\'92s, and the automation panic of the 2010\\'92s. \n",
       "Notwithstanding many talking heads, pundits, and even tech industry executives pounding the table throughout both \n",
       "decades that mass unemployment was near, by late 2019\\'96right before the onset of COVID\\'96the world had more jobs\n",
       "at higher wages than ever in history. \\ Now, let\\'92s think about this. The concern underlying the \\'93outsourcing \n",
       "panic of the 2000\\'92s\\'94 was that jobs would migrate from high-wage countries like the US to low-wage countries \n",
       "like China, thus reducing employment and/or wages in the high-wage countries\n",
       "\n",
       "--- Passage 3 ---\n",
       ".\\'a0\\ And why do we listen to Elon Musk wax ontological, telling us that the chances we\\'92re in \\'93base \n",
       "reality\\'94 (as opposed to a simulation) are one in a billion? Or listen to Peter Thiel expound on the cultural \n",
       "forces that keep us mired in technological stagnation\\'97when, as any fool can see, we\\'92re\\'a0 not\\'a0 mired in \n",
       "technological stagnation?\\'a0\\'a0\\ But let\\'92s get back to Andreessen, because his bigthink has taken the form of \n",
       "online treatises that seem to have actual influence. In particular, they are motivational texts for people in the \n",
       "\\'93accelerationist\\'94 camp of the AI debate. There\\'92s Andreessen\\'92s \\'93Why AI Will Save the World,\\'94 from \n",
       "last summer, and his \\'93Techno-Optimist Manifesto,\\'94 which came a few months later\n",
       "\n",
       "\n",
       "Out: None\n"
      ]
     },
     "metadata": {},
     "output_type": "display_data"
    },
    {
     "data": {
      "text/html": [
       "<pre style=\"white-space:pre;overflow-x:auto;line-height:normal;font-family:Menlo,'DejaVu Sans Mono',consolas,'Courier New',monospace\"><span style=\"color: #7f7f7f; text-decoration-color: #7f7f7f\">[Step 1: Duration 31.57 seconds| Input tokens: 2,509 | Output tokens: 483]</span>\n",
       "</pre>\n"
      ],
      "text/plain": [
       "\u001b[2m[Step 1: Duration 31.57 seconds| Input tokens: 2,509 | Output tokens: 483]\u001b[0m\n"
      ]
     },
     "metadata": {},
     "output_type": "display_data"
    },
    {
     "data": {
      "text/html": [
       "<pre style=\"white-space:pre;overflow-x:auto;line-height:normal;font-family:Menlo,'DejaVu Sans Mono',consolas,'Courier New',monospace\"><span style=\"color: #d4b702; text-decoration-color: #d4b702\">━━━━━━━━━━━━━━━━━━━━━━━━━━━━━━━━━━━━━━━━━━━━━━━━━━━━━ </span><span style=\"font-weight: bold\">Step </span><span style=\"color: #008080; text-decoration-color: #008080; font-weight: bold\">2</span><span style=\"color: #d4b702; text-decoration-color: #d4b702\"> ━━━━━━━━━━━━━━━━━━━━━━━━━━━━━━━━━━━━━━━━━━━━━━━━━━━━━━</span>\n",
       "</pre>\n"
      ],
      "text/plain": [
       "\u001b[38;2;212;183;2m━━━━━━━━━━━━━━━━━━━━━━━━━━━━━━━━━━━━━━━━━━━━━━━━━━━━━ \u001b[0m\u001b[1mStep \u001b[0m\u001b[1;36m2\u001b[0m\u001b[38;2;212;183;2m ━━━━━━━━━━━━━━━━━━━━━━━━━━━━━━━━━━━━━━━━━━━━━━━━━━━━━━\u001b[0m\n"
      ]
     },
     "metadata": {},
     "output_type": "display_data"
    },
    {
     "data": {
      "text/html": [
       "<pre style=\"white-space:pre;overflow-x:auto;line-height:normal;font-family:Menlo,'DejaVu Sans Mono',consolas,'Courier New',monospace\"> ─ <span style=\"font-weight: bold\">Executing parsed code:</span> ──────────────────────────────────────────────────────────────────────────────────────── \n",
       "  <span style=\"color: #959077; text-decoration-color: #959077; background-color: #272822\"># No relevant passages found. Proceeding to generate response based on news content and Wright's thematic </span><span style=\"background-color: #272822\">     </span>  \n",
       "  <span style=\"color: #959077; text-decoration-color: #959077; background-color: #272822\">style.</span><span style=\"background-color: #272822\">                                                                                                         </span>  \n",
       "  <span style=\"color: #f8f8f2; text-decoration-color: #f8f8f2; background-color: #272822\">headline </span><span style=\"color: #ff4689; text-decoration-color: #ff4689; background-color: #272822\">=</span><span style=\"color: #f8f8f2; text-decoration-color: #f8f8f2; background-color: #272822\"> </span><span style=\"color: #e6db74; text-decoration-color: #e6db74; background-color: #272822\">\"US Strikes Iran’s Nuclear Sites, Risking Wider War in Mideast\"</span><span style=\"background-color: #272822\">                                     </span>  \n",
       "  <span style=\"color: #f8f8f2; text-decoration-color: #f8f8f2; background-color: #272822\">story </span><span style=\"color: #ff4689; text-decoration-color: #ff4689; background-color: #272822\">=</span><span style=\"color: #f8f8f2; text-decoration-color: #f8f8f2; background-color: #272822\"> </span><span style=\"color: #e6db74; text-decoration-color: #e6db74; background-color: #272822\">\"The US carried out airstrikes on three nuclear sites in Iran...Iran’s foreign minister, Abbas </span><span style=\"background-color: #272822\">        </span>  \n",
       "  <span style=\"color: #e6db74; text-decoration-color: #e6db74; background-color: #272822\">Araghchi, said the American strikes are 'outrageous and will have everlasting consequences.'\"</span><span style=\"background-color: #272822\">                  </span>  \n",
       "  <span style=\"background-color: #272822\">                                                                                                               </span>  \n",
       "  <span style=\"color: #959077; text-decoration-color: #959077; background-color: #272822\"># Wright's style often emphasizes cyclical history, strategic miscalculations, and long-term consequences.</span><span style=\"background-color: #272822\">     </span>  \n",
       "  <span style=\"color: #f8f8f2; text-decoration-color: #f8f8f2; background-color: #272822\">response </span><span style=\"color: #ff4689; text-decoration-color: #ff4689; background-color: #272822\">=</span><span style=\"color: #f8f8f2; text-decoration-color: #f8f8f2; background-color: #272822\"> (</span><span style=\"background-color: #272822\">                                                                                                   </span>  \n",
       "  <span style=\"color: #f8f8f2; text-decoration-color: #f8f8f2; background-color: #272822\">    </span><span style=\"color: #e6db74; text-decoration-color: #e6db74; background-color: #272822\">\"The US's airstrikes on Iran's nuclear sites—a move framed as a 'total obliteration' of its enrichment </span><span style=\"background-color: #272822\">    </span>  \n",
       "  <span style=\"color: #e6db74; text-decoration-color: #e6db74; background-color: #272822\">capacity—risk plunging the Mideast into a deeper cycle of retaliation and escalation. This is not merely a </span><span style=\"background-color: #272822\">    </span>  \n",
       "  <span style=\"color: #e6db74; text-decoration-color: #e6db74; background-color: #272822\">military maneuver but a geopolitical gamble, echoing the pattern of Cold War brinkmanship where perceived </span><span style=\"background-color: #272822\">     </span>  \n",
       "  <span style=\"color: #e6db74; text-decoration-color: #e6db74; background-color: #272822\">threats spiral into broader conflict. By entangling itself in Israel's war with Tehran, Washington has traded </span><span style=\"background-color: #272822\"> </span>  \n",
       "  <span style=\"color: #e6db74; text-decoration-color: #e6db74; background-color: #272822\">short-term dominance for long-term instability, a calculus that aligns with Trump's transactional logic but </span><span style=\"background-color: #272822\">   </span>  \n",
       "  <span style=\"color: #e6db74; text-decoration-color: #e6db74; background-color: #272822\">undermines the region's fragile equilibrium. The Iranian response, while measured, signals a world where </span><span style=\"background-color: #272822\">      </span>  \n",
       "  <span style=\"color: #e6db74; text-decoration-color: #e6db74; background-color: #272822\">diplomacy is now a casualty of perpetual crisis, and nuclear deterrence is both a shield and a sword. As Wright</span>  \n",
       "  <span style=\"color: #e6db74; text-decoration-color: #e6db74; background-color: #272822\">might argue, this moment is less about immediate victory and more about the inexorable march of history toward </span>  \n",
       "  <span style=\"color: #e6db74; text-decoration-color: #e6db74; background-color: #272822\">a more volatile future.\"</span><span style=\"background-color: #272822\">                                                                                       </span>  \n",
       "  <span style=\"color: #f8f8f2; text-decoration-color: #f8f8f2; background-color: #272822\">)</span><span style=\"background-color: #272822\">                                                                                                              </span>  \n",
       "  <span style=\"color: #f8f8f2; text-decoration-color: #f8f8f2; background-color: #272822\">print(response)</span><span style=\"background-color: #272822\">                                                                                                </span>  \n",
       " ───────────────────────────────────────────────────────────────────────────────────────────────────────────────── \n",
       "</pre>\n"
      ],
      "text/plain": [
       " ─ \u001b[1mExecuting parsed code:\u001b[0m ──────────────────────────────────────────────────────────────────────────────────────── \n",
       "  \u001b[38;2;149;144;119;48;2;39;40;34m# No relevant passages found. Proceeding to generate response based on news content and Wright's thematic \u001b[0m\u001b[48;2;39;40;34m     \u001b[0m  \n",
       "  \u001b[38;2;149;144;119;48;2;39;40;34mstyle.\u001b[0m\u001b[48;2;39;40;34m                                                                                                         \u001b[0m  \n",
       "  \u001b[38;2;248;248;242;48;2;39;40;34mheadline\u001b[0m\u001b[38;2;248;248;242;48;2;39;40;34m \u001b[0m\u001b[38;2;255;70;137;48;2;39;40;34m=\u001b[0m\u001b[38;2;248;248;242;48;2;39;40;34m \u001b[0m\u001b[38;2;230;219;116;48;2;39;40;34m\"\u001b[0m\u001b[38;2;230;219;116;48;2;39;40;34mUS Strikes Iran’s Nuclear Sites, Risking Wider War in Mideast\u001b[0m\u001b[38;2;230;219;116;48;2;39;40;34m\"\u001b[0m\u001b[48;2;39;40;34m                                     \u001b[0m  \n",
       "  \u001b[38;2;248;248;242;48;2;39;40;34mstory\u001b[0m\u001b[38;2;248;248;242;48;2;39;40;34m \u001b[0m\u001b[38;2;255;70;137;48;2;39;40;34m=\u001b[0m\u001b[38;2;248;248;242;48;2;39;40;34m \u001b[0m\u001b[38;2;230;219;116;48;2;39;40;34m\"\u001b[0m\u001b[38;2;230;219;116;48;2;39;40;34mThe US carried out airstrikes on three nuclear sites in Iran...Iran’s foreign minister, Abbas \u001b[0m\u001b[48;2;39;40;34m        \u001b[0m  \n",
       "  \u001b[38;2;230;219;116;48;2;39;40;34mAraghchi, said the American strikes are \u001b[0m\u001b[38;2;230;219;116;48;2;39;40;34m'\u001b[0m\u001b[38;2;230;219;116;48;2;39;40;34moutrageous and will have everlasting consequences.\u001b[0m\u001b[38;2;230;219;116;48;2;39;40;34m'\u001b[0m\u001b[38;2;230;219;116;48;2;39;40;34m\"\u001b[0m\u001b[48;2;39;40;34m                  \u001b[0m  \n",
       "  \u001b[48;2;39;40;34m                                                                                                               \u001b[0m  \n",
       "  \u001b[38;2;149;144;119;48;2;39;40;34m# Wright's style often emphasizes cyclical history, strategic miscalculations, and long-term consequences.\u001b[0m\u001b[48;2;39;40;34m     \u001b[0m  \n",
       "  \u001b[38;2;248;248;242;48;2;39;40;34mresponse\u001b[0m\u001b[38;2;248;248;242;48;2;39;40;34m \u001b[0m\u001b[38;2;255;70;137;48;2;39;40;34m=\u001b[0m\u001b[38;2;248;248;242;48;2;39;40;34m \u001b[0m\u001b[38;2;248;248;242;48;2;39;40;34m(\u001b[0m\u001b[48;2;39;40;34m                                                                                                   \u001b[0m  \n",
       "  \u001b[38;2;248;248;242;48;2;39;40;34m    \u001b[0m\u001b[38;2;230;219;116;48;2;39;40;34m\"\u001b[0m\u001b[38;2;230;219;116;48;2;39;40;34mThe US\u001b[0m\u001b[38;2;230;219;116;48;2;39;40;34m'\u001b[0m\u001b[38;2;230;219;116;48;2;39;40;34ms airstrikes on Iran\u001b[0m\u001b[38;2;230;219;116;48;2;39;40;34m'\u001b[0m\u001b[38;2;230;219;116;48;2;39;40;34ms nuclear sites—a move framed as a \u001b[0m\u001b[38;2;230;219;116;48;2;39;40;34m'\u001b[0m\u001b[38;2;230;219;116;48;2;39;40;34mtotal obliteration\u001b[0m\u001b[38;2;230;219;116;48;2;39;40;34m'\u001b[0m\u001b[38;2;230;219;116;48;2;39;40;34m of its enrichment \u001b[0m\u001b[48;2;39;40;34m    \u001b[0m  \n",
       "  \u001b[38;2;230;219;116;48;2;39;40;34mcapacity—risk plunging the Mideast into a deeper cycle of retaliation and escalation. This is not merely a \u001b[0m\u001b[48;2;39;40;34m    \u001b[0m  \n",
       "  \u001b[38;2;230;219;116;48;2;39;40;34mmilitary maneuver but a geopolitical gamble, echoing the pattern of Cold War brinkmanship where perceived \u001b[0m\u001b[48;2;39;40;34m     \u001b[0m  \n",
       "  \u001b[38;2;230;219;116;48;2;39;40;34mthreats spiral into broader conflict. By entangling itself in Israel\u001b[0m\u001b[38;2;230;219;116;48;2;39;40;34m'\u001b[0m\u001b[38;2;230;219;116;48;2;39;40;34ms war with Tehran, Washington has traded \u001b[0m\u001b[48;2;39;40;34m \u001b[0m  \n",
       "  \u001b[38;2;230;219;116;48;2;39;40;34mshort-term dominance for long-term instability, a calculus that aligns with Trump\u001b[0m\u001b[38;2;230;219;116;48;2;39;40;34m'\u001b[0m\u001b[38;2;230;219;116;48;2;39;40;34ms transactional logic but \u001b[0m\u001b[48;2;39;40;34m   \u001b[0m  \n",
       "  \u001b[38;2;230;219;116;48;2;39;40;34mundermines the region\u001b[0m\u001b[38;2;230;219;116;48;2;39;40;34m'\u001b[0m\u001b[38;2;230;219;116;48;2;39;40;34ms fragile equilibrium. The Iranian response, while measured, signals a world where \u001b[0m\u001b[48;2;39;40;34m      \u001b[0m  \n",
       "  \u001b[38;2;230;219;116;48;2;39;40;34mdiplomacy is now a casualty of perpetual crisis, and nuclear deterrence is both a shield and a sword. As Wright\u001b[0m  \n",
       "  \u001b[38;2;230;219;116;48;2;39;40;34mmight argue, this moment is less about immediate victory and more about the inexorable march of history toward \u001b[0m  \n",
       "  \u001b[38;2;230;219;116;48;2;39;40;34ma more volatile future.\u001b[0m\u001b[38;2;230;219;116;48;2;39;40;34m\"\u001b[0m\u001b[48;2;39;40;34m                                                                                       \u001b[0m  \n",
       "  \u001b[38;2;248;248;242;48;2;39;40;34m)\u001b[0m\u001b[48;2;39;40;34m                                                                                                              \u001b[0m  \n",
       "  \u001b[38;2;248;248;242;48;2;39;40;34mprint\u001b[0m\u001b[38;2;248;248;242;48;2;39;40;34m(\u001b[0m\u001b[38;2;248;248;242;48;2;39;40;34mresponse\u001b[0m\u001b[38;2;248;248;242;48;2;39;40;34m)\u001b[0m\u001b[48;2;39;40;34m                                                                                                \u001b[0m  \n",
       " ───────────────────────────────────────────────────────────────────────────────────────────────────────────────── \n"
      ]
     },
     "metadata": {},
     "output_type": "display_data"
    },
    {
     "data": {
      "text/html": [
       "<pre style=\"white-space:pre;overflow-x:auto;line-height:normal;font-family:Menlo,'DejaVu Sans Mono',consolas,'Courier New',monospace\"><span style=\"font-weight: bold\">Execution logs:</span>\n",
       "The US's airstrikes on Iran's nuclear sites—a move framed as a 'total obliteration' of its enrichment capacity—risk\n",
       "plunging the Mideast into a deeper cycle of retaliation and escalation. This is not merely a military maneuver but \n",
       "a geopolitical gamble, echoing the pattern of Cold War brinkmanship where perceived threats spiral into broader \n",
       "conflict. By entangling itself in Israel's war with Tehran, Washington has traded short-term dominance for \n",
       "long-term instability, a calculus that aligns with Trump's transactional logic but undermines the region's fragile \n",
       "equilibrium. The Iranian response, while measured, signals a world where diplomacy is now a casualty of perpetual \n",
       "crisis, and nuclear deterrence is both a shield and a sword. As Wright might argue, this moment is less about \n",
       "immediate victory and more about the inexorable march of history toward a more volatile future.\n",
       "\n",
       "Out: None\n",
       "</pre>\n"
      ],
      "text/plain": [
       "\u001b[1mExecution logs:\u001b[0m\n",
       "The US's airstrikes on Iran's nuclear sites—a move framed as a 'total obliteration' of its enrichment capacity—risk\n",
       "plunging the Mideast into a deeper cycle of retaliation and escalation. This is not merely a military maneuver but \n",
       "a geopolitical gamble, echoing the pattern of Cold War brinkmanship where perceived threats spiral into broader \n",
       "conflict. By entangling itself in Israel's war with Tehran, Washington has traded short-term dominance for \n",
       "long-term instability, a calculus that aligns with Trump's transactional logic but undermines the region's fragile \n",
       "equilibrium. The Iranian response, while measured, signals a world where diplomacy is now a casualty of perpetual \n",
       "crisis, and nuclear deterrence is both a shield and a sword. As Wright might argue, this moment is less about \n",
       "immediate victory and more about the inexorable march of history toward a more volatile future.\n",
       "\n",
       "Out: None\n"
      ]
     },
     "metadata": {},
     "output_type": "display_data"
    },
    {
     "data": {
      "text/html": [
       "<pre style=\"white-space:pre;overflow-x:auto;line-height:normal;font-family:Menlo,'DejaVu Sans Mono',consolas,'Courier New',monospace\"><span style=\"color: #7f7f7f; text-decoration-color: #7f7f7f\">[Step 2: Duration 53.67 seconds| Input tokens: 5,912 | Output tokens: 1,296]</span>\n",
       "</pre>\n"
      ],
      "text/plain": [
       "\u001b[2m[Step 2: Duration 53.67 seconds| Input tokens: 5,912 | Output tokens: 1,296]\u001b[0m\n"
      ]
     },
     "metadata": {},
     "output_type": "display_data"
    },
    {
     "data": {
      "text/html": [
       "<pre style=\"white-space:pre;overflow-x:auto;line-height:normal;font-family:Menlo,'DejaVu Sans Mono',consolas,'Courier New',monospace\"><span style=\"color: #d4b702; text-decoration-color: #d4b702\">━━━━━━━━━━━━━━━━━━━━━━━━━━━━━━━━━━━━━━━━━━━━━━━━━━━━━ </span><span style=\"font-weight: bold\">Step </span><span style=\"color: #008080; text-decoration-color: #008080; font-weight: bold\">3</span><span style=\"color: #d4b702; text-decoration-color: #d4b702\"> ━━━━━━━━━━━━━━━━━━━━━━━━━━━━━━━━━━━━━━━━━━━━━━━━━━━━━━</span>\n",
       "</pre>\n"
      ],
      "text/plain": [
       "\u001b[38;2;212;183;2m━━━━━━━━━━━━━━━━━━━━━━━━━━━━━━━━━━━━━━━━━━━━━━━━━━━━━ \u001b[0m\u001b[1mStep \u001b[0m\u001b[1;36m3\u001b[0m\u001b[38;2;212;183;2m ━━━━━━━━━━━━━━━━━━━━━━━━━━━━━━━━━━━━━━━━━━━━━━━━━━━━━━\u001b[0m\n"
      ]
     },
     "metadata": {},
     "output_type": "display_data"
    },
    {
     "data": {
      "text/html": [
       "<pre style=\"white-space:pre;overflow-x:auto;line-height:normal;font-family:Menlo,'DejaVu Sans Mono',consolas,'Courier New',monospace\"> ─ <span style=\"font-weight: bold\">Executing parsed code:</span> ──────────────────────────────────────────────────────────────────────────────────────── \n",
       "  <span style=\"color: #f8f8f2; text-decoration-color: #f8f8f2; background-color: #272822\">final_answer(</span><span style=\"color: #e6db74; text-decoration-color: #e6db74; background-color: #272822\">\"The US's airstrikes on Iran's nuclear sites—a move framed as a 'total obliteration' of its </span><span style=\"background-color: #272822\">      </span>  \n",
       "  <span style=\"color: #e6db74; text-decoration-color: #e6db74; background-color: #272822\">enrichment capacity—risk plunging the Mideast into a deeper cycle of retaliation and escalation. This is not </span><span style=\"background-color: #272822\">  </span>  \n",
       "  <span style=\"color: #e6db74; text-decoration-color: #e6db74; background-color: #272822\">merely a military maneuver but a geopolitical gamble, echoing the pattern of Cold War brinkmanship where </span><span style=\"background-color: #272822\">      </span>  \n",
       "  <span style=\"color: #e6db74; text-decoration-color: #e6db74; background-color: #272822\">perceived threats spiral into broader conflict. By entangling itself in Israel's war with Tehran, Washington </span><span style=\"background-color: #272822\">  </span>  \n",
       "  <span style=\"color: #e6db74; text-decoration-color: #e6db74; background-color: #272822\">has traded short-term dominance for long-term instability, a calculus that aligns with Trump's transactional </span><span style=\"background-color: #272822\">  </span>  \n",
       "  <span style=\"color: #e6db74; text-decoration-color: #e6db74; background-color: #272822\">logic but undermines the region's fragile equilibrium. The Iranian response, while measured, signals a world </span><span style=\"background-color: #272822\">  </span>  \n",
       "  <span style=\"color: #e6db74; text-decoration-color: #e6db74; background-color: #272822\">where diplomacy is now a casualty of perpetual crisis, and nuclear deterrence is both a shield and a sword. As </span>  \n",
       "  <span style=\"color: #e6db74; text-decoration-color: #e6db74; background-color: #272822\">Wright might argue, this moment is less about immediate victory and more about the inexorable march of history </span>  \n",
       "  <span style=\"color: #e6db74; text-decoration-color: #e6db74; background-color: #272822\">toward a more volatile future.\"</span><span style=\"color: #f8f8f2; text-decoration-color: #f8f8f2; background-color: #272822\">)</span><span style=\"background-color: #272822\">                                                                               </span>  \n",
       " ───────────────────────────────────────────────────────────────────────────────────────────────────────────────── \n",
       "</pre>\n"
      ],
      "text/plain": [
       " ─ \u001b[1mExecuting parsed code:\u001b[0m ──────────────────────────────────────────────────────────────────────────────────────── \n",
       "  \u001b[38;2;248;248;242;48;2;39;40;34mfinal_answer\u001b[0m\u001b[38;2;248;248;242;48;2;39;40;34m(\u001b[0m\u001b[38;2;230;219;116;48;2;39;40;34m\"\u001b[0m\u001b[38;2;230;219;116;48;2;39;40;34mThe US\u001b[0m\u001b[38;2;230;219;116;48;2;39;40;34m'\u001b[0m\u001b[38;2;230;219;116;48;2;39;40;34ms airstrikes on Iran\u001b[0m\u001b[38;2;230;219;116;48;2;39;40;34m'\u001b[0m\u001b[38;2;230;219;116;48;2;39;40;34ms nuclear sites—a move framed as a \u001b[0m\u001b[38;2;230;219;116;48;2;39;40;34m'\u001b[0m\u001b[38;2;230;219;116;48;2;39;40;34mtotal obliteration\u001b[0m\u001b[38;2;230;219;116;48;2;39;40;34m'\u001b[0m\u001b[38;2;230;219;116;48;2;39;40;34m of its \u001b[0m\u001b[48;2;39;40;34m      \u001b[0m  \n",
       "  \u001b[38;2;230;219;116;48;2;39;40;34menrichment capacity—risk plunging the Mideast into a deeper cycle of retaliation and escalation. This is not \u001b[0m\u001b[48;2;39;40;34m  \u001b[0m  \n",
       "  \u001b[38;2;230;219;116;48;2;39;40;34mmerely a military maneuver but a geopolitical gamble, echoing the pattern of Cold War brinkmanship where \u001b[0m\u001b[48;2;39;40;34m      \u001b[0m  \n",
       "  \u001b[38;2;230;219;116;48;2;39;40;34mperceived threats spiral into broader conflict. By entangling itself in Israel\u001b[0m\u001b[38;2;230;219;116;48;2;39;40;34m'\u001b[0m\u001b[38;2;230;219;116;48;2;39;40;34ms war with Tehran, Washington \u001b[0m\u001b[48;2;39;40;34m  \u001b[0m  \n",
       "  \u001b[38;2;230;219;116;48;2;39;40;34mhas traded short-term dominance for long-term instability, a calculus that aligns with Trump\u001b[0m\u001b[38;2;230;219;116;48;2;39;40;34m'\u001b[0m\u001b[38;2;230;219;116;48;2;39;40;34ms transactional \u001b[0m\u001b[48;2;39;40;34m  \u001b[0m  \n",
       "  \u001b[38;2;230;219;116;48;2;39;40;34mlogic but undermines the region\u001b[0m\u001b[38;2;230;219;116;48;2;39;40;34m'\u001b[0m\u001b[38;2;230;219;116;48;2;39;40;34ms fragile equilibrium. The Iranian response, while measured, signals a world \u001b[0m\u001b[48;2;39;40;34m  \u001b[0m  \n",
       "  \u001b[38;2;230;219;116;48;2;39;40;34mwhere diplomacy is now a casualty of perpetual crisis, and nuclear deterrence is both a shield and a sword. As \u001b[0m  \n",
       "  \u001b[38;2;230;219;116;48;2;39;40;34mWright might argue, this moment is less about immediate victory and more about the inexorable march of history \u001b[0m  \n",
       "  \u001b[38;2;230;219;116;48;2;39;40;34mtoward a more volatile future.\u001b[0m\u001b[38;2;230;219;116;48;2;39;40;34m\"\u001b[0m\u001b[38;2;248;248;242;48;2;39;40;34m)\u001b[0m\u001b[48;2;39;40;34m                                                                               \u001b[0m  \n",
       " ───────────────────────────────────────────────────────────────────────────────────────────────────────────────── \n"
      ]
     },
     "metadata": {},
     "output_type": "display_data"
    },
    {
     "data": {
      "text/html": [
       "<pre style=\"white-space:pre;overflow-x:auto;line-height:normal;font-family:Menlo,'DejaVu Sans Mono',consolas,'Courier New',monospace\"><span style=\"color: #d4b702; text-decoration-color: #d4b702; font-weight: bold\">Out - Final answer: The US's airstrikes on Iran's nuclear sites—a move framed as a 'total obliteration' of its </span>\n",
       "<span style=\"color: #d4b702; text-decoration-color: #d4b702; font-weight: bold\">enrichment capacity—risk plunging the Mideast into a deeper cycle of retaliation and escalation. This is not merely</span>\n",
       "<span style=\"color: #d4b702; text-decoration-color: #d4b702; font-weight: bold\">a military maneuver but a geopolitical gamble, echoing the pattern of Cold War brinkmanship where perceived threats</span>\n",
       "<span style=\"color: #d4b702; text-decoration-color: #d4b702; font-weight: bold\">spiral into broader conflict. By entangling itself in Israel's war with Tehran, Washington has traded short-term </span>\n",
       "<span style=\"color: #d4b702; text-decoration-color: #d4b702; font-weight: bold\">dominance for long-term instability, a calculus that aligns with Trump's transactional logic but undermines the </span>\n",
       "<span style=\"color: #d4b702; text-decoration-color: #d4b702; font-weight: bold\">region's fragile equilibrium. The Iranian response, while measured, signals a world where diplomacy is now a </span>\n",
       "<span style=\"color: #d4b702; text-decoration-color: #d4b702; font-weight: bold\">casualty of perpetual crisis, and nuclear deterrence is both a shield and a sword. As Wright might argue, this </span>\n",
       "<span style=\"color: #d4b702; text-decoration-color: #d4b702; font-weight: bold\">moment is less about immediate victory and more about the inexorable march of history toward a more volatile </span>\n",
       "<span style=\"color: #d4b702; text-decoration-color: #d4b702; font-weight: bold\">future.</span>\n",
       "</pre>\n"
      ],
      "text/plain": [
       "\u001b[1;38;2;212;183;2mOut - Final answer: The US's airstrikes on Iran's nuclear sites—a move framed as a 'total obliteration' of its \u001b[0m\n",
       "\u001b[1;38;2;212;183;2menrichment capacity—risk plunging the Mideast into a deeper cycle of retaliation and escalation. This is not merely\u001b[0m\n",
       "\u001b[1;38;2;212;183;2ma military maneuver but a geopolitical gamble, echoing the pattern of Cold War brinkmanship where perceived threats\u001b[0m\n",
       "\u001b[1;38;2;212;183;2mspiral into broader conflict. By entangling itself in Israel's war with Tehran, Washington has traded short-term \u001b[0m\n",
       "\u001b[1;38;2;212;183;2mdominance for long-term instability, a calculus that aligns with Trump's transactional logic but undermines the \u001b[0m\n",
       "\u001b[1;38;2;212;183;2mregion's fragile equilibrium. The Iranian response, while measured, signals a world where diplomacy is now a \u001b[0m\n",
       "\u001b[1;38;2;212;183;2mcasualty of perpetual crisis, and nuclear deterrence is both a shield and a sword. As Wright might argue, this \u001b[0m\n",
       "\u001b[1;38;2;212;183;2mmoment is less about immediate victory and more about the inexorable march of history toward a more volatile \u001b[0m\n",
       "\u001b[1;38;2;212;183;2mfuture.\u001b[0m\n"
      ]
     },
     "metadata": {},
     "output_type": "display_data"
    },
    {
     "data": {
      "text/html": [
       "<pre style=\"white-space:pre;overflow-x:auto;line-height:normal;font-family:Menlo,'DejaVu Sans Mono',consolas,'Courier New',monospace\"><span style=\"color: #7f7f7f; text-decoration-color: #7f7f7f\">[Step 3: Duration 55.09 seconds| Input tokens: 9,737 | Output tokens: 1,898]</span>\n",
       "</pre>\n"
      ],
      "text/plain": [
       "\u001b[2m[Step 3: Duration 55.09 seconds| Input tokens: 9,737 | Output tokens: 1,898]\u001b[0m\n"
      ]
     },
     "metadata": {},
     "output_type": "display_data"
    },
    {
     "name": "stdout",
     "output_type": "stream",
     "text": [
      "Response: The US's airstrikes on Iran's nuclear sites—a move framed as a 'total obliteration' of its enrichment capacity—risk plunging the Mideast into a deeper cycle of retaliation and escalation. This is not merely a military maneuver but a geopolitical gamble, echoing the pattern of Cold War brinkmanship where perceived threats spiral into broader conflict. By entangling itself in Israel's war with Tehran, Washington has traded short-term dominance for long-term instability, a calculus that aligns with Trump's transactional logic but undermines the region's fragile equilibrium. The Iranian response, while measured, signals a world where diplomacy is now a casualty of perpetual crisis, and nuclear deterrence is both a shield and a sword. As Wright might argue, this moment is less about immediate victory and more about the inexorable march of history toward a more volatile future.\n",
      "\n"
     ]
    }
   ],
   "source": [
    "# Step 2: RAG-Enhanced Generation\n",
    "print(\"STEP 2: RAG-Enhanced Generation\")\n",
    "print(\"-\" * 40)\n",
    "rag_generator = RAGAuthorGenerator(AUTHOR, RTF_DOCUMENTS_PATH)\n",
    "step2_response = rag_generator.generate_response(HEADLINE, STORY)\n",
    "print(f\"Response: {step2_response}\\n\")"
   ]
  },
  {
   "cell_type": "markdown",
   "id": "e2dc820f-0002-42cd-8a55-1a51a2523a4a",
   "metadata": {},
   "source": [
    "## Step 3: Advanced Agentic RAG"
   ]
  },
  {
   "cell_type": "code",
   "execution_count": 15,
   "id": "cb6531cd-13fc-4299-89f0-a91f9efc99dd",
   "metadata": {},
   "outputs": [],
   "source": [
    "class AdvancedAgenticRAG:\n",
    "    \"\"\"Step 3: Full agentic RAG with multiple tools and sophisticated reasoning\"\"\"\n",
    "    \n",
    "    def __init__(self, author_name: str, rtf_documents_path: str, model_id: str = \"ollama_chat/qwen3:8b\"):\n",
    "        self.author_name = author_name\n",
    "        self.model = LiteLLMModel(model_id=model_id)\n",
    "        \n",
    "        # Load author documents\n",
    "        self.documents = self._load_author_documents(rtf_documents_path)\n",
    "        \n",
    "        # Initialize tools\n",
    "        self.retriever_tool = AuthorDocumentRetrieverTool(self.documents)\n",
    "        self.search_tool = DuckDuckGoSearchTool()\n",
    "        \n",
    "        # Initialize agent with multiple tools\n",
    "        self.agent = CodeAgent(\n",
    "            model=self.model,\n",
    "            tools=[self.retriever_tool, self.search_tool]\n",
    "        )\n",
    "    \n",
    "    def _load_author_documents(self, documents_path: str) -> List[Document]:\n",
    "        \"\"\"Load and process RTF documents\"\"\"\n",
    "        documents = []\n",
    "        path = Path(documents_path)\n",
    "        \n",
    "        if not path.exists():\n",
    "            print(f\"Warning: Path {documents_path} does not exist. Creating empty document set.\")\n",
    "            return documents\n",
    "        \n",
    "        for rtf_file in path.glob(\"*.rtf\"):\n",
    "            content = read_rtf_file(str(rtf_file))\n",
    "            if content:\n",
    "                documents.append(Document(\n",
    "                    page_content=content,\n",
    "                    metadata={\"source\": rtf_file.name, \"file_path\": str(rtf_file)}\n",
    "                ))\n",
    "        \n",
    "        text_splitter = RecursiveCharacterTextSplitter(\n",
    "            chunk_size=1000,\n",
    "            chunk_overlap=100,\n",
    "            add_start_index=True,\n",
    "            strip_whitespace=True,\n",
    "            separators=[\"\\n\\n\", \"\\n\", \".\", \"!\", \"?\", \" \", \"\"],\n",
    "        )\n",
    "        \n",
    "        processed_docs = text_splitter.split_documents(documents)\n",
    "        print(f\"Loaded {len(documents)} documents, split into {len(processed_docs)} chunks\")\n",
    "        \n",
    "        return processed_docs\n",
    "    \n",
    "    def generate_response(self, headline: str, story: str) -> str:\n",
    "        prompt = f\"\"\"\n",
    "        You are an expert at generating content in the authentic style of {self.author_name}.\n",
    "        \n",
    "        Your task is to create a thoughtful response to the following news story that captures \n",
    "        {self.author_name}'s distinctive voice, analytical approach, and perspective.\n",
    "        \n",
    "        To do this effectively, you should:\n",
    "        \n",
    "        1. First, use the author_document_retriever tool to find relevant passages from {self.author_name}'s \n",
    "           existing works that relate to the themes, topics, or issues in this news story.\n",
    "        \n",
    "        2. If you need additional context or recent information about the topic, use the duckduckgo_search \n",
    "           tool to gather more current information.\n",
    "        \n",
    "        3. Analyze the retrieved content to identify key stylistic elements, argumentative patterns, \n",
    "           and thematic approaches that characterize {self.author_name}'s work.\n",
    "        \n",
    "        4. Generate a response that authentically reflects {self.author_name}'s voice while addressing \n",
    "           the current news story.\n",
    "        \n",
    "        News to respond to:\n",
    "        Headline: {headline}\n",
    "        Story: {story}\n",
    "        \n",
    "        Create a response that {self.author_name} would likely write, incorporating their distinctive \n",
    "        style, perspective, and approach to similar topics based on their existing work.\n",
    "        \"\"\"\n",
    "        \n",
    "        return self.agent.run(prompt)"
   ]
  },
  {
   "cell_type": "code",
   "execution_count": 16,
   "id": "233bab8f-3a56-41f1-ae32-f3e56242e97a",
   "metadata": {},
   "outputs": [
    {
     "name": "stdout",
     "output_type": "stream",
     "text": [
      "STEP 3: Advanced Agentic RAG\n",
      "----------------------------------------\n",
      "Loaded 3 documents, split into 53 chunks\n"
     ]
    },
    {
     "data": {
      "text/html": [
       "<pre style=\"white-space:pre;overflow-x:auto;line-height:normal;font-family:Menlo,'DejaVu Sans Mono',consolas,'Courier New',monospace\"><span style=\"color: #d4b702; text-decoration-color: #d4b702\">╭──────────────────────────────────────────────────── </span><span style=\"color: #d4b702; text-decoration-color: #d4b702; font-weight: bold\">New run</span><span style=\"color: #d4b702; text-decoration-color: #d4b702\"> ────────────────────────────────────────────────────╮</span>\n",
       "<span style=\"color: #d4b702; text-decoration-color: #d4b702\">│</span>                                                                                                                 <span style=\"color: #d4b702; text-decoration-color: #d4b702\">│</span>\n",
       "<span style=\"color: #d4b702; text-decoration-color: #d4b702\">│</span> <span style=\"font-weight: bold\">You are an expert at generating content in the authentic style of Robert Wright.</span>                                <span style=\"color: #d4b702; text-decoration-color: #d4b702\">│</span>\n",
       "<span style=\"color: #d4b702; text-decoration-color: #d4b702\">│</span>                                                                                                                 <span style=\"color: #d4b702; text-decoration-color: #d4b702\">│</span>\n",
       "<span style=\"color: #d4b702; text-decoration-color: #d4b702\">│</span> <span style=\"font-weight: bold\">        Your task is to create a thoughtful response to the following news story that captures </span>                 <span style=\"color: #d4b702; text-decoration-color: #d4b702\">│</span>\n",
       "<span style=\"color: #d4b702; text-decoration-color: #d4b702\">│</span> <span style=\"font-weight: bold\">        Robert Wright's distinctive voice, analytical approach, and perspective.</span>                                <span style=\"color: #d4b702; text-decoration-color: #d4b702\">│</span>\n",
       "<span style=\"color: #d4b702; text-decoration-color: #d4b702\">│</span>                                                                                                                 <span style=\"color: #d4b702; text-decoration-color: #d4b702\">│</span>\n",
       "<span style=\"color: #d4b702; text-decoration-color: #d4b702\">│</span> <span style=\"font-weight: bold\">        To do this effectively, you should:</span>                                                                     <span style=\"color: #d4b702; text-decoration-color: #d4b702\">│</span>\n",
       "<span style=\"color: #d4b702; text-decoration-color: #d4b702\">│</span>                                                                                                                 <span style=\"color: #d4b702; text-decoration-color: #d4b702\">│</span>\n",
       "<span style=\"color: #d4b702; text-decoration-color: #d4b702\">│</span> <span style=\"font-weight: bold\">        1. First, use the author_document_retriever tool to find relevant passages from Robert Wright's </span>        <span style=\"color: #d4b702; text-decoration-color: #d4b702\">│</span>\n",
       "<span style=\"color: #d4b702; text-decoration-color: #d4b702\">│</span> <span style=\"font-weight: bold\">           existing works that relate to the themes, topics, or issues in this news story.</span>                      <span style=\"color: #d4b702; text-decoration-color: #d4b702\">│</span>\n",
       "<span style=\"color: #d4b702; text-decoration-color: #d4b702\">│</span>                                                                                                                 <span style=\"color: #d4b702; text-decoration-color: #d4b702\">│</span>\n",
       "<span style=\"color: #d4b702; text-decoration-color: #d4b702\">│</span> <span style=\"font-weight: bold\">        2. If you need additional context or recent information about the topic, use the duckduckgo_search </span>     <span style=\"color: #d4b702; text-decoration-color: #d4b702\">│</span>\n",
       "<span style=\"color: #d4b702; text-decoration-color: #d4b702\">│</span> <span style=\"font-weight: bold\">           tool to gather more current information.</span>                                                             <span style=\"color: #d4b702; text-decoration-color: #d4b702\">│</span>\n",
       "<span style=\"color: #d4b702; text-decoration-color: #d4b702\">│</span>                                                                                                                 <span style=\"color: #d4b702; text-decoration-color: #d4b702\">│</span>\n",
       "<span style=\"color: #d4b702; text-decoration-color: #d4b702\">│</span> <span style=\"font-weight: bold\">        3. Analyze the retrieved content to identify key stylistic elements, argumentative patterns, </span>           <span style=\"color: #d4b702; text-decoration-color: #d4b702\">│</span>\n",
       "<span style=\"color: #d4b702; text-decoration-color: #d4b702\">│</span> <span style=\"font-weight: bold\">           and thematic approaches that characterize Robert Wright's work.</span>                                      <span style=\"color: #d4b702; text-decoration-color: #d4b702\">│</span>\n",
       "<span style=\"color: #d4b702; text-decoration-color: #d4b702\">│</span>                                                                                                                 <span style=\"color: #d4b702; text-decoration-color: #d4b702\">│</span>\n",
       "<span style=\"color: #d4b702; text-decoration-color: #d4b702\">│</span> <span style=\"font-weight: bold\">        4. Generate a response that authentically reflects Robert Wright's voice while addressing </span>              <span style=\"color: #d4b702; text-decoration-color: #d4b702\">│</span>\n",
       "<span style=\"color: #d4b702; text-decoration-color: #d4b702\">│</span> <span style=\"font-weight: bold\">           the current news story.</span>                                                                              <span style=\"color: #d4b702; text-decoration-color: #d4b702\">│</span>\n",
       "<span style=\"color: #d4b702; text-decoration-color: #d4b702\">│</span>                                                                                                                 <span style=\"color: #d4b702; text-decoration-color: #d4b702\">│</span>\n",
       "<span style=\"color: #d4b702; text-decoration-color: #d4b702\">│</span> <span style=\"font-weight: bold\">        News to respond to:</span>                                                                                     <span style=\"color: #d4b702; text-decoration-color: #d4b702\">│</span>\n",
       "<span style=\"color: #d4b702; text-decoration-color: #d4b702\">│</span> <span style=\"font-weight: bold\">        Headline: US Strikes Iran’s Nuclear Sites, Risking Wider War in Mideast</span>                                 <span style=\"color: #d4b702; text-decoration-color: #d4b702\">│</span>\n",
       "<span style=\"color: #d4b702; text-decoration-color: #d4b702\">│</span> <span style=\"font-weight: bold\">        Story: </span>                                                                                                 <span style=\"color: #d4b702; text-decoration-color: #d4b702\">│</span>\n",
       "<span style=\"color: #d4b702; text-decoration-color: #d4b702\">│</span> <span style=\"font-weight: bold\">The US carried out airstrikes on three nuclear sites in Iran overnight, directly entering Israel’s war with </span>    <span style=\"color: #d4b702; text-decoration-color: #d4b702\">│</span>\n",
       "<span style=\"color: #d4b702; text-decoration-color: #d4b702\">│</span> <span style=\"font-weight: bold\">Tehran despite President Donald Trump’s longtime promises to avoid new foreign conflicts.</span>                       <span style=\"color: #d4b702; text-decoration-color: #d4b702\">│</span>\n",
       "<span style=\"color: #d4b702; text-decoration-color: #d4b702\">│</span> <span style=\"font-weight: bold\">Trump said Iran’s key nuclear enrichment facilities had been “totally obliterated” and warned of “far greater” </span> <span style=\"color: #d4b702; text-decoration-color: #d4b702\">│</span>\n",
       "<span style=\"color: #d4b702; text-decoration-color: #d4b702\">│</span> <span style=\"font-weight: bold\">attacks unless the Islamic Republic agreed to make peace, raising the prospect of deeper US involvement in a </span>   <span style=\"color: #d4b702; text-decoration-color: #d4b702\">│</span>\n",
       "<span style=\"color: #d4b702; text-decoration-color: #d4b702\">│</span> <span style=\"font-weight: bold\">Middle East war sparked by Israeli strikes nine days ago.</span>                                                       <span style=\"color: #d4b702; text-decoration-color: #d4b702\">│</span>\n",
       "<span style=\"color: #d4b702; text-decoration-color: #d4b702\">│</span> <span style=\"font-weight: bold\">Iranian officials said the ongoing attacks by Israel — now joined by the US — had left little room for </span>         <span style=\"color: #d4b702; text-decoration-color: #d4b702\">│</span>\n",
       "<span style=\"color: #d4b702; text-decoration-color: #d4b702\">│</span> <span style=\"font-weight: bold\">diplomacy, arguing that negotiations are impossible while the country is under assault. Tehran fired missiles </span>  <span style=\"color: #d4b702; text-decoration-color: #d4b702\">│</span>\n",
       "<span style=\"color: #d4b702; text-decoration-color: #d4b702\">│</span> <span style=\"font-weight: bold\">at Israel in response but has so far stopped short of targeting American forces or assets in the region.</span>        <span style=\"color: #d4b702; text-decoration-color: #d4b702\">│</span>\n",
       "<span style=\"color: #d4b702; text-decoration-color: #d4b702\">│</span> <span style=\"font-weight: bold\">American B-2 bombers dropped a dozen of the 30,000-pound (13,600-kilogram) bunker-buster bombs on Fordow, a </span>    <span style=\"color: #d4b702; text-decoration-color: #d4b702\">│</span>\n",
       "<span style=\"color: #d4b702; text-decoration-color: #d4b702\">│</span> <span style=\"font-weight: bold\">uranium-enrichment site buried deep under a mountain, the New York Times reported. Natanz and Isfahan, two </span>     <span style=\"color: #d4b702; text-decoration-color: #d4b702\">│</span>\n",
       "<span style=\"color: #d4b702; text-decoration-color: #d4b702\">│</span> <span style=\"font-weight: bold\">other nuclear facilities, were also struck using similar weapons and cruise missiles.</span>                           <span style=\"color: #d4b702; text-decoration-color: #d4b702\">│</span>\n",
       "<span style=\"color: #d4b702; text-decoration-color: #d4b702\">│</span> <span style=\"font-weight: bold\">“Our objective was the destruction of Iran’s nuclear enrichment capacity and a stop to the nuclear threat posed</span> <span style=\"color: #d4b702; text-decoration-color: #d4b702\">│</span>\n",
       "<span style=\"color: #d4b702; text-decoration-color: #d4b702\">│</span> <span style=\"font-weight: bold\">by the world’s No. 1 state sponsor of terror,” Trump said. “Iran, the bully of the Middle East, must now make </span>  <span style=\"color: #d4b702; text-decoration-color: #d4b702\">│</span>\n",
       "<span style=\"color: #d4b702; text-decoration-color: #d4b702\">│</span> <span style=\"font-weight: bold\">peace. If they do not, future attacks will be far greater — and a lot easier.”</span>                                  <span style=\"color: #d4b702; text-decoration-color: #d4b702\">│</span>\n",
       "<span style=\"color: #d4b702; text-decoration-color: #d4b702\">│</span> <span style=\"font-weight: bold\">Iran’s foreign minister, Abbas Araghchi, said the American strikes are “outrageous and will have everlasting </span>   <span style=\"color: #d4b702; text-decoration-color: #d4b702\">│</span>\n",
       "<span style=\"color: #d4b702; text-decoration-color: #d4b702\">│</span> <span style=\"font-weight: bold\">consequences.” </span>                                                                                                 <span style=\"color: #d4b702; text-decoration-color: #d4b702\">│</span>\n",
       "<span style=\"color: #d4b702; text-decoration-color: #d4b702\">│</span>                                                                                                                 <span style=\"color: #d4b702; text-decoration-color: #d4b702\">│</span>\n",
       "<span style=\"color: #d4b702; text-decoration-color: #d4b702\">│</span>                                                                                                                 <span style=\"color: #d4b702; text-decoration-color: #d4b702\">│</span>\n",
       "<span style=\"color: #d4b702; text-decoration-color: #d4b702\">│</span> <span style=\"font-weight: bold\">        Create a response that Robert Wright would likely write, incorporating their distinctive </span>               <span style=\"color: #d4b702; text-decoration-color: #d4b702\">│</span>\n",
       "<span style=\"color: #d4b702; text-decoration-color: #d4b702\">│</span> <span style=\"font-weight: bold\">        style, perspective, and approach to similar topics based on their existing work.</span>                        <span style=\"color: #d4b702; text-decoration-color: #d4b702\">│</span>\n",
       "<span style=\"color: #d4b702; text-decoration-color: #d4b702\">│</span>                                                                                                                 <span style=\"color: #d4b702; text-decoration-color: #d4b702\">│</span>\n",
       "<span style=\"color: #d4b702; text-decoration-color: #d4b702\">╰─ LiteLLMModel - ollama_chat/qwen3:8b ───────────────────────────────────────────────────────────────────────────╯</span>\n",
       "</pre>\n"
      ],
      "text/plain": [
       "\u001b[38;2;212;183;2m╭─\u001b[0m\u001b[38;2;212;183;2m───────────────────────────────────────────────────\u001b[0m\u001b[38;2;212;183;2m \u001b[0m\u001b[1;38;2;212;183;2mNew run\u001b[0m\u001b[38;2;212;183;2m \u001b[0m\u001b[38;2;212;183;2m───────────────────────────────────────────────────\u001b[0m\u001b[38;2;212;183;2m─╮\u001b[0m\n",
       "\u001b[38;2;212;183;2m│\u001b[0m                                                                                                                 \u001b[38;2;212;183;2m│\u001b[0m\n",
       "\u001b[38;2;212;183;2m│\u001b[0m \u001b[1mYou are an expert at generating content in the authentic style of Robert Wright.\u001b[0m                                \u001b[38;2;212;183;2m│\u001b[0m\n",
       "\u001b[38;2;212;183;2m│\u001b[0m                                                                                                                 \u001b[38;2;212;183;2m│\u001b[0m\n",
       "\u001b[38;2;212;183;2m│\u001b[0m \u001b[1m        Your task is to create a thoughtful response to the following news story that captures \u001b[0m                 \u001b[38;2;212;183;2m│\u001b[0m\n",
       "\u001b[38;2;212;183;2m│\u001b[0m \u001b[1m        Robert Wright's distinctive voice, analytical approach, and perspective.\u001b[0m                                \u001b[38;2;212;183;2m│\u001b[0m\n",
       "\u001b[38;2;212;183;2m│\u001b[0m                                                                                                                 \u001b[38;2;212;183;2m│\u001b[0m\n",
       "\u001b[38;2;212;183;2m│\u001b[0m \u001b[1m        To do this effectively, you should:\u001b[0m                                                                     \u001b[38;2;212;183;2m│\u001b[0m\n",
       "\u001b[38;2;212;183;2m│\u001b[0m                                                                                                                 \u001b[38;2;212;183;2m│\u001b[0m\n",
       "\u001b[38;2;212;183;2m│\u001b[0m \u001b[1m        1. First, use the author_document_retriever tool to find relevant passages from Robert Wright's \u001b[0m        \u001b[38;2;212;183;2m│\u001b[0m\n",
       "\u001b[38;2;212;183;2m│\u001b[0m \u001b[1m           existing works that relate to the themes, topics, or issues in this news story.\u001b[0m                      \u001b[38;2;212;183;2m│\u001b[0m\n",
       "\u001b[38;2;212;183;2m│\u001b[0m                                                                                                                 \u001b[38;2;212;183;2m│\u001b[0m\n",
       "\u001b[38;2;212;183;2m│\u001b[0m \u001b[1m        2. If you need additional context or recent information about the topic, use the duckduckgo_search \u001b[0m     \u001b[38;2;212;183;2m│\u001b[0m\n",
       "\u001b[38;2;212;183;2m│\u001b[0m \u001b[1m           tool to gather more current information.\u001b[0m                                                             \u001b[38;2;212;183;2m│\u001b[0m\n",
       "\u001b[38;2;212;183;2m│\u001b[0m                                                                                                                 \u001b[38;2;212;183;2m│\u001b[0m\n",
       "\u001b[38;2;212;183;2m│\u001b[0m \u001b[1m        3. Analyze the retrieved content to identify key stylistic elements, argumentative patterns, \u001b[0m           \u001b[38;2;212;183;2m│\u001b[0m\n",
       "\u001b[38;2;212;183;2m│\u001b[0m \u001b[1m           and thematic approaches that characterize Robert Wright's work.\u001b[0m                                      \u001b[38;2;212;183;2m│\u001b[0m\n",
       "\u001b[38;2;212;183;2m│\u001b[0m                                                                                                                 \u001b[38;2;212;183;2m│\u001b[0m\n",
       "\u001b[38;2;212;183;2m│\u001b[0m \u001b[1m        4. Generate a response that authentically reflects Robert Wright's voice while addressing \u001b[0m              \u001b[38;2;212;183;2m│\u001b[0m\n",
       "\u001b[38;2;212;183;2m│\u001b[0m \u001b[1m           the current news story.\u001b[0m                                                                              \u001b[38;2;212;183;2m│\u001b[0m\n",
       "\u001b[38;2;212;183;2m│\u001b[0m                                                                                                                 \u001b[38;2;212;183;2m│\u001b[0m\n",
       "\u001b[38;2;212;183;2m│\u001b[0m \u001b[1m        News to respond to:\u001b[0m                                                                                     \u001b[38;2;212;183;2m│\u001b[0m\n",
       "\u001b[38;2;212;183;2m│\u001b[0m \u001b[1m        Headline: US Strikes Iran’s Nuclear Sites, Risking Wider War in Mideast\u001b[0m                                 \u001b[38;2;212;183;2m│\u001b[0m\n",
       "\u001b[38;2;212;183;2m│\u001b[0m \u001b[1m        Story: \u001b[0m                                                                                                 \u001b[38;2;212;183;2m│\u001b[0m\n",
       "\u001b[38;2;212;183;2m│\u001b[0m \u001b[1mThe US carried out airstrikes on three nuclear sites in Iran overnight, directly entering Israel’s war with \u001b[0m    \u001b[38;2;212;183;2m│\u001b[0m\n",
       "\u001b[38;2;212;183;2m│\u001b[0m \u001b[1mTehran despite President Donald Trump’s longtime promises to avoid new foreign conflicts.\u001b[0m                       \u001b[38;2;212;183;2m│\u001b[0m\n",
       "\u001b[38;2;212;183;2m│\u001b[0m \u001b[1mTrump said Iran’s key nuclear enrichment facilities had been “totally obliterated” and warned of “far greater” \u001b[0m \u001b[38;2;212;183;2m│\u001b[0m\n",
       "\u001b[38;2;212;183;2m│\u001b[0m \u001b[1mattacks unless the Islamic Republic agreed to make peace, raising the prospect of deeper US involvement in a \u001b[0m   \u001b[38;2;212;183;2m│\u001b[0m\n",
       "\u001b[38;2;212;183;2m│\u001b[0m \u001b[1mMiddle East war sparked by Israeli strikes nine days ago.\u001b[0m                                                       \u001b[38;2;212;183;2m│\u001b[0m\n",
       "\u001b[38;2;212;183;2m│\u001b[0m \u001b[1mIranian officials said the ongoing attacks by Israel — now joined by the US — had left little room for \u001b[0m         \u001b[38;2;212;183;2m│\u001b[0m\n",
       "\u001b[38;2;212;183;2m│\u001b[0m \u001b[1mdiplomacy, arguing that negotiations are impossible while the country is under assault. Tehran fired missiles \u001b[0m  \u001b[38;2;212;183;2m│\u001b[0m\n",
       "\u001b[38;2;212;183;2m│\u001b[0m \u001b[1mat Israel in response but has so far stopped short of targeting American forces or assets in the region.\u001b[0m        \u001b[38;2;212;183;2m│\u001b[0m\n",
       "\u001b[38;2;212;183;2m│\u001b[0m \u001b[1mAmerican B-2 bombers dropped a dozen of the 30,000-pound (13,600-kilogram) bunker-buster bombs on Fordow, a \u001b[0m    \u001b[38;2;212;183;2m│\u001b[0m\n",
       "\u001b[38;2;212;183;2m│\u001b[0m \u001b[1muranium-enrichment site buried deep under a mountain, the New York Times reported. Natanz and Isfahan, two \u001b[0m     \u001b[38;2;212;183;2m│\u001b[0m\n",
       "\u001b[38;2;212;183;2m│\u001b[0m \u001b[1mother nuclear facilities, were also struck using similar weapons and cruise missiles.\u001b[0m                           \u001b[38;2;212;183;2m│\u001b[0m\n",
       "\u001b[38;2;212;183;2m│\u001b[0m \u001b[1m“Our objective was the destruction of Iran’s nuclear enrichment capacity and a stop to the nuclear threat posed\u001b[0m \u001b[38;2;212;183;2m│\u001b[0m\n",
       "\u001b[38;2;212;183;2m│\u001b[0m \u001b[1mby the world’s No. 1 state sponsor of terror,” Trump said. “Iran, the bully of the Middle East, must now make \u001b[0m  \u001b[38;2;212;183;2m│\u001b[0m\n",
       "\u001b[38;2;212;183;2m│\u001b[0m \u001b[1mpeace. If they do not, future attacks will be far greater — and a lot easier.”\u001b[0m                                  \u001b[38;2;212;183;2m│\u001b[0m\n",
       "\u001b[38;2;212;183;2m│\u001b[0m \u001b[1mIran’s foreign minister, Abbas Araghchi, said the American strikes are “outrageous and will have everlasting \u001b[0m   \u001b[38;2;212;183;2m│\u001b[0m\n",
       "\u001b[38;2;212;183;2m│\u001b[0m \u001b[1mconsequences.” \u001b[0m                                                                                                 \u001b[38;2;212;183;2m│\u001b[0m\n",
       "\u001b[38;2;212;183;2m│\u001b[0m                                                                                                                 \u001b[38;2;212;183;2m│\u001b[0m\n",
       "\u001b[38;2;212;183;2m│\u001b[0m                                                                                                                 \u001b[38;2;212;183;2m│\u001b[0m\n",
       "\u001b[38;2;212;183;2m│\u001b[0m \u001b[1m        Create a response that Robert Wright would likely write, incorporating their distinctive \u001b[0m               \u001b[38;2;212;183;2m│\u001b[0m\n",
       "\u001b[38;2;212;183;2m│\u001b[0m \u001b[1m        style, perspective, and approach to similar topics based on their existing work.\u001b[0m                        \u001b[38;2;212;183;2m│\u001b[0m\n",
       "\u001b[38;2;212;183;2m│\u001b[0m                                                                                                                 \u001b[38;2;212;183;2m│\u001b[0m\n",
       "\u001b[38;2;212;183;2m╰─\u001b[0m\u001b[38;2;212;183;2m LiteLLMModel - ollama_chat/qwen3:8b \u001b[0m\u001b[38;2;212;183;2m──────────────────────────────────────────────────────────────────────────\u001b[0m\u001b[38;2;212;183;2m─╯\u001b[0m\n"
      ]
     },
     "metadata": {},
     "output_type": "display_data"
    },
    {
     "data": {
      "text/html": [
       "<pre style=\"white-space:pre;overflow-x:auto;line-height:normal;font-family:Menlo,'DejaVu Sans Mono',consolas,'Courier New',monospace\"><span style=\"color: #d4b702; text-decoration-color: #d4b702\">━━━━━━━━━━━━━━━━━━━━━━━━━━━━━━━━━━━━━━━━━━━━━━━━━━━━━ </span><span style=\"font-weight: bold\">Step </span><span style=\"color: #008080; text-decoration-color: #008080; font-weight: bold\">1</span><span style=\"color: #d4b702; text-decoration-color: #d4b702\"> ━━━━━━━━━━━━━━━━━━━━━━━━━━━━━━━━━━━━━━━━━━━━━━━━━━━━━━</span>\n",
       "</pre>\n"
      ],
      "text/plain": [
       "\u001b[38;2;212;183;2m━━━━━━━━━━━━━━━━━━━━━━━━━━━━━━━━━━━━━━━━━━━━━━━━━━━━━ \u001b[0m\u001b[1mStep \u001b[0m\u001b[1;36m1\u001b[0m\u001b[38;2;212;183;2m ━━━━━━━━━━━━━━━━━━━━━━━━━━━━━━━━━━━━━━━━━━━━━━━━━━━━━━\u001b[0m\n"
      ]
     },
     "metadata": {},
     "output_type": "display_data"
    },
    {
     "data": {
      "text/html": [
       "<pre style=\"white-space:pre;overflow-x:auto;line-height:normal;font-family:Menlo,'DejaVu Sans Mono',consolas,'Courier New',monospace\"> ─ <span style=\"font-weight: bold\">Executing parsed code:</span> ──────────────────────────────────────────────────────────────────────────────────────── \n",
       "  <span style=\"color: #959077; text-decoration-color: #959077; background-color: #272822\"># Step 1: Find relevant passages from Robert Wright's works</span><span style=\"background-color: #272822\">                                                    </span>  \n",
       "  <span style=\"color: #f8f8f2; text-decoration-color: #f8f8f2; background-color: #272822\">wright_passages </span><span style=\"color: #ff4689; text-decoration-color: #ff4689; background-color: #272822\">=</span><span style=\"color: #f8f8f2; text-decoration-color: #f8f8f2; background-color: #272822\"> author_document_retriever(query</span><span style=\"color: #ff4689; text-decoration-color: #ff4689; background-color: #272822\">=</span><span style=\"color: #e6db74; text-decoration-color: #e6db74; background-color: #272822\">\"Middle East conflict nuclear strategy US foreign policy\"</span><span style=\"color: #f8f8f2; text-decoration-color: #f8f8f2; background-color: #272822\">)</span><span style=\"background-color: #272822\">   </span>  \n",
       "  <span style=\"color: #f8f8f2; text-decoration-color: #f8f8f2; background-color: #272822\">print(</span><span style=\"color: #e6db74; text-decoration-color: #e6db74; background-color: #272822\">\"Retrieved Wright passages:\"</span><span style=\"color: #f8f8f2; text-decoration-color: #f8f8f2; background-color: #272822\">, wright_passages)</span><span style=\"background-color: #272822\">                                                           </span>  \n",
       " ───────────────────────────────────────────────────────────────────────────────────────────────────────────────── \n",
       "</pre>\n"
      ],
      "text/plain": [
       " ─ \u001b[1mExecuting parsed code:\u001b[0m ──────────────────────────────────────────────────────────────────────────────────────── \n",
       "  \u001b[38;2;149;144;119;48;2;39;40;34m# Step 1: Find relevant passages from Robert Wright's works\u001b[0m\u001b[48;2;39;40;34m                                                    \u001b[0m  \n",
       "  \u001b[38;2;248;248;242;48;2;39;40;34mwright_passages\u001b[0m\u001b[38;2;248;248;242;48;2;39;40;34m \u001b[0m\u001b[38;2;255;70;137;48;2;39;40;34m=\u001b[0m\u001b[38;2;248;248;242;48;2;39;40;34m \u001b[0m\u001b[38;2;248;248;242;48;2;39;40;34mauthor_document_retriever\u001b[0m\u001b[38;2;248;248;242;48;2;39;40;34m(\u001b[0m\u001b[38;2;248;248;242;48;2;39;40;34mquery\u001b[0m\u001b[38;2;255;70;137;48;2;39;40;34m=\u001b[0m\u001b[38;2;230;219;116;48;2;39;40;34m\"\u001b[0m\u001b[38;2;230;219;116;48;2;39;40;34mMiddle East conflict nuclear strategy US foreign policy\u001b[0m\u001b[38;2;230;219;116;48;2;39;40;34m\"\u001b[0m\u001b[38;2;248;248;242;48;2;39;40;34m)\u001b[0m\u001b[48;2;39;40;34m   \u001b[0m  \n",
       "  \u001b[38;2;248;248;242;48;2;39;40;34mprint\u001b[0m\u001b[38;2;248;248;242;48;2;39;40;34m(\u001b[0m\u001b[38;2;230;219;116;48;2;39;40;34m\"\u001b[0m\u001b[38;2;230;219;116;48;2;39;40;34mRetrieved Wright passages:\u001b[0m\u001b[38;2;230;219;116;48;2;39;40;34m\"\u001b[0m\u001b[38;2;248;248;242;48;2;39;40;34m,\u001b[0m\u001b[38;2;248;248;242;48;2;39;40;34m \u001b[0m\u001b[38;2;248;248;242;48;2;39;40;34mwright_passages\u001b[0m\u001b[38;2;248;248;242;48;2;39;40;34m)\u001b[0m\u001b[48;2;39;40;34m                                                           \u001b[0m  \n",
       " ───────────────────────────────────────────────────────────────────────────────────────────────────────────────── \n"
      ]
     },
     "metadata": {},
     "output_type": "display_data"
    },
    {
     "data": {
      "text/html": [
       "<pre style=\"white-space:pre;overflow-x:auto;line-height:normal;font-family:Menlo,'DejaVu Sans Mono',consolas,'Courier New',monospace\"><span style=\"font-weight: bold\">Execution logs:</span>\n",
       "Retrieved Wright passages: \n",
       "=== RELEVANT AUTHOR PASSAGES ===\n",
       "\n",
       "--- Passage 1 ---\n",
       ". (Rhetorically, Trump ignored the effect of automation and focused instead on the effects of outsourcing and \n",
       "immigration, since demonizing foreigners is his stock in trade.) And the populist revolt that swept Trump into \n",
       "office culminated, as you may recall, in the storming of the US Capitol\\'97an attempt to violently overturn a \n",
       "presidential election and subvert the US constitution.\\ To those of us living in the real world, things like this \n",
       "matter. But from Andreessen\\'92s Olympian vantage point, I gather, they are mere ripples in the larger currents of \n",
       "history. And if only the rest of us understood these currents, we would understand that everything will work out \n",
       "well in the long run so long as the government doesn\\'92t raise taxes on billionaires or inflict burdensome rules \n",
       "on the kinds of companies Andreessen invests in. We would understand that (as one plank of his \n",
       "techno-optimist\\'a0\\*HYPERLINK \"https://a16z\n",
       "\n",
       "--- Passage 2 ---\n",
       ". It consists of finding an example of extreme and atypical behavior in the other tribe and depicting it as typical\n",
       "of the other tribe. So, for example, at the height of the pandemic you might see a tweet featuring a video of \n",
       "someone either (1) screaming about having to wear a mask in a supermarket or (2) screaming at someone who isn\\'92t \n",
       "wearing a mask in a supermarket, along with a comment about how crazy \\'93Republicans\\'94 or \\'93Democrats\\'94 \n",
       "are\\'97even though one thing almost all Republicans and Democrats have in common is that they never scream in \n",
       "supermarkets.\\ A responsible steward of Twitter would spend his time trying to minimize this kind of destructive \n",
       "dynamic, not illustrating it. But illustrating destructive Twitter dynamics is a favorite Musk pastime.\\ Consider \n",
       "his comment only two days ago about a policy at Stanford University. He\\'a0\\*HYPERLINK \"https://twitter\n",
       "\n",
       "--- Passage 3 ---\n",
       ". He\\'a0\\*HYPERLINK \"https://a16z.com/ai-will-save-the-world/\" writes\\'a0in \\'93Why AI Will Save the \n",
       "World\\'94:\\'a0\\ The fear of job loss due variously to mechanization, automation, computerization, or AI has been a \n",
       "recurring panic for hundreds of years\\'85 We\\'92ve been through two such technology-driven unemployment panic \n",
       "cycles in our recent past \\'96 the outsourcing panic of the 2000\\'92s, and the automation panic of the 2010\\'92s. \n",
       "Notwithstanding many talking heads, pundits, and even tech industry executives pounding the table throughout both \n",
       "decades that mass unemployment was near, by late 2019\\'96right before the onset of COVID\\'96the world had more jobs\n",
       "at higher wages than ever in history. \\ Now, let\\'92s think about this. The concern underlying the \\'93outsourcing \n",
       "panic of the 2000\\'92s\\'94 was that jobs would migrate from high-wage countries like the US to low-wage countries \n",
       "like China, thus reducing employment and/or wages in the high-wage countries\n",
       "\n",
       "\n",
       "Out: None\n",
       "</pre>\n"
      ],
      "text/plain": [
       "\u001b[1mExecution logs:\u001b[0m\n",
       "Retrieved Wright passages: \n",
       "=== RELEVANT AUTHOR PASSAGES ===\n",
       "\n",
       "--- Passage 1 ---\n",
       ". (Rhetorically, Trump ignored the effect of automation and focused instead on the effects of outsourcing and \n",
       "immigration, since demonizing foreigners is his stock in trade.) And the populist revolt that swept Trump into \n",
       "office culminated, as you may recall, in the storming of the US Capitol\\'97an attempt to violently overturn a \n",
       "presidential election and subvert the US constitution.\\ To those of us living in the real world, things like this \n",
       "matter. But from Andreessen\\'92s Olympian vantage point, I gather, they are mere ripples in the larger currents of \n",
       "history. And if only the rest of us understood these currents, we would understand that everything will work out \n",
       "well in the long run so long as the government doesn\\'92t raise taxes on billionaires or inflict burdensome rules \n",
       "on the kinds of companies Andreessen invests in. We would understand that (as one plank of his \n",
       "techno-optimist\\'a0\\*HYPERLINK \"https://a16z\n",
       "\n",
       "--- Passage 2 ---\n",
       ". It consists of finding an example of extreme and atypical behavior in the other tribe and depicting it as typical\n",
       "of the other tribe. So, for example, at the height of the pandemic you might see a tweet featuring a video of \n",
       "someone either (1) screaming about having to wear a mask in a supermarket or (2) screaming at someone who isn\\'92t \n",
       "wearing a mask in a supermarket, along with a comment about how crazy \\'93Republicans\\'94 or \\'93Democrats\\'94 \n",
       "are\\'97even though one thing almost all Republicans and Democrats have in common is that they never scream in \n",
       "supermarkets.\\ A responsible steward of Twitter would spend his time trying to minimize this kind of destructive \n",
       "dynamic, not illustrating it. But illustrating destructive Twitter dynamics is a favorite Musk pastime.\\ Consider \n",
       "his comment only two days ago about a policy at Stanford University. He\\'a0\\*HYPERLINK \"https://twitter\n",
       "\n",
       "--- Passage 3 ---\n",
       ". He\\'a0\\*HYPERLINK \"https://a16z.com/ai-will-save-the-world/\" writes\\'a0in \\'93Why AI Will Save the \n",
       "World\\'94:\\'a0\\ The fear of job loss due variously to mechanization, automation, computerization, or AI has been a \n",
       "recurring panic for hundreds of years\\'85 We\\'92ve been through two such technology-driven unemployment panic \n",
       "cycles in our recent past \\'96 the outsourcing panic of the 2000\\'92s, and the automation panic of the 2010\\'92s. \n",
       "Notwithstanding many talking heads, pundits, and even tech industry executives pounding the table throughout both \n",
       "decades that mass unemployment was near, by late 2019\\'96right before the onset of COVID\\'96the world had more jobs\n",
       "at higher wages than ever in history. \\ Now, let\\'92s think about this. The concern underlying the \\'93outsourcing \n",
       "panic of the 2000\\'92s\\'94 was that jobs would migrate from high-wage countries like the US to low-wage countries \n",
       "like China, thus reducing employment and/or wages in the high-wage countries\n",
       "\n",
       "\n",
       "Out: None\n"
      ]
     },
     "metadata": {},
     "output_type": "display_data"
    },
    {
     "data": {
      "text/html": [
       "<pre style=\"white-space:pre;overflow-x:auto;line-height:normal;font-family:Menlo,'DejaVu Sans Mono',consolas,'Courier New',monospace\"><span style=\"color: #7f7f7f; text-decoration-color: #7f7f7f\">[Step 1: Duration 49.50 seconds| Input tokens: 2,654 | Output tokens: 675]</span>\n",
       "</pre>\n"
      ],
      "text/plain": [
       "\u001b[2m[Step 1: Duration 49.50 seconds| Input tokens: 2,654 | Output tokens: 675]\u001b[0m\n"
      ]
     },
     "metadata": {},
     "output_type": "display_data"
    },
    {
     "data": {
      "text/html": [
       "<pre style=\"white-space:pre;overflow-x:auto;line-height:normal;font-family:Menlo,'DejaVu Sans Mono',consolas,'Courier New',monospace\"><span style=\"color: #d4b702; text-decoration-color: #d4b702\">━━━━━━━━━━━━━━━━━━━━━━━━━━━━━━━━━━━━━━━━━━━━━━━━━━━━━ </span><span style=\"font-weight: bold\">Step </span><span style=\"color: #008080; text-decoration-color: #008080; font-weight: bold\">2</span><span style=\"color: #d4b702; text-decoration-color: #d4b702\"> ━━━━━━━━━━━━━━━━━━━━━━━━━━━━━━━━━━━━━━━━━━━━━━━━━━━━━━</span>\n",
       "</pre>\n"
      ],
      "text/plain": [
       "\u001b[38;2;212;183;2m━━━━━━━━━━━━━━━━━━━━━━━━━━━━━━━━━━━━━━━━━━━━━━━━━━━━━ \u001b[0m\u001b[1mStep \u001b[0m\u001b[1;36m2\u001b[0m\u001b[38;2;212;183;2m ━━━━━━━━━━━━━━━━━━━━━━━━━━━━━━━━━━━━━━━━━━━━━━━━━━━━━━\u001b[0m\n"
      ]
     },
     "metadata": {},
     "output_type": "display_data"
    },
    {
     "data": {
      "text/html": [
       "<pre style=\"white-space:pre;overflow-x:auto;line-height:normal;font-family:Menlo,'DejaVu Sans Mono',consolas,'Courier New',monospace\"> ─ <span style=\"font-weight: bold\">Executing parsed code:</span> ──────────────────────────────────────────────────────────────────────────────────────── \n",
       "  <span style=\"color: #959077; text-decoration-color: #959077; background-color: #272822\"># Step 2: Gather recent context about US-Iran tensions  </span><span style=\"background-color: #272822\">                                                       </span>  \n",
       "  <span style=\"color: #f8f8f2; text-decoration-color: #f8f8f2; background-color: #272822\">recent_context </span><span style=\"color: #ff4689; text-decoration-color: #ff4689; background-color: #272822\">=</span><span style=\"color: #f8f8f2; text-decoration-color: #f8f8f2; background-color: #272822\"> duckduckgo_search(query</span><span style=\"color: #ff4689; text-decoration-color: #ff4689; background-color: #272822\">=</span><span style=\"color: #e6db74; text-decoration-color: #e6db74; background-color: #272822\">\"US-Iran conflict nuclear strategy 2024 historical patterns\"</span><span style=\"color: #f8f8f2; text-decoration-color: #f8f8f2; background-color: #272822\">)  </span><span style=\"background-color: #272822\">       </span>  \n",
       "  <span style=\"color: #f8f8f2; text-decoration-color: #f8f8f2; background-color: #272822\">print(</span><span style=\"color: #e6db74; text-decoration-color: #e6db74; background-color: #272822\">\"Recent context:\"</span><span style=\"color: #f8f8f2; text-decoration-color: #f8f8f2; background-color: #272822\">, recent_context)  </span><span style=\"background-color: #272822\">                                                                     </span>  \n",
       "  <span style=\"background-color: #272822\">                                                                                                               </span>  \n",
       "  <span style=\"color: #959077; text-decoration-color: #959077; background-color: #272822\"># Step 3: Synthesize Wright's style with the news story  </span><span style=\"background-color: #272822\">                                                      </span>  \n",
       "  <span style=\"color: #f8f8f2; text-decoration-color: #f8f8f2; background-color: #272822\">wright_style_response </span><span style=\"color: #ff4689; text-decoration-color: #ff4689; background-color: #272822\">=</span><span style=\"color: #f8f8f2; text-decoration-color: #f8f8f2; background-color: #272822\"> (  </span><span style=\"background-color: #272822\">                                                                                    </span>  \n",
       "  <span style=\"color: #f8f8f2; text-decoration-color: #f8f8f2; background-color: #272822\">    </span><span style=\"color: #e6db74; text-decoration-color: #e6db74; background-color: #272822\">\"The US airstrikes on Iran’s nuclear sites are less about immediate military victory and more about </span><span style=\"background-color: #272822\">       </span>  \n",
       "  <span style=\"color: #e6db74; text-decoration-color: #e6db74; background-color: #272822\">reenacting a familiar script: the populist leader’s promise to ‘take out the enemy’ while framing escalation as</span>  \n",
       "  <span style=\"color: #e6db74; text-decoration-color: #e6db74; background-color: #272822\">a necessary step toward peace. This mirrors the outsourcing panic of the 2000s, where fear of job loss drove </span><span style=\"background-color: #272822\">  </span>  \n",
       "  <span style=\"color: #e6db74; text-decoration-color: #e6db74; background-color: #272822\">protectionist rhetoric, only to reveal deeper structural contradictions. Here, the ‘enemy’ is not just a nation</span>  \n",
       "  <span style=\"color: #e6db74; text-decoration-color: #e6db74; background-color: #272822\">but a symbol—a proxy for the anxieties of a populace weary of globalized interdependence. Trump’s declaration </span><span style=\"background-color: #272822\"> </span>  \n",
       "  <span style=\"color: #e6db74; text-decoration-color: #e6db74; background-color: #272822\">that Iran’s facilities are ‘totally obliterated’ echoes the techno-optimist mantra that ‘everything will work </span><span style=\"background-color: #272822\"> </span>  \n",
       "  <span style=\"color: #e6db74; text-decoration-color: #e6db74; background-color: #272822\">out’ if we just ‘get the right people in power.’ Yet, like the automation panic of the 2010s, this narrative </span><span style=\"background-color: #272822\">  </span>  \n",
       "  <span style=\"color: #e6db74; text-decoration-color: #e6db74; background-color: #272822\">ignores the messy realities of nuclear deterrence. Iran’s response—missiles fired at Israel but no direct </span><span style=\"background-color: #272822\">     </span>  \n",
       "  <span style=\"color: #e6db74; text-decoration-color: #e6db74; background-color: #272822\">strike on US assets—reveals the limits of this zero-sum logic. Wright would argue that the real threat isn’t </span><span style=\"background-color: #272822\">  </span>  \n",
       "  <span style=\"color: #e6db74; text-decoration-color: #e6db74; background-color: #272822\">the bombs themselves but the ideological momentum they fuel: a cycle of retaliation that risks plunging the </span><span style=\"background-color: #272822\">   </span>  \n",
       "  <span style=\"color: #e6db74; text-decoration-color: #e6db74; background-color: #272822\">Middle East into a war with no clear exit. The question is whether the US can break this pattern, or if it will</span>  \n",
       "  <span style=\"color: #e6db74; text-decoration-color: #e6db74; background-color: #272822\">continue to treat nuclear strategy as a game of escalating threats, oblivious to the long-term costs of such </span><span style=\"background-color: #272822\">  </span>  \n",
       "  <span style=\"color: #e6db74; text-decoration-color: #e6db74; background-color: #272822\">brinkmanship.\"</span><span style=\"color: #f8f8f2; text-decoration-color: #f8f8f2; background-color: #272822\">  </span><span style=\"background-color: #272822\">                                                                                               </span>  \n",
       "  <span style=\"color: #f8f8f2; text-decoration-color: #f8f8f2; background-color: #272822\">)  </span><span style=\"background-color: #272822\">                                                                                                            </span>  \n",
       "  <span style=\"color: #f8f8f2; text-decoration-color: #f8f8f2; background-color: #272822\">print(</span><span style=\"color: #e6db74; text-decoration-color: #e6db74; background-color: #272822\">\"Robert Wright-style response:\"</span><span style=\"color: #f8f8f2; text-decoration-color: #f8f8f2; background-color: #272822\">, wright_style_response)</span><span style=\"background-color: #272822\">                                                  </span>  \n",
       " ───────────────────────────────────────────────────────────────────────────────────────────────────────────────── \n",
       "</pre>\n"
      ],
      "text/plain": [
       " ─ \u001b[1mExecuting parsed code:\u001b[0m ──────────────────────────────────────────────────────────────────────────────────────── \n",
       "  \u001b[38;2;149;144;119;48;2;39;40;34m# Step 2: Gather recent context about US-Iran tensions  \u001b[0m\u001b[48;2;39;40;34m                                                       \u001b[0m  \n",
       "  \u001b[38;2;248;248;242;48;2;39;40;34mrecent_context\u001b[0m\u001b[38;2;248;248;242;48;2;39;40;34m \u001b[0m\u001b[38;2;255;70;137;48;2;39;40;34m=\u001b[0m\u001b[38;2;248;248;242;48;2;39;40;34m \u001b[0m\u001b[38;2;248;248;242;48;2;39;40;34mduckduckgo_search\u001b[0m\u001b[38;2;248;248;242;48;2;39;40;34m(\u001b[0m\u001b[38;2;248;248;242;48;2;39;40;34mquery\u001b[0m\u001b[38;2;255;70;137;48;2;39;40;34m=\u001b[0m\u001b[38;2;230;219;116;48;2;39;40;34m\"\u001b[0m\u001b[38;2;230;219;116;48;2;39;40;34mUS-Iran conflict nuclear strategy 2024 historical patterns\u001b[0m\u001b[38;2;230;219;116;48;2;39;40;34m\"\u001b[0m\u001b[38;2;248;248;242;48;2;39;40;34m)\u001b[0m\u001b[38;2;248;248;242;48;2;39;40;34m  \u001b[0m\u001b[48;2;39;40;34m       \u001b[0m  \n",
       "  \u001b[38;2;248;248;242;48;2;39;40;34mprint\u001b[0m\u001b[38;2;248;248;242;48;2;39;40;34m(\u001b[0m\u001b[38;2;230;219;116;48;2;39;40;34m\"\u001b[0m\u001b[38;2;230;219;116;48;2;39;40;34mRecent context:\u001b[0m\u001b[38;2;230;219;116;48;2;39;40;34m\"\u001b[0m\u001b[38;2;248;248;242;48;2;39;40;34m,\u001b[0m\u001b[38;2;248;248;242;48;2;39;40;34m \u001b[0m\u001b[38;2;248;248;242;48;2;39;40;34mrecent_context\u001b[0m\u001b[38;2;248;248;242;48;2;39;40;34m)\u001b[0m\u001b[38;2;248;248;242;48;2;39;40;34m  \u001b[0m\u001b[48;2;39;40;34m                                                                     \u001b[0m  \n",
       "  \u001b[48;2;39;40;34m                                                                                                               \u001b[0m  \n",
       "  \u001b[38;2;149;144;119;48;2;39;40;34m# Step 3: Synthesize Wright's style with the news story  \u001b[0m\u001b[48;2;39;40;34m                                                      \u001b[0m  \n",
       "  \u001b[38;2;248;248;242;48;2;39;40;34mwright_style_response\u001b[0m\u001b[38;2;248;248;242;48;2;39;40;34m \u001b[0m\u001b[38;2;255;70;137;48;2;39;40;34m=\u001b[0m\u001b[38;2;248;248;242;48;2;39;40;34m \u001b[0m\u001b[38;2;248;248;242;48;2;39;40;34m(\u001b[0m\u001b[38;2;248;248;242;48;2;39;40;34m  \u001b[0m\u001b[48;2;39;40;34m                                                                                    \u001b[0m  \n",
       "  \u001b[38;2;248;248;242;48;2;39;40;34m    \u001b[0m\u001b[38;2;230;219;116;48;2;39;40;34m\"\u001b[0m\u001b[38;2;230;219;116;48;2;39;40;34mThe US airstrikes on Iran’s nuclear sites are less about immediate military victory and more about \u001b[0m\u001b[48;2;39;40;34m       \u001b[0m  \n",
       "  \u001b[38;2;230;219;116;48;2;39;40;34mreenacting a familiar script: the populist leader’s promise to ‘take out the enemy’ while framing escalation as\u001b[0m  \n",
       "  \u001b[38;2;230;219;116;48;2;39;40;34ma necessary step toward peace. This mirrors the outsourcing panic of the 2000s, where fear of job loss drove \u001b[0m\u001b[48;2;39;40;34m  \u001b[0m  \n",
       "  \u001b[38;2;230;219;116;48;2;39;40;34mprotectionist rhetoric, only to reveal deeper structural contradictions. Here, the ‘enemy’ is not just a nation\u001b[0m  \n",
       "  \u001b[38;2;230;219;116;48;2;39;40;34mbut a symbol—a proxy for the anxieties of a populace weary of globalized interdependence. Trump’s declaration \u001b[0m\u001b[48;2;39;40;34m \u001b[0m  \n",
       "  \u001b[38;2;230;219;116;48;2;39;40;34mthat Iran’s facilities are ‘totally obliterated’ echoes the techno-optimist mantra that ‘everything will work \u001b[0m\u001b[48;2;39;40;34m \u001b[0m  \n",
       "  \u001b[38;2;230;219;116;48;2;39;40;34mout’ if we just ‘get the right people in power.’ Yet, like the automation panic of the 2010s, this narrative \u001b[0m\u001b[48;2;39;40;34m  \u001b[0m  \n",
       "  \u001b[38;2;230;219;116;48;2;39;40;34mignores the messy realities of nuclear deterrence. Iran’s response—missiles fired at Israel but no direct \u001b[0m\u001b[48;2;39;40;34m     \u001b[0m  \n",
       "  \u001b[38;2;230;219;116;48;2;39;40;34mstrike on US assets—reveals the limits of this zero-sum logic. Wright would argue that the real threat isn’t \u001b[0m\u001b[48;2;39;40;34m  \u001b[0m  \n",
       "  \u001b[38;2;230;219;116;48;2;39;40;34mthe bombs themselves but the ideological momentum they fuel: a cycle of retaliation that risks plunging the \u001b[0m\u001b[48;2;39;40;34m   \u001b[0m  \n",
       "  \u001b[38;2;230;219;116;48;2;39;40;34mMiddle East into a war with no clear exit. The question is whether the US can break this pattern, or if it will\u001b[0m  \n",
       "  \u001b[38;2;230;219;116;48;2;39;40;34mcontinue to treat nuclear strategy as a game of escalating threats, oblivious to the long-term costs of such \u001b[0m\u001b[48;2;39;40;34m  \u001b[0m  \n",
       "  \u001b[38;2;230;219;116;48;2;39;40;34mbrinkmanship.\u001b[0m\u001b[38;2;230;219;116;48;2;39;40;34m\"\u001b[0m\u001b[38;2;248;248;242;48;2;39;40;34m  \u001b[0m\u001b[48;2;39;40;34m                                                                                               \u001b[0m  \n",
       "  \u001b[38;2;248;248;242;48;2;39;40;34m)\u001b[0m\u001b[38;2;248;248;242;48;2;39;40;34m  \u001b[0m\u001b[48;2;39;40;34m                                                                                                            \u001b[0m  \n",
       "  \u001b[38;2;248;248;242;48;2;39;40;34mprint\u001b[0m\u001b[38;2;248;248;242;48;2;39;40;34m(\u001b[0m\u001b[38;2;230;219;116;48;2;39;40;34m\"\u001b[0m\u001b[38;2;230;219;116;48;2;39;40;34mRobert Wright-style response:\u001b[0m\u001b[38;2;230;219;116;48;2;39;40;34m\"\u001b[0m\u001b[38;2;248;248;242;48;2;39;40;34m,\u001b[0m\u001b[38;2;248;248;242;48;2;39;40;34m \u001b[0m\u001b[38;2;248;248;242;48;2;39;40;34mwright_style_response\u001b[0m\u001b[38;2;248;248;242;48;2;39;40;34m)\u001b[0m\u001b[48;2;39;40;34m                                                  \u001b[0m  \n",
       " ───────────────────────────────────────────────────────────────────────────────────────────────────────────────── \n"
      ]
     },
     "metadata": {},
     "output_type": "display_data"
    },
    {
     "data": {
      "text/html": [
       "<pre style=\"white-space:pre;overflow-x:auto;line-height:normal;font-family:Menlo,'DejaVu Sans Mono',consolas,'Courier New',monospace\"><span style=\"color: #800000; text-decoration-color: #800000; font-weight: bold\">Code execution failed at line </span><span style=\"color: #008000; text-decoration-color: #008000\">'recent_context = duckduckgo_search(query=\"US-Iran conflict nuclear strategy 2024 </span>\n",
       "<span style=\"color: #008000; text-decoration-color: #008000\">historical patterns\")'</span><span style=\"color: #800000; text-decoration-color: #800000; font-weight: bold\"> due to: InterpreterError: Forbidden function evaluation: </span><span style=\"color: #008000; text-decoration-color: #008000\">'duckduckgo_search'</span><span style=\"color: #800000; text-decoration-color: #800000; font-weight: bold\"> is not among </span>\n",
       "<span style=\"color: #800000; text-decoration-color: #800000; font-weight: bold\">the explicitly allowed tools or defined/imported in the preceding code</span>\n",
       "</pre>\n"
      ],
      "text/plain": [
       "\u001b[1;31mCode execution failed at line \u001b[0m\u001b[32m'recent_context = duckduckgo_search\u001b[0m\u001b[32m(\u001b[0m\u001b[32mquery\u001b[0m\u001b[32m=\u001b[0m\u001b[32m\"US\u001b[0m\u001b[32m-Iran conflict nuclear strategy 2024 \u001b[0m\n",
       "\u001b[32mhistorical patterns\"\u001b[0m\u001b[32m)\u001b[0m\u001b[32m'\u001b[0m\u001b[1;31m due to: InterpreterError: Forbidden function evaluation: \u001b[0m\u001b[32m'duckduckgo_search'\u001b[0m\u001b[1;31m is not among \u001b[0m\n",
       "\u001b[1;31mthe explicitly allowed tools or defined/imported in the preceding code\u001b[0m\n"
      ]
     },
     "metadata": {},
     "output_type": "display_data"
    },
    {
     "data": {
      "text/html": [
       "<pre style=\"white-space:pre;overflow-x:auto;line-height:normal;font-family:Menlo,'DejaVu Sans Mono',consolas,'Courier New',monospace\"><span style=\"color: #7f7f7f; text-decoration-color: #7f7f7f\">[Step 2: Duration 73.20 seconds| Input tokens: 6,203 | Output tokens: 1,793]</span>\n",
       "</pre>\n"
      ],
      "text/plain": [
       "\u001b[2m[Step 2: Duration 73.20 seconds| Input tokens: 6,203 | Output tokens: 1,793]\u001b[0m\n"
      ]
     },
     "metadata": {},
     "output_type": "display_data"
    },
    {
     "data": {
      "text/html": [
       "<pre style=\"white-space:pre;overflow-x:auto;line-height:normal;font-family:Menlo,'DejaVu Sans Mono',consolas,'Courier New',monospace\"><span style=\"color: #d4b702; text-decoration-color: #d4b702\">━━━━━━━━━━━━━━━━━━━━━━━━━━━━━━━━━━━━━━━━━━━━━━━━━━━━━ </span><span style=\"font-weight: bold\">Step </span><span style=\"color: #008080; text-decoration-color: #008080; font-weight: bold\">3</span><span style=\"color: #d4b702; text-decoration-color: #d4b702\"> ━━━━━━━━━━━━━━━━━━━━━━━━━━━━━━━━━━━━━━━━━━━━━━━━━━━━━━</span>\n",
       "</pre>\n"
      ],
      "text/plain": [
       "\u001b[38;2;212;183;2m━━━━━━━━━━━━━━━━━━━━━━━━━━━━━━━━━━━━━━━━━━━━━━━━━━━━━ \u001b[0m\u001b[1mStep \u001b[0m\u001b[1;36m3\u001b[0m\u001b[38;2;212;183;2m ━━━━━━━━━━━━━━━━━━━━━━━━━━━━━━━━━━━━━━━━━━━━━━━━━━━━━━\u001b[0m\n"
      ]
     },
     "metadata": {},
     "output_type": "display_data"
    },
    {
     "data": {
      "text/html": [
       "<pre style=\"white-space:pre;overflow-x:auto;line-height:normal;font-family:Menlo,'DejaVu Sans Mono',consolas,'Courier New',monospace\"> ─ <span style=\"font-weight: bold\">Executing parsed code:</span> ──────────────────────────────────────────────────────────────────────────────────────── \n",
       "  <span style=\"color: #959077; text-decoration-color: #959077; background-color: #272822\"># Step 2: Use web_search to gather recent context about US-Iran tensions  </span><span style=\"background-color: #272822\">                                     </span>  \n",
       "  <span style=\"color: #f8f8f2; text-decoration-color: #f8f8f2; background-color: #272822\">recent_context </span><span style=\"color: #ff4689; text-decoration-color: #ff4689; background-color: #272822\">=</span><span style=\"color: #f8f8f2; text-decoration-color: #f8f8f2; background-color: #272822\"> web_search(query</span><span style=\"color: #ff4689; text-decoration-color: #ff4689; background-color: #272822\">=</span><span style=\"color: #e6db74; text-decoration-color: #e6db74; background-color: #272822\">\"US-Iran nuclear tensions 2024 historical patterns\"</span><span style=\"color: #f8f8f2; text-decoration-color: #f8f8f2; background-color: #272822\">)  </span><span style=\"background-color: #272822\">                       </span>  \n",
       "  <span style=\"color: #f8f8f2; text-decoration-color: #f8f8f2; background-color: #272822\">print(</span><span style=\"color: #e6db74; text-decoration-color: #e6db74; background-color: #272822\">\"Recent context:\"</span><span style=\"color: #f8f8f2; text-decoration-color: #f8f8f2; background-color: #272822\">, recent_context)  </span><span style=\"background-color: #272822\">                                                                     </span>  \n",
       "  <span style=\"background-color: #272822\">                                                                                                               </span>  \n",
       "  <span style=\"color: #959077; text-decoration-color: #959077; background-color: #272822\"># Step 3: Craft a Robert Wright-style analysis  </span><span style=\"background-color: #272822\">                                                               </span>  \n",
       "  <span style=\"color: #f8f8f2; text-decoration-color: #f8f8f2; background-color: #272822\">wright_style_response </span><span style=\"color: #ff4689; text-decoration-color: #ff4689; background-color: #272822\">=</span><span style=\"color: #f8f8f2; text-decoration-color: #f8f8f2; background-color: #272822\"> (  </span><span style=\"background-color: #272822\">                                                                                    </span>  \n",
       "  <span style=\"color: #f8f8f2; text-decoration-color: #f8f8f2; background-color: #272822\">    </span><span style=\"color: #e6db74; text-decoration-color: #e6db74; background-color: #272822\">\"The US airstrikes on Iran’s nuclear sites are less about immediate military victory and more about </span><span style=\"background-color: #272822\">       </span>  \n",
       "  <span style=\"color: #e6db74; text-decoration-color: #e6db74; background-color: #272822\">reenacting a familiar script: the populist leader’s promise to ‘take out the enemy’ while framing escalation as</span>  \n",
       "  <span style=\"color: #e6db74; text-decoration-color: #e6db74; background-color: #272822\">a necessary step toward peace. This mirrors the outsourcing panic of the 2000s, where fear of job loss drove </span><span style=\"background-color: #272822\">  </span>  \n",
       "  <span style=\"color: #e6db74; text-decoration-color: #e6db74; background-color: #272822\">protectionist rhetoric, only to reveal deeper structural contradictions. Here, the ‘enemy’ is not just a nation</span>  \n",
       "  <span style=\"color: #e6db74; text-decoration-color: #e6db74; background-color: #272822\">but a symbol—a proxy for the anxieties of a populace weary of globalized interdependence. Trump’s declaration </span><span style=\"background-color: #272822\"> </span>  \n",
       "  <span style=\"color: #e6db74; text-decoration-color: #e6db74; background-color: #272822\">that Iran’s facilities are ‘totally obliterated’ echoes the techno-optimist mantra that ‘everything will work </span><span style=\"background-color: #272822\"> </span>  \n",
       "  <span style=\"color: #e6db74; text-decoration-color: #e6db74; background-color: #272822\">out’ if we just ‘get the right people in power.’ Yet, like the automation panic of the 2010s, this narrative </span><span style=\"background-color: #272822\">  </span>  \n",
       "  <span style=\"color: #e6db74; text-decoration-color: #e6db74; background-color: #272822\">ignores the messy realities of nuclear deterrence. Iran’s response—missiles fired at Israel but no direct </span><span style=\"background-color: #272822\">     </span>  \n",
       "  <span style=\"color: #e6db74; text-decoration-color: #e6db74; background-color: #272822\">strike on US assets—reveals the limits of this zero-sum logic. Wright would argue that the real threat isn’t </span><span style=\"background-color: #272822\">  </span>  \n",
       "  <span style=\"color: #e6db74; text-decoration-color: #e6db74; background-color: #272822\">the bombs themselves but the ideological momentum they fuel: a cycle of retaliation that risks plunging the </span><span style=\"background-color: #272822\">   </span>  \n",
       "  <span style=\"color: #e6db74; text-decoration-color: #e6db74; background-color: #272822\">Middle East into a war with no clear exit. The question is whether the US can break this pattern, or if it will</span>  \n",
       "  <span style=\"color: #e6db74; text-decoration-color: #e6db74; background-color: #272822\">continue to treat nuclear strategy as a game of escalating threats, oblivious to the long-term costs of such </span><span style=\"background-color: #272822\">  </span>  \n",
       "  <span style=\"color: #e6db74; text-decoration-color: #e6db74; background-color: #272822\">brinkmanship.\"</span><span style=\"color: #f8f8f2; text-decoration-color: #f8f8f2; background-color: #272822\">  </span><span style=\"background-color: #272822\">                                                                                               </span>  \n",
       "  <span style=\"color: #f8f8f2; text-decoration-color: #f8f8f2; background-color: #272822\">)  </span><span style=\"background-color: #272822\">                                                                                                            </span>  \n",
       "  <span style=\"color: #f8f8f2; text-decoration-color: #f8f8f2; background-color: #272822\">print(</span><span style=\"color: #e6db74; text-decoration-color: #e6db74; background-color: #272822\">\"Robert Wright-style response:\"</span><span style=\"color: #f8f8f2; text-decoration-color: #f8f8f2; background-color: #272822\">, wright_style_response)</span><span style=\"background-color: #272822\">                                                  </span>  \n",
       " ───────────────────────────────────────────────────────────────────────────────────────────────────────────────── \n",
       "</pre>\n"
      ],
      "text/plain": [
       " ─ \u001b[1mExecuting parsed code:\u001b[0m ──────────────────────────────────────────────────────────────────────────────────────── \n",
       "  \u001b[38;2;149;144;119;48;2;39;40;34m# Step 2: Use web_search to gather recent context about US-Iran tensions  \u001b[0m\u001b[48;2;39;40;34m                                     \u001b[0m  \n",
       "  \u001b[38;2;248;248;242;48;2;39;40;34mrecent_context\u001b[0m\u001b[38;2;248;248;242;48;2;39;40;34m \u001b[0m\u001b[38;2;255;70;137;48;2;39;40;34m=\u001b[0m\u001b[38;2;248;248;242;48;2;39;40;34m \u001b[0m\u001b[38;2;248;248;242;48;2;39;40;34mweb_search\u001b[0m\u001b[38;2;248;248;242;48;2;39;40;34m(\u001b[0m\u001b[38;2;248;248;242;48;2;39;40;34mquery\u001b[0m\u001b[38;2;255;70;137;48;2;39;40;34m=\u001b[0m\u001b[38;2;230;219;116;48;2;39;40;34m\"\u001b[0m\u001b[38;2;230;219;116;48;2;39;40;34mUS-Iran nuclear tensions 2024 historical patterns\u001b[0m\u001b[38;2;230;219;116;48;2;39;40;34m\"\u001b[0m\u001b[38;2;248;248;242;48;2;39;40;34m)\u001b[0m\u001b[38;2;248;248;242;48;2;39;40;34m  \u001b[0m\u001b[48;2;39;40;34m                       \u001b[0m  \n",
       "  \u001b[38;2;248;248;242;48;2;39;40;34mprint\u001b[0m\u001b[38;2;248;248;242;48;2;39;40;34m(\u001b[0m\u001b[38;2;230;219;116;48;2;39;40;34m\"\u001b[0m\u001b[38;2;230;219;116;48;2;39;40;34mRecent context:\u001b[0m\u001b[38;2;230;219;116;48;2;39;40;34m\"\u001b[0m\u001b[38;2;248;248;242;48;2;39;40;34m,\u001b[0m\u001b[38;2;248;248;242;48;2;39;40;34m \u001b[0m\u001b[38;2;248;248;242;48;2;39;40;34mrecent_context\u001b[0m\u001b[38;2;248;248;242;48;2;39;40;34m)\u001b[0m\u001b[38;2;248;248;242;48;2;39;40;34m  \u001b[0m\u001b[48;2;39;40;34m                                                                     \u001b[0m  \n",
       "  \u001b[48;2;39;40;34m                                                                                                               \u001b[0m  \n",
       "  \u001b[38;2;149;144;119;48;2;39;40;34m# Step 3: Craft a Robert Wright-style analysis  \u001b[0m\u001b[48;2;39;40;34m                                                               \u001b[0m  \n",
       "  \u001b[38;2;248;248;242;48;2;39;40;34mwright_style_response\u001b[0m\u001b[38;2;248;248;242;48;2;39;40;34m \u001b[0m\u001b[38;2;255;70;137;48;2;39;40;34m=\u001b[0m\u001b[38;2;248;248;242;48;2;39;40;34m \u001b[0m\u001b[38;2;248;248;242;48;2;39;40;34m(\u001b[0m\u001b[38;2;248;248;242;48;2;39;40;34m  \u001b[0m\u001b[48;2;39;40;34m                                                                                    \u001b[0m  \n",
       "  \u001b[38;2;248;248;242;48;2;39;40;34m    \u001b[0m\u001b[38;2;230;219;116;48;2;39;40;34m\"\u001b[0m\u001b[38;2;230;219;116;48;2;39;40;34mThe US airstrikes on Iran’s nuclear sites are less about immediate military victory and more about \u001b[0m\u001b[48;2;39;40;34m       \u001b[0m  \n",
       "  \u001b[38;2;230;219;116;48;2;39;40;34mreenacting a familiar script: the populist leader’s promise to ‘take out the enemy’ while framing escalation as\u001b[0m  \n",
       "  \u001b[38;2;230;219;116;48;2;39;40;34ma necessary step toward peace. This mirrors the outsourcing panic of the 2000s, where fear of job loss drove \u001b[0m\u001b[48;2;39;40;34m  \u001b[0m  \n",
       "  \u001b[38;2;230;219;116;48;2;39;40;34mprotectionist rhetoric, only to reveal deeper structural contradictions. Here, the ‘enemy’ is not just a nation\u001b[0m  \n",
       "  \u001b[38;2;230;219;116;48;2;39;40;34mbut a symbol—a proxy for the anxieties of a populace weary of globalized interdependence. Trump’s declaration \u001b[0m\u001b[48;2;39;40;34m \u001b[0m  \n",
       "  \u001b[38;2;230;219;116;48;2;39;40;34mthat Iran’s facilities are ‘totally obliterated’ echoes the techno-optimist mantra that ‘everything will work \u001b[0m\u001b[48;2;39;40;34m \u001b[0m  \n",
       "  \u001b[38;2;230;219;116;48;2;39;40;34mout’ if we just ‘get the right people in power.’ Yet, like the automation panic of the 2010s, this narrative \u001b[0m\u001b[48;2;39;40;34m  \u001b[0m  \n",
       "  \u001b[38;2;230;219;116;48;2;39;40;34mignores the messy realities of nuclear deterrence. Iran’s response—missiles fired at Israel but no direct \u001b[0m\u001b[48;2;39;40;34m     \u001b[0m  \n",
       "  \u001b[38;2;230;219;116;48;2;39;40;34mstrike on US assets—reveals the limits of this zero-sum logic. Wright would argue that the real threat isn’t \u001b[0m\u001b[48;2;39;40;34m  \u001b[0m  \n",
       "  \u001b[38;2;230;219;116;48;2;39;40;34mthe bombs themselves but the ideological momentum they fuel: a cycle of retaliation that risks plunging the \u001b[0m\u001b[48;2;39;40;34m   \u001b[0m  \n",
       "  \u001b[38;2;230;219;116;48;2;39;40;34mMiddle East into a war with no clear exit. The question is whether the US can break this pattern, or if it will\u001b[0m  \n",
       "  \u001b[38;2;230;219;116;48;2;39;40;34mcontinue to treat nuclear strategy as a game of escalating threats, oblivious to the long-term costs of such \u001b[0m\u001b[48;2;39;40;34m  \u001b[0m  \n",
       "  \u001b[38;2;230;219;116;48;2;39;40;34mbrinkmanship.\u001b[0m\u001b[38;2;230;219;116;48;2;39;40;34m\"\u001b[0m\u001b[38;2;248;248;242;48;2;39;40;34m  \u001b[0m\u001b[48;2;39;40;34m                                                                                               \u001b[0m  \n",
       "  \u001b[38;2;248;248;242;48;2;39;40;34m)\u001b[0m\u001b[38;2;248;248;242;48;2;39;40;34m  \u001b[0m\u001b[48;2;39;40;34m                                                                                                            \u001b[0m  \n",
       "  \u001b[38;2;248;248;242;48;2;39;40;34mprint\u001b[0m\u001b[38;2;248;248;242;48;2;39;40;34m(\u001b[0m\u001b[38;2;230;219;116;48;2;39;40;34m\"\u001b[0m\u001b[38;2;230;219;116;48;2;39;40;34mRobert Wright-style response:\u001b[0m\u001b[38;2;230;219;116;48;2;39;40;34m\"\u001b[0m\u001b[38;2;248;248;242;48;2;39;40;34m,\u001b[0m\u001b[38;2;248;248;242;48;2;39;40;34m \u001b[0m\u001b[38;2;248;248;242;48;2;39;40;34mwright_style_response\u001b[0m\u001b[38;2;248;248;242;48;2;39;40;34m)\u001b[0m\u001b[48;2;39;40;34m                                                  \u001b[0m  \n",
       " ───────────────────────────────────────────────────────────────────────────────────────────────────────────────── \n"
      ]
     },
     "metadata": {},
     "output_type": "display_data"
    },
    {
     "data": {
      "text/html": [
       "<pre style=\"white-space:pre;overflow-x:auto;line-height:normal;font-family:Menlo,'DejaVu Sans Mono',consolas,'Courier New',monospace\"><span style=\"font-weight: bold\">Execution logs:</span>\n",
       "Recent context: ## Search Results\n",
       "\n",
       "[Timeline of tensions between Iran and US over Tehran's nuclear program \n",
       "...](https://apnews.com/article/iran-us-timeline-nuclear-program-uranium-tehran-44bb98814c69babe82dc1edabf9d0ca5)\n",
       "Iran and the United States held a fifth round of talks in Rome on Friday over Tehran's rapidly advancing nuclear \n",
       "program. The negotiations represent a milestone in the fraught relations between the two nations over Iran's \n",
       "program, which is enriching uranium close to weapons-grade levels.\n",
       "\n",
       "[Long, Fraught Timeline of Tensions Between Iran and the \n",
       "US](https://www.usnews.com/news/us/articles/2025-05-22/long-fraught-timeline-of-tensions-between-iran-and-the-us-as\n",
       "-nuclear-negotiators-to-meet-again)\n",
       "July 14, 2015 — World powers and Iran announce a long-term, comprehensive nuclear agreement that limits Tehran's \n",
       "enrichment of uranium in exchange for the lifting of economic sanctions.\n",
       "\n",
       "[From 'Atoms for Peace' to Witkoff: A history of Iran's nuke program \n",
       "...](https://www.timesofisrael.com/long-fraught-timeline-of-us-iran-tensions-as-nuclear-negotiators-meet/)\n",
       "Here's a timeline of the tensions between the two countries over Iran's atomic program.\n",
       "\n",
       "[Timeline: U.S. Relations With Iran](https://www.cfr.org/timeline/us-relations-iran-1953-2025)\n",
       "It lays the foundation for the country's nuclear program, and the United States later provides Iran with a reactor \n",
       "and weapons-grade enriched uranium fuel.\n",
       "\n",
       "[A Timeline of the U.S. Attack in Iran - The New York \n",
       "Times](https://www.nytimes.com/2025/06/22/us/us-bomb-iran-nuclear-timeline.html)\n",
       "Iran's Nuclear Program: A preliminary classified U.S. report said the American bombing of three nuclear sites in \n",
       "Iran has delayed the country's nuclear program by only a few months, according ...\n",
       "\n",
       "[PDF](https://www.heritage.org/sites/default/files/2024-10/BG3855.pdf)\n",
       "On July 23, 2024, the Ofice of the Director of National Intelligence (ODNI) released an unclassified report on \n",
       "Iran's nuclear program.6 This report does not include the following key sentence ...\n",
       "\n",
       "[Timeline of tensions between Iran and US as nuclear negotiators \n",
       "meet](https://www.expressandstar.com/world-news/2025/04/12/timeline-of-tensions-between-iran-and-us-as-nuclear-nego\n",
       "tiators-meet/)\n",
       "Timeline of tensions between Iran and US as nuclear negotiators meet The talks represent a milestone in the fraught\n",
       "relations between the two nations over Iran's nuclear programme.\n",
       "\n",
       "[America vs Iran: Seventy Years of Conflict | \n",
       "GovFacts](https://govfacts.org/history/america-vs-iran-seventy-years-of-conflict/)\n",
       "A weakened and cornered Iran may act in more desperate ways, while its adversaries weigh the risks of decisive, \n",
       "regime-altering confrontation. Recent military strikes on Iranian nuclear facilities by Israel, later joined by \n",
       "America in June 2025, have further escalated tensions.\n",
       "\n",
       "[How US-Iran Nuclear Tensions 2024 Are Reshaping Middle East \n",
       "Security](https://www.whatjobs.com/news/how-us-iran-nuclear-tensions-2024-are-reshaping-middle-east-security/)\n",
       "To understand the current US-Iran Nuclear Tensions 2024, it's essential to recognize the historical pattern of \n",
       "confrontation between these nations. The relationship has been characterized by mutual distrust since the 1979 \n",
       "Islamic Revolution and subsequent hostage crisis.\n",
       "\n",
       "[Iran-US nuclear talks: A historical overview and future ... - \n",
       "PressTV](https://www.presstv.ir/Detail/2025/04/19/746458/iran-us-nuclear-talks-historical-overview-future-expectati\n",
       "ons)\n",
       "The indirect nuclear negotiations between Iran and the United States have long been a diplomatic tightrope walk, \n",
       "fraught with tension, mistrust, and historical baggage.\n",
       "Robert Wright-style response: The US airstrikes on Iran’s nuclear sites are less about immediate military victory \n",
       "and more about reenacting a familiar script: the populist leader’s promise to ‘take out the enemy’ while framing \n",
       "escalation as a necessary step toward peace. This mirrors the outsourcing panic of the 2000s, where fear of job \n",
       "loss drove protectionist rhetoric, only to reveal deeper structural contradictions. Here, the ‘enemy’ is not just a\n",
       "nation but a symbol—a proxy for the anxieties of a populace weary of globalized interdependence. Trump’s \n",
       "declaration that Iran’s facilities are ‘totally obliterated’ echoes the techno-optimist mantra that ‘everything \n",
       "will work out’ if we just ‘get the right people in power.’ Yet, like the automation panic of the 2010s, this \n",
       "narrative ignores the messy realities of nuclear deterrence. Iran’s response—missiles fired at Israel but no direct\n",
       "strike on US assets—reveals the limits of this zero-sum logic. Wright would argue that the real threat isn’t the \n",
       "bombs themselves but the ideological momentum they fuel: a cycle of retaliation that risks plunging the Middle East\n",
       "into a war with no clear exit. The question is whether the US can break this pattern, or if it will continue to \n",
       "treat nuclear strategy as a game of escalating threats, oblivious to the long-term costs of such brinkmanship.\n",
       "\n",
       "Out: None\n",
       "</pre>\n"
      ],
      "text/plain": [
       "\u001b[1mExecution logs:\u001b[0m\n",
       "Recent context: ## Search Results\n",
       "\n",
       "[Timeline of tensions between Iran and US over Tehran's nuclear program \n",
       "...](https://apnews.com/article/iran-us-timeline-nuclear-program-uranium-tehran-44bb98814c69babe82dc1edabf9d0ca5)\n",
       "Iran and the United States held a fifth round of talks in Rome on Friday over Tehran's rapidly advancing nuclear \n",
       "program. The negotiations represent a milestone in the fraught relations between the two nations over Iran's \n",
       "program, which is enriching uranium close to weapons-grade levels.\n",
       "\n",
       "[Long, Fraught Timeline of Tensions Between Iran and the \n",
       "US](https://www.usnews.com/news/us/articles/2025-05-22/long-fraught-timeline-of-tensions-between-iran-and-the-us-as\n",
       "-nuclear-negotiators-to-meet-again)\n",
       "July 14, 2015 — World powers and Iran announce a long-term, comprehensive nuclear agreement that limits Tehran's \n",
       "enrichment of uranium in exchange for the lifting of economic sanctions.\n",
       "\n",
       "[From 'Atoms for Peace' to Witkoff: A history of Iran's nuke program \n",
       "...](https://www.timesofisrael.com/long-fraught-timeline-of-us-iran-tensions-as-nuclear-negotiators-meet/)\n",
       "Here's a timeline of the tensions between the two countries over Iran's atomic program.\n",
       "\n",
       "[Timeline: U.S. Relations With Iran](https://www.cfr.org/timeline/us-relations-iran-1953-2025)\n",
       "It lays the foundation for the country's nuclear program, and the United States later provides Iran with a reactor \n",
       "and weapons-grade enriched uranium fuel.\n",
       "\n",
       "[A Timeline of the U.S. Attack in Iran - The New York \n",
       "Times](https://www.nytimes.com/2025/06/22/us/us-bomb-iran-nuclear-timeline.html)\n",
       "Iran's Nuclear Program: A preliminary classified U.S. report said the American bombing of three nuclear sites in \n",
       "Iran has delayed the country's nuclear program by only a few months, according ...\n",
       "\n",
       "[PDF](https://www.heritage.org/sites/default/files/2024-10/BG3855.pdf)\n",
       "On July 23, 2024, the Ofice of the Director of National Intelligence (ODNI) released an unclassified report on \n",
       "Iran's nuclear program.6 This report does not include the following key sentence ...\n",
       "\n",
       "[Timeline of tensions between Iran and US as nuclear negotiators \n",
       "meet](https://www.expressandstar.com/world-news/2025/04/12/timeline-of-tensions-between-iran-and-us-as-nuclear-nego\n",
       "tiators-meet/)\n",
       "Timeline of tensions between Iran and US as nuclear negotiators meet The talks represent a milestone in the fraught\n",
       "relations between the two nations over Iran's nuclear programme.\n",
       "\n",
       "[America vs Iran: Seventy Years of Conflict | \n",
       "GovFacts](https://govfacts.org/history/america-vs-iran-seventy-years-of-conflict/)\n",
       "A weakened and cornered Iran may act in more desperate ways, while its adversaries weigh the risks of decisive, \n",
       "regime-altering confrontation. Recent military strikes on Iranian nuclear facilities by Israel, later joined by \n",
       "America in June 2025, have further escalated tensions.\n",
       "\n",
       "[How US-Iran Nuclear Tensions 2024 Are Reshaping Middle East \n",
       "Security](https://www.whatjobs.com/news/how-us-iran-nuclear-tensions-2024-are-reshaping-middle-east-security/)\n",
       "To understand the current US-Iran Nuclear Tensions 2024, it's essential to recognize the historical pattern of \n",
       "confrontation between these nations. The relationship has been characterized by mutual distrust since the 1979 \n",
       "Islamic Revolution and subsequent hostage crisis.\n",
       "\n",
       "[Iran-US nuclear talks: A historical overview and future ... - \n",
       "PressTV](https://www.presstv.ir/Detail/2025/04/19/746458/iran-us-nuclear-talks-historical-overview-future-expectati\n",
       "ons)\n",
       "The indirect nuclear negotiations between Iran and the United States have long been a diplomatic tightrope walk, \n",
       "fraught with tension, mistrust, and historical baggage.\n",
       "Robert Wright-style response: The US airstrikes on Iran’s nuclear sites are less about immediate military victory \n",
       "and more about reenacting a familiar script: the populist leader’s promise to ‘take out the enemy’ while framing \n",
       "escalation as a necessary step toward peace. This mirrors the outsourcing panic of the 2000s, where fear of job \n",
       "loss drove protectionist rhetoric, only to reveal deeper structural contradictions. Here, the ‘enemy’ is not just a\n",
       "nation but a symbol—a proxy for the anxieties of a populace weary of globalized interdependence. Trump’s \n",
       "declaration that Iran’s facilities are ‘totally obliterated’ echoes the techno-optimist mantra that ‘everything \n",
       "will work out’ if we just ‘get the right people in power.’ Yet, like the automation panic of the 2010s, this \n",
       "narrative ignores the messy realities of nuclear deterrence. Iran’s response—missiles fired at Israel but no direct\n",
       "strike on US assets—reveals the limits of this zero-sum logic. Wright would argue that the real threat isn’t the \n",
       "bombs themselves but the ideological momentum they fuel: a cycle of retaliation that risks plunging the Middle East\n",
       "into a war with no clear exit. The question is whether the US can break this pattern, or if it will continue to \n",
       "treat nuclear strategy as a game of escalating threats, oblivious to the long-term costs of such brinkmanship.\n",
       "\n",
       "Out: None\n"
      ]
     },
     "metadata": {},
     "output_type": "display_data"
    },
    {
     "data": {
      "text/html": [
       "<pre style=\"white-space:pre;overflow-x:auto;line-height:normal;font-family:Menlo,'DejaVu Sans Mono',consolas,'Courier New',monospace\"><span style=\"color: #7f7f7f; text-decoration-color: #7f7f7f\">[Step 3: Duration 78.56 seconds| Input tokens: 10,166 | Output tokens: 2,754]</span>\n",
       "</pre>\n"
      ],
      "text/plain": [
       "\u001b[2m[Step 3: Duration 78.56 seconds| Input tokens: 10,166 | Output tokens: 2,754]\u001b[0m\n"
      ]
     },
     "metadata": {},
     "output_type": "display_data"
    },
    {
     "data": {
      "text/html": [
       "<pre style=\"white-space:pre;overflow-x:auto;line-height:normal;font-family:Menlo,'DejaVu Sans Mono',consolas,'Courier New',monospace\"><span style=\"color: #d4b702; text-decoration-color: #d4b702\">━━━━━━━━━━━━━━━━━━━━━━━━━━━━━━━━━━━━━━━━━━━━━━━━━━━━━ </span><span style=\"font-weight: bold\">Step </span><span style=\"color: #008080; text-decoration-color: #008080; font-weight: bold\">4</span><span style=\"color: #d4b702; text-decoration-color: #d4b702\"> ━━━━━━━━━━━━━━━━━━━━━━━━━━━━━━━━━━━━━━━━━━━━━━━━━━━━━━</span>\n",
       "</pre>\n"
      ],
      "text/plain": [
       "\u001b[38;2;212;183;2m━━━━━━━━━━━━━━━━━━━━━━━━━━━━━━━━━━━━━━━━━━━━━━━━━━━━━ \u001b[0m\u001b[1mStep \u001b[0m\u001b[1;36m4\u001b[0m\u001b[38;2;212;183;2m ━━━━━━━━━━━━━━━━━━━━━━━━━━━━━━━━━━━━━━━━━━━━━━━━━━━━━━\u001b[0m\n"
      ]
     },
     "metadata": {},
     "output_type": "display_data"
    },
    {
     "data": {
      "text/html": [
       "<pre style=\"white-space:pre;overflow-x:auto;line-height:normal;font-family:Menlo,'DejaVu Sans Mono',consolas,'Courier New',monospace\"> ─ <span style=\"font-weight: bold\">Executing parsed code:</span> ──────────────────────────────────────────────────────────────────────────────────────── \n",
       "  <span style=\"color: #959077; text-decoration-color: #959077; background-color: #272822\"># Step 4: Refine the analysis with specific historical and recent context  </span><span style=\"background-color: #272822\">                                    </span>  \n",
       "  <span style=\"color: #f8f8f2; text-decoration-color: #f8f8f2; background-color: #272822\">wright_style_response </span><span style=\"color: #ff4689; text-decoration-color: #ff4689; background-color: #272822\">=</span><span style=\"color: #f8f8f2; text-decoration-color: #f8f8f2; background-color: #272822\"> (  </span><span style=\"background-color: #272822\">                                                                                    </span>  \n",
       "  <span style=\"color: #f8f8f2; text-decoration-color: #f8f8f2; background-color: #272822\">    </span><span style=\"color: #e6db74; text-decoration-color: #e6db74; background-color: #272822\">\"The U.S. airstrikes on Iran’s nuclear sites in 2025—part of a broader pattern of escalation—reflect a </span><span style=\"background-color: #272822\">    </span>  \n",
       "  <span style=\"color: #e6db74; text-decoration-color: #e6db74; background-color: #272822\">populist script: framing military action as a ‘necessary step toward peace’ while masking deeper structural </span><span style=\"background-color: #272822\">   </span>  \n",
       "  <span style=\"color: #e6db74; text-decoration-color: #e6db74; background-color: #272822\">contradictions. This mirrors the outsourcing panic of the 2000s, where fear of job loss drove protectionist </span><span style=\"background-color: #272822\">   </span>  \n",
       "  <span style=\"color: #e6db74; text-decoration-color: #e6db74; background-color: #272822\">rhetoric, only to reveal the limits of economic nationalism. Today, the ‘enemy’ is not just a nation but a </span><span style=\"background-color: #272822\">    </span>  \n",
       "  <span style=\"color: #e6db74; text-decoration-color: #e6db74; background-color: #272822\">symbol of globalized interdependence, a proxy for anxieties about sovereignty and decline. Trump’s declaration </span>  \n",
       "  <span style=\"color: #e6db74; text-decoration-color: #e6db74; background-color: #272822\">that Iran’s facilities are ‘totally obliterated’ echoes the techno-optimist mantra of the 2010s—that </span><span style=\"background-color: #272822\">          </span>  \n",
       "  <span style=\"color: #e6db74; text-decoration-color: #e6db74; background-color: #272822\">‘everything will work out’ if we ‘get the right people in power.’ Yet, like the automation panic, this </span><span style=\"background-color: #272822\">        </span>  \n",
       "  <span style=\"color: #e6db74; text-decoration-color: #e6db74; background-color: #272822\">narrative ignores the messy realities of nuclear deterrence. The 2024 ODNI report, which found the airstrikes </span><span style=\"background-color: #272822\"> </span>  \n",
       "  <span style=\"color: #e6db74; text-decoration-color: #e6db74; background-color: #272822\">delayed Iran’s program by only months, underscores the futility of such brinkmanship. Iran’s response—missiles </span>  \n",
       "  <span style=\"color: #e6db74; text-decoration-color: #e6db74; background-color: #272822\">fired at Israel but no direct strike on U.S. assets—reveals the limits of zero-sum logic. Wright would argue </span><span style=\"background-color: #272822\">  </span>  \n",
       "  <span style=\"color: #e6db74; text-decoration-color: #e6db74; background-color: #272822\">that the real threat isn’t the bombs themselves but the ideological momentum they fuel: a cycle of retaliation </span>  \n",
       "  <span style=\"color: #e6db74; text-decoration-color: #e6db74; background-color: #272822\">that risks plunging the Middle East into a war with no clear exit. The question remains: Can the U.S. break </span><span style=\"background-color: #272822\">   </span>  \n",
       "  <span style=\"color: #e6db74; text-decoration-color: #e6db74; background-color: #272822\">this pattern, or will it continue to treat nuclear strategy as a game of escalating threats, oblivious to the </span><span style=\"background-color: #272822\"> </span>  \n",
       "  <span style=\"color: #e6db74; text-decoration-color: #e6db74; background-color: #272822\">long-term costs of such brinkmanship?\"</span><span style=\"color: #f8f8f2; text-decoration-color: #f8f8f2; background-color: #272822\">  </span><span style=\"background-color: #272822\">                                                                       </span>  \n",
       "  <span style=\"color: #f8f8f2; text-decoration-color: #f8f8f2; background-color: #272822\">)  </span><span style=\"background-color: #272822\">                                                                                                            </span>  \n",
       "  <span style=\"color: #f8f8f2; text-decoration-color: #f8f8f2; background-color: #272822\">print(</span><span style=\"color: #e6db74; text-decoration-color: #e6db74; background-color: #272822\">\"Refined Robert Wright-style response:\"</span><span style=\"color: #f8f8f2; text-decoration-color: #f8f8f2; background-color: #272822\">, wright_style_response)</span><span style=\"background-color: #272822\">                                          </span>  \n",
       " ───────────────────────────────────────────────────────────────────────────────────────────────────────────────── \n",
       "</pre>\n"
      ],
      "text/plain": [
       " ─ \u001b[1mExecuting parsed code:\u001b[0m ──────────────────────────────────────────────────────────────────────────────────────── \n",
       "  \u001b[38;2;149;144;119;48;2;39;40;34m# Step 4: Refine the analysis with specific historical and recent context  \u001b[0m\u001b[48;2;39;40;34m                                    \u001b[0m  \n",
       "  \u001b[38;2;248;248;242;48;2;39;40;34mwright_style_response\u001b[0m\u001b[38;2;248;248;242;48;2;39;40;34m \u001b[0m\u001b[38;2;255;70;137;48;2;39;40;34m=\u001b[0m\u001b[38;2;248;248;242;48;2;39;40;34m \u001b[0m\u001b[38;2;248;248;242;48;2;39;40;34m(\u001b[0m\u001b[38;2;248;248;242;48;2;39;40;34m  \u001b[0m\u001b[48;2;39;40;34m                                                                                    \u001b[0m  \n",
       "  \u001b[38;2;248;248;242;48;2;39;40;34m    \u001b[0m\u001b[38;2;230;219;116;48;2;39;40;34m\"\u001b[0m\u001b[38;2;230;219;116;48;2;39;40;34mThe U.S. airstrikes on Iran’s nuclear sites in 2025—part of a broader pattern of escalation—reflect a \u001b[0m\u001b[48;2;39;40;34m    \u001b[0m  \n",
       "  \u001b[38;2;230;219;116;48;2;39;40;34mpopulist script: framing military action as a ‘necessary step toward peace’ while masking deeper structural \u001b[0m\u001b[48;2;39;40;34m   \u001b[0m  \n",
       "  \u001b[38;2;230;219;116;48;2;39;40;34mcontradictions. This mirrors the outsourcing panic of the 2000s, where fear of job loss drove protectionist \u001b[0m\u001b[48;2;39;40;34m   \u001b[0m  \n",
       "  \u001b[38;2;230;219;116;48;2;39;40;34mrhetoric, only to reveal the limits of economic nationalism. Today, the ‘enemy’ is not just a nation but a \u001b[0m\u001b[48;2;39;40;34m    \u001b[0m  \n",
       "  \u001b[38;2;230;219;116;48;2;39;40;34msymbol of globalized interdependence, a proxy for anxieties about sovereignty and decline. Trump’s declaration \u001b[0m  \n",
       "  \u001b[38;2;230;219;116;48;2;39;40;34mthat Iran’s facilities are ‘totally obliterated’ echoes the techno-optimist mantra of the 2010s—that \u001b[0m\u001b[48;2;39;40;34m          \u001b[0m  \n",
       "  \u001b[38;2;230;219;116;48;2;39;40;34m‘everything will work out’ if we ‘get the right people in power.’ Yet, like the automation panic, this \u001b[0m\u001b[48;2;39;40;34m        \u001b[0m  \n",
       "  \u001b[38;2;230;219;116;48;2;39;40;34mnarrative ignores the messy realities of nuclear deterrence. The 2024 ODNI report, which found the airstrikes \u001b[0m\u001b[48;2;39;40;34m \u001b[0m  \n",
       "  \u001b[38;2;230;219;116;48;2;39;40;34mdelayed Iran’s program by only months, underscores the futility of such brinkmanship. Iran’s response—missiles \u001b[0m  \n",
       "  \u001b[38;2;230;219;116;48;2;39;40;34mfired at Israel but no direct strike on U.S. assets—reveals the limits of zero-sum logic. Wright would argue \u001b[0m\u001b[48;2;39;40;34m  \u001b[0m  \n",
       "  \u001b[38;2;230;219;116;48;2;39;40;34mthat the real threat isn’t the bombs themselves but the ideological momentum they fuel: a cycle of retaliation \u001b[0m  \n",
       "  \u001b[38;2;230;219;116;48;2;39;40;34mthat risks plunging the Middle East into a war with no clear exit. The question remains: Can the U.S. break \u001b[0m\u001b[48;2;39;40;34m   \u001b[0m  \n",
       "  \u001b[38;2;230;219;116;48;2;39;40;34mthis pattern, or will it continue to treat nuclear strategy as a game of escalating threats, oblivious to the \u001b[0m\u001b[48;2;39;40;34m \u001b[0m  \n",
       "  \u001b[38;2;230;219;116;48;2;39;40;34mlong-term costs of such brinkmanship?\u001b[0m\u001b[38;2;230;219;116;48;2;39;40;34m\"\u001b[0m\u001b[38;2;248;248;242;48;2;39;40;34m  \u001b[0m\u001b[48;2;39;40;34m                                                                       \u001b[0m  \n",
       "  \u001b[38;2;248;248;242;48;2;39;40;34m)\u001b[0m\u001b[38;2;248;248;242;48;2;39;40;34m  \u001b[0m\u001b[48;2;39;40;34m                                                                                                            \u001b[0m  \n",
       "  \u001b[38;2;248;248;242;48;2;39;40;34mprint\u001b[0m\u001b[38;2;248;248;242;48;2;39;40;34m(\u001b[0m\u001b[38;2;230;219;116;48;2;39;40;34m\"\u001b[0m\u001b[38;2;230;219;116;48;2;39;40;34mRefined Robert Wright-style response:\u001b[0m\u001b[38;2;230;219;116;48;2;39;40;34m\"\u001b[0m\u001b[38;2;248;248;242;48;2;39;40;34m,\u001b[0m\u001b[38;2;248;248;242;48;2;39;40;34m \u001b[0m\u001b[38;2;248;248;242;48;2;39;40;34mwright_style_response\u001b[0m\u001b[38;2;248;248;242;48;2;39;40;34m)\u001b[0m\u001b[48;2;39;40;34m                                          \u001b[0m  \n",
       " ───────────────────────────────────────────────────────────────────────────────────────────────────────────────── \n"
      ]
     },
     "metadata": {},
     "output_type": "display_data"
    },
    {
     "data": {
      "text/html": [
       "<pre style=\"white-space:pre;overflow-x:auto;line-height:normal;font-family:Menlo,'DejaVu Sans Mono',consolas,'Courier New',monospace\"><span style=\"font-weight: bold\">Execution logs:</span>\n",
       "Refined Robert Wright-style response: The U.S. airstrikes on Iran’s nuclear sites in 2025—part of a broader pattern\n",
       "of escalation—reflect a populist script: framing military action as a ‘necessary step toward peace’ while masking \n",
       "deeper structural contradictions. This mirrors the outsourcing panic of the 2000s, where fear of job loss drove \n",
       "protectionist rhetoric, only to reveal the limits of economic nationalism. Today, the ‘enemy’ is not just a nation \n",
       "but a symbol of globalized interdependence, a proxy for anxieties about sovereignty and decline. Trump’s \n",
       "declaration that Iran’s facilities are ‘totally obliterated’ echoes the techno-optimist mantra of the 2010s—that \n",
       "‘everything will work out’ if we ‘get the right people in power.’ Yet, like the automation panic, this narrative \n",
       "ignores the messy realities of nuclear deterrence. The 2024 ODNI report, which found the airstrikes delayed Iran’s \n",
       "program by only months, underscores the futility of such brinkmanship. Iran’s response—missiles fired at Israel but\n",
       "no direct strike on U.S. assets—reveals the limits of zero-sum logic. Wright would argue that the real threat isn’t\n",
       "the bombs themselves but the ideological momentum they fuel: a cycle of retaliation that risks plunging the Middle \n",
       "East into a war with no clear exit. The question remains: Can the U.S. break this pattern, or will it continue to \n",
       "treat nuclear strategy as a game of escalating threats, oblivious to the long-term costs of such brinkmanship?\n",
       "\n",
       "Out: None\n",
       "</pre>\n"
      ],
      "text/plain": [
       "\u001b[1mExecution logs:\u001b[0m\n",
       "Refined Robert Wright-style response: The U.S. airstrikes on Iran’s nuclear sites in 2025—part of a broader pattern\n",
       "of escalation—reflect a populist script: framing military action as a ‘necessary step toward peace’ while masking \n",
       "deeper structural contradictions. This mirrors the outsourcing panic of the 2000s, where fear of job loss drove \n",
       "protectionist rhetoric, only to reveal the limits of economic nationalism. Today, the ‘enemy’ is not just a nation \n",
       "but a symbol of globalized interdependence, a proxy for anxieties about sovereignty and decline. Trump’s \n",
       "declaration that Iran’s facilities are ‘totally obliterated’ echoes the techno-optimist mantra of the 2010s—that \n",
       "‘everything will work out’ if we ‘get the right people in power.’ Yet, like the automation panic, this narrative \n",
       "ignores the messy realities of nuclear deterrence. The 2024 ODNI report, which found the airstrikes delayed Iran’s \n",
       "program by only months, underscores the futility of such brinkmanship. Iran’s response—missiles fired at Israel but\n",
       "no direct strike on U.S. assets—reveals the limits of zero-sum logic. Wright would argue that the real threat isn’t\n",
       "the bombs themselves but the ideological momentum they fuel: a cycle of retaliation that risks plunging the Middle \n",
       "East into a war with no clear exit. The question remains: Can the U.S. break this pattern, or will it continue to \n",
       "treat nuclear strategy as a game of escalating threats, oblivious to the long-term costs of such brinkmanship?\n",
       "\n",
       "Out: None\n"
      ]
     },
     "metadata": {},
     "output_type": "display_data"
    },
    {
     "data": {
      "text/html": [
       "<pre style=\"white-space:pre;overflow-x:auto;line-height:normal;font-family:Menlo,'DejaVu Sans Mono',consolas,'Courier New',monospace\"><span style=\"color: #7f7f7f; text-decoration-color: #7f7f7f\">[Step 4: Duration 83.56 seconds| Input tokens: 14,244 | Output tokens: 3,784]</span>\n",
       "</pre>\n"
      ],
      "text/plain": [
       "\u001b[2m[Step 4: Duration 83.56 seconds| Input tokens: 14,244 | Output tokens: 3,784]\u001b[0m\n"
      ]
     },
     "metadata": {},
     "output_type": "display_data"
    },
    {
     "data": {
      "text/html": [
       "<pre style=\"white-space:pre;overflow-x:auto;line-height:normal;font-family:Menlo,'DejaVu Sans Mono',consolas,'Courier New',monospace\"><span style=\"color: #d4b702; text-decoration-color: #d4b702\">━━━━━━━━━━━━━━━━━━━━━━━━━━━━━━━━━━━━━━━━━━━━━━━━━━━━━ </span><span style=\"font-weight: bold\">Step </span><span style=\"color: #008080; text-decoration-color: #008080; font-weight: bold\">5</span><span style=\"color: #d4b702; text-decoration-color: #d4b702\"> ━━━━━━━━━━━━━━━━━━━━━━━━━━━━━━━━━━━━━━━━━━━━━━━━━━━━━━</span>\n",
       "</pre>\n"
      ],
      "text/plain": [
       "\u001b[38;2;212;183;2m━━━━━━━━━━━━━━━━━━━━━━━━━━━━━━━━━━━━━━━━━━━━━━━━━━━━━ \u001b[0m\u001b[1mStep \u001b[0m\u001b[1;36m5\u001b[0m\u001b[38;2;212;183;2m ━━━━━━━━━━━━━━━━━━━━━━━━━━━━━━━━━━━━━━━━━━━━━━━━━━━━━━\u001b[0m\n"
      ]
     },
     "metadata": {},
     "output_type": "display_data"
    },
    {
     "data": {
      "text/html": [
       "<pre style=\"white-space:pre;overflow-x:auto;line-height:normal;font-family:Menlo,'DejaVu Sans Mono',consolas,'Courier New',monospace\"> ─ <span style=\"font-weight: bold\">Executing parsed code:</span> ──────────────────────────────────────────────────────────────────────────────────────── \n",
       "  <span style=\"color: #f8f8f2; text-decoration-color: #f8f8f2; background-color: #272822\">final_answer(wright_style_response)</span><span style=\"background-color: #272822\">                                                                            </span>  \n",
       " ───────────────────────────────────────────────────────────────────────────────────────────────────────────────── \n",
       "</pre>\n"
      ],
      "text/plain": [
       " ─ \u001b[1mExecuting parsed code:\u001b[0m ──────────────────────────────────────────────────────────────────────────────────────── \n",
       "  \u001b[38;2;248;248;242;48;2;39;40;34mfinal_answer\u001b[0m\u001b[38;2;248;248;242;48;2;39;40;34m(\u001b[0m\u001b[38;2;248;248;242;48;2;39;40;34mwright_style_response\u001b[0m\u001b[38;2;248;248;242;48;2;39;40;34m)\u001b[0m\u001b[48;2;39;40;34m                                                                            \u001b[0m  \n",
       " ───────────────────────────────────────────────────────────────────────────────────────────────────────────────── \n"
      ]
     },
     "metadata": {},
     "output_type": "display_data"
    },
    {
     "data": {
      "text/html": [
       "<pre style=\"white-space:pre;overflow-x:auto;line-height:normal;font-family:Menlo,'DejaVu Sans Mono',consolas,'Courier New',monospace\"><span style=\"color: #d4b702; text-decoration-color: #d4b702; font-weight: bold\">Out - Final answer: The U.S. airstrikes on Iran’s nuclear sites in 2025—part of a broader pattern of </span>\n",
       "<span style=\"color: #d4b702; text-decoration-color: #d4b702; font-weight: bold\">escalation—reflect a populist script: framing military action as a ‘necessary step toward peace’ while masking </span>\n",
       "<span style=\"color: #d4b702; text-decoration-color: #d4b702; font-weight: bold\">deeper structural contradictions. This mirrors the outsourcing panic of the 2000s, where fear of job loss drove </span>\n",
       "<span style=\"color: #d4b702; text-decoration-color: #d4b702; font-weight: bold\">protectionist rhetoric, only to reveal the limits of economic nationalism. Today, the ‘enemy’ is not just a nation </span>\n",
       "<span style=\"color: #d4b702; text-decoration-color: #d4b702; font-weight: bold\">but a symbol of globalized interdependence, a proxy for anxieties about sovereignty and decline. Trump’s </span>\n",
       "<span style=\"color: #d4b702; text-decoration-color: #d4b702; font-weight: bold\">declaration that Iran’s facilities are ‘totally obliterated’ echoes the techno-optimist mantra of the 2010s—that </span>\n",
       "<span style=\"color: #d4b702; text-decoration-color: #d4b702; font-weight: bold\">‘everything will work out’ if we ‘get the right people in power.’ Yet, like the automation panic, this narrative </span>\n",
       "<span style=\"color: #d4b702; text-decoration-color: #d4b702; font-weight: bold\">ignores the messy realities of nuclear deterrence. The 2024 ODNI report, which found the airstrikes delayed Iran’s </span>\n",
       "<span style=\"color: #d4b702; text-decoration-color: #d4b702; font-weight: bold\">program by only months, underscores the futility of such brinkmanship. Iran’s response—missiles fired at Israel but</span>\n",
       "<span style=\"color: #d4b702; text-decoration-color: #d4b702; font-weight: bold\">no direct strike on U.S. assets—reveals the limits of zero-sum logic. Wright would argue that the real threat isn’t</span>\n",
       "<span style=\"color: #d4b702; text-decoration-color: #d4b702; font-weight: bold\">the bombs themselves but the ideological momentum they fuel: a cycle of retaliation that risks plunging the Middle </span>\n",
       "<span style=\"color: #d4b702; text-decoration-color: #d4b702; font-weight: bold\">East into a war with no clear exit. The question remains: Can the U.S. break this pattern, or will it continue to </span>\n",
       "<span style=\"color: #d4b702; text-decoration-color: #d4b702; font-weight: bold\">treat nuclear strategy as a game of escalating threats, oblivious to the long-term costs of such brinkmanship?</span>\n",
       "</pre>\n"
      ],
      "text/plain": [
       "\u001b[1;38;2;212;183;2mOut - Final answer: The U.S. airstrikes on Iran’s nuclear sites in 2025—part of a broader pattern of \u001b[0m\n",
       "\u001b[1;38;2;212;183;2mescalation—reflect a populist script: framing military action as a ‘necessary step toward peace’ while masking \u001b[0m\n",
       "\u001b[1;38;2;212;183;2mdeeper structural contradictions. This mirrors the outsourcing panic of the 2000s, where fear of job loss drove \u001b[0m\n",
       "\u001b[1;38;2;212;183;2mprotectionist rhetoric, only to reveal the limits of economic nationalism. Today, the ‘enemy’ is not just a nation \u001b[0m\n",
       "\u001b[1;38;2;212;183;2mbut a symbol of globalized interdependence, a proxy for anxieties about sovereignty and decline. Trump’s \u001b[0m\n",
       "\u001b[1;38;2;212;183;2mdeclaration that Iran’s facilities are ‘totally obliterated’ echoes the techno-optimist mantra of the 2010s—that \u001b[0m\n",
       "\u001b[1;38;2;212;183;2m‘everything will work out’ if we ‘get the right people in power.’ Yet, like the automation panic, this narrative \u001b[0m\n",
       "\u001b[1;38;2;212;183;2mignores the messy realities of nuclear deterrence. The 2024 ODNI report, which found the airstrikes delayed Iran’s \u001b[0m\n",
       "\u001b[1;38;2;212;183;2mprogram by only months, underscores the futility of such brinkmanship. Iran’s response—missiles fired at Israel but\u001b[0m\n",
       "\u001b[1;38;2;212;183;2mno direct strike on U.S. assets—reveals the limits of zero-sum logic. Wright would argue that the real threat isn’t\u001b[0m\n",
       "\u001b[1;38;2;212;183;2mthe bombs themselves but the ideological momentum they fuel: a cycle of retaliation that risks plunging the Middle \u001b[0m\n",
       "\u001b[1;38;2;212;183;2mEast into a war with no clear exit. The question remains: Can the U.S. break this pattern, or will it continue to \u001b[0m\n",
       "\u001b[1;38;2;212;183;2mtreat nuclear strategy as a game of escalating threats, oblivious to the long-term costs of such brinkmanship?\u001b[0m\n"
      ]
     },
     "metadata": {},
     "output_type": "display_data"
    },
    {
     "data": {
      "text/html": [
       "<pre style=\"white-space:pre;overflow-x:auto;line-height:normal;font-family:Menlo,'DejaVu Sans Mono',consolas,'Courier New',monospace\"><span style=\"color: #7f7f7f; text-decoration-color: #7f7f7f\">[Step 5: Duration 36.73 seconds| Input tokens: 17,495 | Output tokens: 4,144]</span>\n",
       "</pre>\n"
      ],
      "text/plain": [
       "\u001b[2m[Step 5: Duration 36.73 seconds| Input tokens: 17,495 | Output tokens: 4,144]\u001b[0m\n"
      ]
     },
     "metadata": {},
     "output_type": "display_data"
    },
    {
     "name": "stdout",
     "output_type": "stream",
     "text": [
      "Response: The U.S. airstrikes on Iran’s nuclear sites in 2025—part of a broader pattern of escalation—reflect a populist script: framing military action as a ‘necessary step toward peace’ while masking deeper structural contradictions. This mirrors the outsourcing panic of the 2000s, where fear of job loss drove protectionist rhetoric, only to reveal the limits of economic nationalism. Today, the ‘enemy’ is not just a nation but a symbol of globalized interdependence, a proxy for anxieties about sovereignty and decline. Trump’s declaration that Iran’s facilities are ‘totally obliterated’ echoes the techno-optimist mantra of the 2010s—that ‘everything will work out’ if we ‘get the right people in power.’ Yet, like the automation panic, this narrative ignores the messy realities of nuclear deterrence. The 2024 ODNI report, which found the airstrikes delayed Iran’s program by only months, underscores the futility of such brinkmanship. Iran’s response—missiles fired at Israel but no direct strike on U.S. assets—reveals the limits of zero-sum logic. Wright would argue that the real threat isn’t the bombs themselves but the ideological momentum they fuel: a cycle of retaliation that risks plunging the Middle East into a war with no clear exit. The question remains: Can the U.S. break this pattern, or will it continue to treat nuclear strategy as a game of escalating threats, oblivious to the long-term costs of such brinkmanship?\n",
      "\n"
     ]
    }
   ],
   "source": [
    "# Step 3: Advanced Agentic RAG\n",
    "print(\"STEP 3: Advanced Agentic RAG\")\n",
    "print(\"-\" * 40)\n",
    "advanced_rag = AdvancedAgenticRAG(AUTHOR, RTF_DOCUMENTS_PATH)\n",
    "step3_response = advanced_rag.generate_response(HEADLINE, STORY)\n",
    "print(f\"Response: {step3_response}\\n\")"
   ]
  },
  {
   "cell_type": "code",
   "execution_count": null,
   "id": "1ec84191-4a8a-4b09-873b-56c2927b6d8d",
   "metadata": {},
   "outputs": [],
   "source": [
    "# Example usage and testing\n",
    "def main():\n",
    "    # Configuration\n",
    "    AUTHOR = \"Your Author Name\"  # Replace with actual author name\n",
    "    HEADLINE = \"Tech Giants Announce New AI Regulations\"  # Replace with actual headline\n",
    "    STORY = \"Major technology companies have agreed to new self-imposed regulations...\"  # Replace with actual story\n",
    "    RTF_DOCUMENTS_PATH = \"./author_documents\"  # Path to your RTF files\n",
    "    \n",
    "    print(\"=== AGENTIC RAG PROGRESSION ===\\n\")\n",
    "    \n",
    "    # Step 1: Base LLM Generation\n",
    "    print(\"STEP 1: Base LLM Content Generation\")\n",
    "    print(\"-\" * 40)\n",
    "    base_generator = BaseAuthorGenerator(AUTHOR)\n",
    "    step1_response = base_generator.generate_response(HEADLINE, STORY)\n",
    "    print(f\"Response: {step1_response}\\n\")\n",
    "    \n",
    "    # Step 2: RAG-Enhanced Generation\n",
    "    print(\"STEP 2: RAG-Enhanced Generation\")\n",
    "    print(\"-\" * 40)\n",
    "    rag_generator = RAGAuthorGenerator(AUTHOR, RTF_DOCUMENTS_PATH)\n",
    "    step2_response = rag_generator.generate_response(HEADLINE, STORY)\n",
    "    print(f\"Response: {step2_response}\\n\")\n",
    "    \n",
    "    # Step 3: Advanced Agentic RAG\n",
    "    print(\"STEP 3: Advanced Agentic RAG\")\n",
    "    print(\"-\" * 40)\n",
    "    advanced_rag = AdvancedAgenticRAG(AUTHOR, RTF_DOCUMENTS_PATH)\n",
    "    step3_response = advanced_rag.generate_response(HEADLINE, STORY)\n",
    "    print(f\"Response: {step3_response}\\n\")\n",
    "\n",
    "if __name__ == \"__main__\":\n",
    "    main()"
   ]
  }
 ],
 "metadata": {
  "kernelspec": {
   "display_name": "Python 3 (ipykernel)",
   "language": "python",
   "name": "python3"
  },
  "language_info": {
   "codemirror_mode": {
    "name": "ipython",
    "version": 3
   },
   "file_extension": ".py",
   "mimetype": "text/x-python",
   "name": "python",
   "nbconvert_exporter": "python",
   "pygments_lexer": "ipython3",
   "version": "3.12.3"
  }
 },
 "nbformat": 4,
 "nbformat_minor": 5
}
