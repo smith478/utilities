{
 "cells": [
  {
   "cell_type": "markdown",
   "id": "917b27e6-fb33-4698-8675-04a2df39a497",
   "metadata": {},
   "source": [
    "## Selecting a Playlist for the Party Using `smolagents` and a `ToolCallingAgent`\n",
    "\n",
    "Let's revisit the previous example where Alfred started party preparations, but this time we'll use a `ToolCallingAgent` to highlight the difference. We'll build an agent that can search the web using `DuckDuckGo`, just like in our Code Agent example. The only difference is the agent type - the framework handles everything else:"
   ]
  },
  {
   "cell_type": "code",
   "execution_count": null,
   "id": "c317a6e5-877c-49a3-8b6b-d304080828cb",
   "metadata": {},
   "outputs": [],
   "source": [
    "from smolagents import ToolCallingAgent, DuckDuckGoSearchTool\n",
    "from smolagents.models import LiteLLMModel\n",
    "\n",
    "local_model = LiteLLMModel(model_id=\"ollama_chat/qwen3:8b\")\n",
    "\n",
    "agent = ToolCallingAgent(tools=[DuckDuckGoSearchTool()], model=local_model)\n",
    "\n",
    "# Run the agent with your prompt\n",
    "agent.run(\"Search for the best music recommendations for a party at the Wayne's mansion.\")"
   ]
  },
  {
   "cell_type": "code",
   "execution_count": null,
   "id": "dc2470f0-ee73-47ec-8a25-5d9273874f7b",
   "metadata": {},
   "outputs": [],
   "source": []
  }
 ],
 "metadata": {
  "kernelspec": {
   "display_name": "Python 3 (ipykernel)",
   "language": "python",
   "name": "python3"
  },
  "language_info": {
   "codemirror_mode": {
    "name": "ipython",
    "version": 3
   },
   "file_extension": ".py",
   "mimetype": "text/x-python",
   "name": "python",
   "nbconvert_exporter": "python",
   "pygments_lexer": "ipython3",
   "version": "3.12.3"
  }
 },
 "nbformat": 4,
 "nbformat_minor": 5
}
