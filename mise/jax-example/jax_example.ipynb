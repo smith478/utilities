{
 "cells": [
  {
   "cell_type": "code",
   "execution_count": null,
   "id": "505bb7f2-f08f-4eeb-825f-f1330883b248",
   "metadata": {},
   "outputs": [],
   "source": [
    "import jax\n",
    "import jax.numpy as jnp\n",
    "from jax import grad, jit, vmap\n",
    "import matplotlib.pyplot as plt\n",
    "import time"
   ]
  },
  {
   "cell_type": "markdown",
   "id": "3f4a0624-ad77-482e-8b48-44b476487e1d",
   "metadata": {},
   "source": [
    "# Example 1: Basic array operations"
   ]
  },
  {
   "cell_type": "code",
   "execution_count": null,
   "id": "d5374b89-b11f-481d-a167-42f56a728c8f",
   "metadata": {},
   "outputs": [],
   "source": [
    "def basic_operations():\n",
    "    # Create arrays\n",
    "    x = jnp.array([1, 2, 3, 4, 5])\n",
    "    y = jnp.ones((5,))\n",
    "    \n",
    "    # Perform operations\n",
    "    print(\"Addition:\", x + y)\n",
    "    print(\"Matrix multiplication:\", jnp.dot(x, y))\n",
    "    print(\"Element-wise multiplication:\", x * y)"
   ]
  },
  {
   "cell_type": "code",
   "execution_count": null,
   "id": "cf6acd76-d8e2-48d8-bb85-7e227a063ae5",
   "metadata": {},
   "outputs": [],
   "source": [
    "basic_operations()"
   ]
  },
  {
   "cell_type": "markdown",
   "id": "126fdc02-4094-46a8-a4bd-688328d35469",
   "metadata": {},
   "source": [
    "# Example 2: Automatic differentiation"
   ]
  },
  {
   "cell_type": "code",
   "execution_count": null,
   "id": "83480194-c5de-48dd-b046-306181346ece",
   "metadata": {},
   "outputs": [],
   "source": [
    "def square(x):\n",
    "    return x ** 2"
   ]
  },
  {
   "cell_type": "code",
   "execution_count": null,
   "id": "6614de6b-a5ae-4792-968c-ae7631246736",
   "metadata": {},
   "outputs": [],
   "source": [
    "# Get the derivative of the square function\n",
    "d_square = grad(square)"
   ]
  },
  {
   "cell_type": "code",
   "execution_count": null,
   "id": "58901e3e-0eaf-4e18-bd69-02f1fab403bd",
   "metadata": {},
   "outputs": [],
   "source": [
    "x = 3.0\n",
    "print(f\"d/dx(x^2) at x = {x} is {d_square(x)}\")"
   ]
  },
  {
   "cell_type": "markdown",
   "id": "d5399d80-c8ab-4e97-86f8-2567d28cf7d8",
   "metadata": {},
   "source": [
    "# Example 3: Just-in-time compilation"
   ]
  },
  {
   "cell_type": "code",
   "execution_count": null,
   "id": "13039d1c-1385-452c-afe7-99cd1c1791bb",
   "metadata": {},
   "outputs": [],
   "source": [
    "@jit\n",
    "def jitted_computation(x):\n",
    "    return jnp.sum(jnp.sin(x) ** 2)"
   ]
  },
  {
   "cell_type": "code",
   "execution_count": null,
   "id": "2bf9fc96-8353-4425-afc6-59f24489515d",
   "metadata": {},
   "outputs": [],
   "source": [
    "x = jnp.arange(1000000)\n",
    "    \n",
    "# Time without JIT\n",
    "start = time.time()\n",
    "regular_result = jnp.sum(jnp.sin(x) ** 2)\n",
    "print(f\"Regular time: {time.time() - start:.4f} seconds\")\n",
    "\n",
    "# Time with JIT\n",
    "start = time.time()\n",
    "jitted_result = jitted_computation(x)\n",
    "print(f\"JIT time: {time.time() - start:.4f} seconds\")"
   ]
  },
  {
   "cell_type": "markdown",
   "id": "5e8f5092-5600-483c-81e1-539739f3d18c",
   "metadata": {},
   "source": [
    "# Example 4: Vectorization"
   ]
  },
  {
   "cell_type": "code",
   "execution_count": null,
   "id": "839d833d-58a5-4b22-aec9-5201a90bb6f9",
   "metadata": {},
   "outputs": [],
   "source": [
    "@vmap\n",
    "def vectorized_square(x):\n",
    "    return x ** 2"
   ]
  },
  {
   "cell_type": "code",
   "execution_count": null,
   "id": "65436fc8-f0c9-4c90-b55d-4d375a3d2863",
   "metadata": {},
   "outputs": [],
   "source": [
    "x = jnp.array([1., 2., 3., 4., 5.])\n",
    "print(f\"Vectorized square: {vectorized_square(x)}\")"
   ]
  },
  {
   "cell_type": "code",
   "execution_count": null,
   "id": "54e4e594-5e2a-4a9d-8040-822da99b26fd",
   "metadata": {},
   "outputs": [],
   "source": [
    "def main():\n",
    "    #  # Check if GPU is available\n",
    "    print(\"Devices available:\", jax.devices())\n",
    "    \n",
    "    # Simple function to test JAX that returns a scalar for a single input\n",
    "    @jit\n",
    "    def f(x):\n",
    "        return jnp.sin(x) ** 2\n",
    "\n",
    "    # Get the derivative function (works on scalar inputs)\n",
    "    df = grad(f)\n",
    "    \n",
    "    # Vectorize the derivative function to work on arrays\n",
    "    df_vectorized = vmap(df)\n",
    "\n",
    "    # Create data points\n",
    "    x = jnp.linspace(0, 4 * jnp.pi, 100)\n",
    "    y = vmap(f)(x)  # Vectorize the original function too\n",
    "    dy = df_vectorized(x)\n",
    "\n",
    "    # Plot the results\n",
    "    plt.figure(figsize=(10, 6))\n",
    "    plt.plot(x, y, label='f(x) = sin²(x)')\n",
    "    plt.plot(x, dy, label='f\\'(x)')\n",
    "    plt.grid(True)\n",
    "    plt.legend()\n",
    "    plt.title('Function and its derivative using JAX')\n",
    "    plt.show() "
   ]
  },
  {
   "cell_type": "code",
   "execution_count": null,
   "id": "3fece000-d6ba-415f-9b1f-e881df2005b9",
   "metadata": {},
   "outputs": [],
   "source": [
    "main()"
   ]
  },
  {
   "cell_type": "code",
   "execution_count": null,
   "id": "5098b114-7f45-4c87-89a0-61d07951d148",
   "metadata": {},
   "outputs": [],
   "source": []
  }
 ],
 "metadata": {
  "kernelspec": {
   "display_name": "Python 3 (ipykernel)",
   "language": "python",
   "name": "python3"
  },
  "language_info": {
   "codemirror_mode": {
    "name": "ipython",
    "version": 3
   },
   "file_extension": ".py",
   "mimetype": "text/x-python",
   "name": "python",
   "nbconvert_exporter": "python",
   "pygments_lexer": "ipython3",
   "version": "3.11.10"
  }
 },
 "nbformat": 4,
 "nbformat_minor": 5
}
